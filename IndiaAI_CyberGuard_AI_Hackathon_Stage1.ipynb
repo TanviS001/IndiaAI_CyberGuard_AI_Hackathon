{
  "nbformat": 4,
  "nbformat_minor": 0,
  "metadata": {
    "colab": {
      "provenance": [],
      "mount_file_id": "1O-wEiZ16zWYrt_GH_fuboytuDzqORF6s",
      "authorship_tag": "ABX9TyNPAOk4RpA5V5it3OdEGKYa",
      "include_colab_link": true
    },
    "kernelspec": {
      "name": "python3",
      "display_name": "Python 3"
    },
    "language_info": {
      "name": "python"
    }
  },
  "cells": [
    {
      "cell_type": "markdown",
      "metadata": {
        "id": "view-in-github",
        "colab_type": "text"
      },
      "source": [
        "<a href=\"https://colab.research.google.com/github/TanviS001/IndiaAI_CyberGuard_AI_Hackathon/blob/main/IndiaAI_CyberGuard_AI_Hackathon_Stage1.ipynb\" target=\"_parent\"><img src=\"https://colab.research.google.com/assets/colab-badge.svg\" alt=\"Open In Colab\"/></a>"
      ]
    },
    {
      "cell_type": "markdown",
      "source": [
        "# IndiaAI CyberGuard AI Hackathon\n",
        "## Project name : Cyber Justice\n",
        "\n",
        "---\n",
        "\n",
        "### For Stage 1 Submission:\n",
        "\n",
        "#### Problem Statement:\n",
        "- Development of an NLP Model for Text Analytics and classification\n",
        "\n",
        "#### Objective:\n",
        "- To develop an NLP model that categorizes complaint based on victim, type of fraud and other relevant parameters used for text classification and preparing the final model.\n",
        "\n",
        "#### Outputs:\n",
        "- Goal 1. **Text Preprocessing:** Tokenization, stop word removal, stemming, and text\n",
        "cleaning to prepare data.\n",
        "- Goal 2. **Model Development:** Selection of a suitable NLP model for text\n",
        "classification\n",
        "- Goal 3. **Accuracy Measurement:** Evaluate the model based on metrics such as\n",
        "accuracy, precision, recall, and F1-score.\n",
        "\n",
        "---"
      ],
      "metadata": {
        "id": "xNj0Sf_qsck2"
      }
    },
    {
      "cell_type": "markdown",
      "source": [
        "# Introduction :\n",
        "\n",
        "- \"Cyber Justice\" is a project undertaken as a part of 'IndiaAI CyberGuard AI Hackathon 2024'\n",
        "\n",
        "- There are three stages in the hackathon and this notebook represents stage 1 submission.\n",
        "\n",
        "- The stage 1 of this hackathon asks participants to develop a model that can perform classification of complaints into various categories\n",
        "\n",
        "# Project summary :\n",
        "\n",
        "- In this project, the goal is to develop an NLP model that categorizes complaint based on victim, type of fraud and other relevant parameters used for text classification and preparing the final model.\n",
        "- For this purpose I have to achieve 3 goals:\n",
        "    1.   Text Preprocessing\n",
        "    2.   Model Development\n",
        "    3.   Accuracy measurement\n",
        "\n",
        "-  The goals are further divided into tasks wherever applicable\n",
        "\n",
        "    1.  Text Preprocessing consists of tasks like\n",
        "      - Text analysis, preprocessing and cleaning\n",
        "      - Tokenization\n",
        "      - stop word removal\n",
        "      - Stemming\n",
        "\n",
        "    2.  Model development consists of\n",
        "      - Feature encoding (we use label encoding and TF-IDF Vectorizer for feature encoding)\n",
        "      - Model selection (We combine TF-IDF and Logistic regerssion which combined together performs effective NLP)\n",
        "      - Model training (Here the model is trained on numeric data that is obtained after featuer encoding)\n",
        "\n",
        "    3.  Accuracy Measurement\n",
        "      - The model is evaluated on an unseen test dataset, and performance metrics such as accuracy, precision, recall, and F1 score are computed to assess its effectiveness."
      ],
      "metadata": {
        "id": "T44B-9qnRG9d"
      }
    },
    {
      "cell_type": "markdown",
      "source": [
        "# Goal 1. Text Preprocessing\n",
        "Requirements:\n",
        "- Tokenization\n",
        "- Stop word removal\n",
        "- Stemming\n",
        "- Text cleaning\n",
        "\n",
        "Task Workflow:\n",
        "\n",
        "1. Text Cleaning → 2. Tokenization → 3. Stop Word Removal → 4. Stemming"
      ],
      "metadata": {
        "id": "qLMDXl3N05UC"
      }
    },
    {
      "cell_type": "markdown",
      "source": [
        "## Task 1. Text Cleaning\n"
      ],
      "metadata": {
        "id": "dof3yfsQ2bPD"
      }
    },
    {
      "cell_type": "markdown",
      "source": [
        "### **steps**:\n",
        "\n",
        "1. Import libraries\n",
        "2. Read datasets\n",
        "3. Sanity check\n",
        "4. Exploratory Data Analysis\n",
        "5. Missing Value Treatment\n",
        "6. Duplicates value treatment\n",
        "7. Text Cleaning"
      ],
      "metadata": {
        "id": "DfMkfcVX-D-i"
      }
    },
    {
      "cell_type": "markdown",
      "source": [
        "### Step 1 : Importing necessary libraries"
      ],
      "metadata": {
        "id": "dGtzmi5vbHRF"
      }
    },
    {
      "cell_type": "code",
      "source": [
        "import pandas as pd\n",
        "import numpy as np\n",
        "import matplotlib.pyplot as plt\n",
        "import seaborn as sns\n",
        "from sklearn.preprocessing import LabelEncoder\n",
        "import re\n",
        "import string\n",
        "from nltk.tokenize import word_tokenize\n",
        "import nltk\n",
        "from nltk.corpus import stopwords\n",
        "from nltk.stem import PorterStemmer\n",
        "\n",
        "# some libraries are imported locally for better local management"
      ],
      "metadata": {
        "id": "5K5juvm4t3d5"
      },
      "execution_count": 5,
      "outputs": []
    },
    {
      "cell_type": "markdown",
      "source": [
        "### Step 2 : Reading the '.csv' file"
      ],
      "metadata": {
        "id": "D38ef-nGdQ-3"
      }
    },
    {
      "cell_type": "markdown",
      "source": [
        "#### Read \"Training\" dataset"
      ],
      "metadata": {
        "id": "9lSPeY7ewHiJ"
      }
    },
    {
      "cell_type": "code",
      "source": [
        "df_train=pd.read_csv('/content/train.csv')"
      ],
      "metadata": {
        "id": "XsUKzTi6dVtO"
      },
      "execution_count": 6,
      "outputs": []
    },
    {
      "cell_type": "code",
      "source": [
        "df_train.head()"
      ],
      "metadata": {
        "colab": {
          "base_uri": "https://localhost:8080/",
          "height": 206
        },
        "id": "QwfSftjiePyE",
        "outputId": "74e02a57-26c8-46e7-a244-fc46e6111008"
      },
      "execution_count": 7,
      "outputs": [
        {
          "output_type": "execute_result",
          "data": {
            "text/plain": [
              "                                category                       sub_category  \\\n",
              "0  Online and Social Media Related Crime  Cyber Bullying  Stalking  Sexting   \n",
              "1                 Online Financial Fraud                  Fraud CallVishing   \n",
              "2               Online Gambling  Betting           Online Gambling  Betting   \n",
              "3  Online and Social Media Related Crime                   Online Job Fraud   \n",
              "4                 Online Financial Fraud                  Fraud CallVishing   \n",
              "\n",
              "                                  crimeaditionalinfo  \n",
              "0  I had continue received random calls and abusi...  \n",
              "1  The above fraudster is continuously messaging ...  \n",
              "2  He is acting like a police and demanding for m...  \n",
              "3  In apna Job I have applied for job interview f...  \n",
              "4  I received a call from lady stating that she w...  "
            ],
            "text/html": [
              "\n",
              "  <div id=\"df-09b1a3c8-f47c-48fc-9d6f-0484707e27e4\" class=\"colab-df-container\">\n",
              "    <div>\n",
              "<style scoped>\n",
              "    .dataframe tbody tr th:only-of-type {\n",
              "        vertical-align: middle;\n",
              "    }\n",
              "\n",
              "    .dataframe tbody tr th {\n",
              "        vertical-align: top;\n",
              "    }\n",
              "\n",
              "    .dataframe thead th {\n",
              "        text-align: right;\n",
              "    }\n",
              "</style>\n",
              "<table border=\"1\" class=\"dataframe\">\n",
              "  <thead>\n",
              "    <tr style=\"text-align: right;\">\n",
              "      <th></th>\n",
              "      <th>category</th>\n",
              "      <th>sub_category</th>\n",
              "      <th>crimeaditionalinfo</th>\n",
              "    </tr>\n",
              "  </thead>\n",
              "  <tbody>\n",
              "    <tr>\n",
              "      <th>0</th>\n",
              "      <td>Online and Social Media Related Crime</td>\n",
              "      <td>Cyber Bullying  Stalking  Sexting</td>\n",
              "      <td>I had continue received random calls and abusi...</td>\n",
              "    </tr>\n",
              "    <tr>\n",
              "      <th>1</th>\n",
              "      <td>Online Financial Fraud</td>\n",
              "      <td>Fraud CallVishing</td>\n",
              "      <td>The above fraudster is continuously messaging ...</td>\n",
              "    </tr>\n",
              "    <tr>\n",
              "      <th>2</th>\n",
              "      <td>Online Gambling  Betting</td>\n",
              "      <td>Online Gambling  Betting</td>\n",
              "      <td>He is acting like a police and demanding for m...</td>\n",
              "    </tr>\n",
              "    <tr>\n",
              "      <th>3</th>\n",
              "      <td>Online and Social Media Related Crime</td>\n",
              "      <td>Online Job Fraud</td>\n",
              "      <td>In apna Job I have applied for job interview f...</td>\n",
              "    </tr>\n",
              "    <tr>\n",
              "      <th>4</th>\n",
              "      <td>Online Financial Fraud</td>\n",
              "      <td>Fraud CallVishing</td>\n",
              "      <td>I received a call from lady stating that she w...</td>\n",
              "    </tr>\n",
              "  </tbody>\n",
              "</table>\n",
              "</div>\n",
              "    <div class=\"colab-df-buttons\">\n",
              "\n",
              "  <div class=\"colab-df-container\">\n",
              "    <button class=\"colab-df-convert\" onclick=\"convertToInteractive('df-09b1a3c8-f47c-48fc-9d6f-0484707e27e4')\"\n",
              "            title=\"Convert this dataframe to an interactive table.\"\n",
              "            style=\"display:none;\">\n",
              "\n",
              "  <svg xmlns=\"http://www.w3.org/2000/svg\" height=\"24px\" viewBox=\"0 -960 960 960\">\n",
              "    <path d=\"M120-120v-720h720v720H120Zm60-500h600v-160H180v160Zm220 220h160v-160H400v160Zm0 220h160v-160H400v160ZM180-400h160v-160H180v160Zm440 0h160v-160H620v160ZM180-180h160v-160H180v160Zm440 0h160v-160H620v160Z\"/>\n",
              "  </svg>\n",
              "    </button>\n",
              "\n",
              "  <style>\n",
              "    .colab-df-container {\n",
              "      display:flex;\n",
              "      gap: 12px;\n",
              "    }\n",
              "\n",
              "    .colab-df-convert {\n",
              "      background-color: #E8F0FE;\n",
              "      border: none;\n",
              "      border-radius: 50%;\n",
              "      cursor: pointer;\n",
              "      display: none;\n",
              "      fill: #1967D2;\n",
              "      height: 32px;\n",
              "      padding: 0 0 0 0;\n",
              "      width: 32px;\n",
              "    }\n",
              "\n",
              "    .colab-df-convert:hover {\n",
              "      background-color: #E2EBFA;\n",
              "      box-shadow: 0px 1px 2px rgba(60, 64, 67, 0.3), 0px 1px 3px 1px rgba(60, 64, 67, 0.15);\n",
              "      fill: #174EA6;\n",
              "    }\n",
              "\n",
              "    .colab-df-buttons div {\n",
              "      margin-bottom: 4px;\n",
              "    }\n",
              "\n",
              "    [theme=dark] .colab-df-convert {\n",
              "      background-color: #3B4455;\n",
              "      fill: #D2E3FC;\n",
              "    }\n",
              "\n",
              "    [theme=dark] .colab-df-convert:hover {\n",
              "      background-color: #434B5C;\n",
              "      box-shadow: 0px 1px 3px 1px rgba(0, 0, 0, 0.15);\n",
              "      filter: drop-shadow(0px 1px 2px rgba(0, 0, 0, 0.3));\n",
              "      fill: #FFFFFF;\n",
              "    }\n",
              "  </style>\n",
              "\n",
              "    <script>\n",
              "      const buttonEl =\n",
              "        document.querySelector('#df-09b1a3c8-f47c-48fc-9d6f-0484707e27e4 button.colab-df-convert');\n",
              "      buttonEl.style.display =\n",
              "        google.colab.kernel.accessAllowed ? 'block' : 'none';\n",
              "\n",
              "      async function convertToInteractive(key) {\n",
              "        const element = document.querySelector('#df-09b1a3c8-f47c-48fc-9d6f-0484707e27e4');\n",
              "        const dataTable =\n",
              "          await google.colab.kernel.invokeFunction('convertToInteractive',\n",
              "                                                    [key], {});\n",
              "        if (!dataTable) return;\n",
              "\n",
              "        const docLinkHtml = 'Like what you see? Visit the ' +\n",
              "          '<a target=\"_blank\" href=https://colab.research.google.com/notebooks/data_table.ipynb>data table notebook</a>'\n",
              "          + ' to learn more about interactive tables.';\n",
              "        element.innerHTML = '';\n",
              "        dataTable['output_type'] = 'display_data';\n",
              "        await google.colab.output.renderOutput(dataTable, element);\n",
              "        const docLink = document.createElement('div');\n",
              "        docLink.innerHTML = docLinkHtml;\n",
              "        element.appendChild(docLink);\n",
              "      }\n",
              "    </script>\n",
              "  </div>\n",
              "\n",
              "\n",
              "<div id=\"df-448e7522-05d4-4441-be83-0cd3b28d9b5d\">\n",
              "  <button class=\"colab-df-quickchart\" onclick=\"quickchart('df-448e7522-05d4-4441-be83-0cd3b28d9b5d')\"\n",
              "            title=\"Suggest charts\"\n",
              "            style=\"display:none;\">\n",
              "\n",
              "<svg xmlns=\"http://www.w3.org/2000/svg\" height=\"24px\"viewBox=\"0 0 24 24\"\n",
              "     width=\"24px\">\n",
              "    <g>\n",
              "        <path d=\"M19 3H5c-1.1 0-2 .9-2 2v14c0 1.1.9 2 2 2h14c1.1 0 2-.9 2-2V5c0-1.1-.9-2-2-2zM9 17H7v-7h2v7zm4 0h-2V7h2v10zm4 0h-2v-4h2v4z\"/>\n",
              "    </g>\n",
              "</svg>\n",
              "  </button>\n",
              "\n",
              "<style>\n",
              "  .colab-df-quickchart {\n",
              "      --bg-color: #E8F0FE;\n",
              "      --fill-color: #1967D2;\n",
              "      --hover-bg-color: #E2EBFA;\n",
              "      --hover-fill-color: #174EA6;\n",
              "      --disabled-fill-color: #AAA;\n",
              "      --disabled-bg-color: #DDD;\n",
              "  }\n",
              "\n",
              "  [theme=dark] .colab-df-quickchart {\n",
              "      --bg-color: #3B4455;\n",
              "      --fill-color: #D2E3FC;\n",
              "      --hover-bg-color: #434B5C;\n",
              "      --hover-fill-color: #FFFFFF;\n",
              "      --disabled-bg-color: #3B4455;\n",
              "      --disabled-fill-color: #666;\n",
              "  }\n",
              "\n",
              "  .colab-df-quickchart {\n",
              "    background-color: var(--bg-color);\n",
              "    border: none;\n",
              "    border-radius: 50%;\n",
              "    cursor: pointer;\n",
              "    display: none;\n",
              "    fill: var(--fill-color);\n",
              "    height: 32px;\n",
              "    padding: 0;\n",
              "    width: 32px;\n",
              "  }\n",
              "\n",
              "  .colab-df-quickchart:hover {\n",
              "    background-color: var(--hover-bg-color);\n",
              "    box-shadow: 0 1px 2px rgba(60, 64, 67, 0.3), 0 1px 3px 1px rgba(60, 64, 67, 0.15);\n",
              "    fill: var(--button-hover-fill-color);\n",
              "  }\n",
              "\n",
              "  .colab-df-quickchart-complete:disabled,\n",
              "  .colab-df-quickchart-complete:disabled:hover {\n",
              "    background-color: var(--disabled-bg-color);\n",
              "    fill: var(--disabled-fill-color);\n",
              "    box-shadow: none;\n",
              "  }\n",
              "\n",
              "  .colab-df-spinner {\n",
              "    border: 2px solid var(--fill-color);\n",
              "    border-color: transparent;\n",
              "    border-bottom-color: var(--fill-color);\n",
              "    animation:\n",
              "      spin 1s steps(1) infinite;\n",
              "  }\n",
              "\n",
              "  @keyframes spin {\n",
              "    0% {\n",
              "      border-color: transparent;\n",
              "      border-bottom-color: var(--fill-color);\n",
              "      border-left-color: var(--fill-color);\n",
              "    }\n",
              "    20% {\n",
              "      border-color: transparent;\n",
              "      border-left-color: var(--fill-color);\n",
              "      border-top-color: var(--fill-color);\n",
              "    }\n",
              "    30% {\n",
              "      border-color: transparent;\n",
              "      border-left-color: var(--fill-color);\n",
              "      border-top-color: var(--fill-color);\n",
              "      border-right-color: var(--fill-color);\n",
              "    }\n",
              "    40% {\n",
              "      border-color: transparent;\n",
              "      border-right-color: var(--fill-color);\n",
              "      border-top-color: var(--fill-color);\n",
              "    }\n",
              "    60% {\n",
              "      border-color: transparent;\n",
              "      border-right-color: var(--fill-color);\n",
              "    }\n",
              "    80% {\n",
              "      border-color: transparent;\n",
              "      border-right-color: var(--fill-color);\n",
              "      border-bottom-color: var(--fill-color);\n",
              "    }\n",
              "    90% {\n",
              "      border-color: transparent;\n",
              "      border-bottom-color: var(--fill-color);\n",
              "    }\n",
              "  }\n",
              "</style>\n",
              "\n",
              "  <script>\n",
              "    async function quickchart(key) {\n",
              "      const quickchartButtonEl =\n",
              "        document.querySelector('#' + key + ' button');\n",
              "      quickchartButtonEl.disabled = true;  // To prevent multiple clicks.\n",
              "      quickchartButtonEl.classList.add('colab-df-spinner');\n",
              "      try {\n",
              "        const charts = await google.colab.kernel.invokeFunction(\n",
              "            'suggestCharts', [key], {});\n",
              "      } catch (error) {\n",
              "        console.error('Error during call to suggestCharts:', error);\n",
              "      }\n",
              "      quickchartButtonEl.classList.remove('colab-df-spinner');\n",
              "      quickchartButtonEl.classList.add('colab-df-quickchart-complete');\n",
              "    }\n",
              "    (() => {\n",
              "      let quickchartButtonEl =\n",
              "        document.querySelector('#df-448e7522-05d4-4441-be83-0cd3b28d9b5d button');\n",
              "      quickchartButtonEl.style.display =\n",
              "        google.colab.kernel.accessAllowed ? 'block' : 'none';\n",
              "    })();\n",
              "  </script>\n",
              "</div>\n",
              "\n",
              "    </div>\n",
              "  </div>\n"
            ],
            "application/vnd.google.colaboratory.intrinsic+json": {
              "type": "dataframe",
              "variable_name": "df_train",
              "summary": "{\n  \"name\": \"df_train\",\n  \"rows\": 93686,\n  \"fields\": [\n    {\n      \"column\": \"category\",\n      \"properties\": {\n        \"dtype\": \"category\",\n        \"num_unique_values\": 15,\n        \"samples\": [\n          \"Hacking  Damage to computercomputer system etc\",\n          \"Child Pornography CPChild Sexual Abuse Material CSAM\",\n          \"Online and Social Media Related Crime\"\n        ],\n        \"semantic_type\": \"\",\n        \"description\": \"\"\n      }\n    },\n    {\n      \"column\": \"sub_category\",\n      \"properties\": {\n        \"dtype\": \"category\",\n        \"num_unique_values\": 35,\n        \"samples\": [\n          \"Online Trafficking\",\n          \"FakeImpersonating Profile\",\n          \"Tampering with computer source documents\"\n        ],\n        \"semantic_type\": \"\",\n        \"description\": \"\"\n      }\n    },\n    {\n      \"column\": \"crimeaditionalinfo\",\n      \"properties\": {\n        \"dtype\": \"string\",\n        \"num_unique_values\": 85013,\n        \"samples\": [\n          \"I got a call from this unknown number and the person was asking about GPAY and transfer  k to his friend I have disconnected the call and not paid any amount I have also called to  to report the same I have blocked the number as of now but i am sure it was fraudulent and malicious call\",\n          \"My friend mentioned something like this happened to them a few months ago, but I thought it was a one-off. Then, suddenly, I got this weird notification asking me to update my password, but the message didn\\u2019t look like the usual ones I receive from the app. It looked a bit off. It\\u2019s hard to explain, but it felt like someone was inside my account, doing things while I wasn\\u2019t even online. The more I tried to fix it, the more problems came up. My social media was notifiction, and then I got locked out of everything. The worst part is, I don\\u2019t even know who to trust anymore. Friends, family, everyone\\u2019s acting strange. It\\u2019s affecting my relationships and my mental health. Even my phone isn\\u2019t working right anymore. It\\u2019s so stange how everything just fell apart after that one email.\",\n          \"\\r\\nTHEY FRAUD ME IN THE NAME OF INDIAN ARMY OFFICERS VIA PHONEPE TRANSACTIONS FARUD CALLING FROM BELOW GIVEN NUMBER    FRAUD AMOUNT \\r\\n \\r\\n\"\n        ],\n        \"semantic_type\": \"\",\n        \"description\": \"\"\n      }\n    }\n  ]\n}"
            }
          },
          "metadata": {},
          "execution_count": 7
        }
      ]
    },
    {
      "cell_type": "code",
      "source": [
        "df_train.tail()"
      ],
      "metadata": {
        "colab": {
          "base_uri": "https://localhost:8080/",
          "height": 206
        },
        "id": "jQSjOMLveXIi",
        "outputId": "3ef026be-708e-4464-efd2-37833e81b028"
      },
      "execution_count": 8,
      "outputs": [
        {
          "output_type": "execute_result",
          "data": {
            "text/plain": [
              "                                    category                    sub_category  \\\n",
              "93681                 Online Financial Fraud  Internet Banking Related Fraud   \n",
              "93682                 Online Financial Fraud           EWallet Related Fraud   \n",
              "93683                 Online Financial Fraud              UPI Related Frauds   \n",
              "93684  Online and Social Media Related Crime        Online Matrimonial Fraud   \n",
              "93685                 Online Financial Fraud               Fraud CallVishing   \n",
              "\n",
              "                                      crimeaditionalinfo  \n",
              "93681  Identity theft   Smishing SMS Fraud  CreditDeb...  \n",
              "93682  RECEIVED CALL FROM  NUMBER ASKING ABOUT phone ...  \n",
              "93683  Cyber Stalking   Blackmailing   PhoneSMSVOIP C...  \n",
              "93684  Call karke bola ki aapka lotary laga ha aru AC...  \n",
              "93685  There is app name koko loan app they send the ...  "
            ],
            "text/html": [
              "\n",
              "  <div id=\"df-5fe86c00-8ce1-457d-bf52-799d0e1d79ba\" class=\"colab-df-container\">\n",
              "    <div>\n",
              "<style scoped>\n",
              "    .dataframe tbody tr th:only-of-type {\n",
              "        vertical-align: middle;\n",
              "    }\n",
              "\n",
              "    .dataframe tbody tr th {\n",
              "        vertical-align: top;\n",
              "    }\n",
              "\n",
              "    .dataframe thead th {\n",
              "        text-align: right;\n",
              "    }\n",
              "</style>\n",
              "<table border=\"1\" class=\"dataframe\">\n",
              "  <thead>\n",
              "    <tr style=\"text-align: right;\">\n",
              "      <th></th>\n",
              "      <th>category</th>\n",
              "      <th>sub_category</th>\n",
              "      <th>crimeaditionalinfo</th>\n",
              "    </tr>\n",
              "  </thead>\n",
              "  <tbody>\n",
              "    <tr>\n",
              "      <th>93681</th>\n",
              "      <td>Online Financial Fraud</td>\n",
              "      <td>Internet Banking Related Fraud</td>\n",
              "      <td>Identity theft   Smishing SMS Fraud  CreditDeb...</td>\n",
              "    </tr>\n",
              "    <tr>\n",
              "      <th>93682</th>\n",
              "      <td>Online Financial Fraud</td>\n",
              "      <td>EWallet Related Fraud</td>\n",
              "      <td>RECEIVED CALL FROM  NUMBER ASKING ABOUT phone ...</td>\n",
              "    </tr>\n",
              "    <tr>\n",
              "      <th>93683</th>\n",
              "      <td>Online Financial Fraud</td>\n",
              "      <td>UPI Related Frauds</td>\n",
              "      <td>Cyber Stalking   Blackmailing   PhoneSMSVOIP C...</td>\n",
              "    </tr>\n",
              "    <tr>\n",
              "      <th>93684</th>\n",
              "      <td>Online and Social Media Related Crime</td>\n",
              "      <td>Online Matrimonial Fraud</td>\n",
              "      <td>Call karke bola ki aapka lotary laga ha aru AC...</td>\n",
              "    </tr>\n",
              "    <tr>\n",
              "      <th>93685</th>\n",
              "      <td>Online Financial Fraud</td>\n",
              "      <td>Fraud CallVishing</td>\n",
              "      <td>There is app name koko loan app they send the ...</td>\n",
              "    </tr>\n",
              "  </tbody>\n",
              "</table>\n",
              "</div>\n",
              "    <div class=\"colab-df-buttons\">\n",
              "\n",
              "  <div class=\"colab-df-container\">\n",
              "    <button class=\"colab-df-convert\" onclick=\"convertToInteractive('df-5fe86c00-8ce1-457d-bf52-799d0e1d79ba')\"\n",
              "            title=\"Convert this dataframe to an interactive table.\"\n",
              "            style=\"display:none;\">\n",
              "\n",
              "  <svg xmlns=\"http://www.w3.org/2000/svg\" height=\"24px\" viewBox=\"0 -960 960 960\">\n",
              "    <path d=\"M120-120v-720h720v720H120Zm60-500h600v-160H180v160Zm220 220h160v-160H400v160Zm0 220h160v-160H400v160ZM180-400h160v-160H180v160Zm440 0h160v-160H620v160ZM180-180h160v-160H180v160Zm440 0h160v-160H620v160Z\"/>\n",
              "  </svg>\n",
              "    </button>\n",
              "\n",
              "  <style>\n",
              "    .colab-df-container {\n",
              "      display:flex;\n",
              "      gap: 12px;\n",
              "    }\n",
              "\n",
              "    .colab-df-convert {\n",
              "      background-color: #E8F0FE;\n",
              "      border: none;\n",
              "      border-radius: 50%;\n",
              "      cursor: pointer;\n",
              "      display: none;\n",
              "      fill: #1967D2;\n",
              "      height: 32px;\n",
              "      padding: 0 0 0 0;\n",
              "      width: 32px;\n",
              "    }\n",
              "\n",
              "    .colab-df-convert:hover {\n",
              "      background-color: #E2EBFA;\n",
              "      box-shadow: 0px 1px 2px rgba(60, 64, 67, 0.3), 0px 1px 3px 1px rgba(60, 64, 67, 0.15);\n",
              "      fill: #174EA6;\n",
              "    }\n",
              "\n",
              "    .colab-df-buttons div {\n",
              "      margin-bottom: 4px;\n",
              "    }\n",
              "\n",
              "    [theme=dark] .colab-df-convert {\n",
              "      background-color: #3B4455;\n",
              "      fill: #D2E3FC;\n",
              "    }\n",
              "\n",
              "    [theme=dark] .colab-df-convert:hover {\n",
              "      background-color: #434B5C;\n",
              "      box-shadow: 0px 1px 3px 1px rgba(0, 0, 0, 0.15);\n",
              "      filter: drop-shadow(0px 1px 2px rgba(0, 0, 0, 0.3));\n",
              "      fill: #FFFFFF;\n",
              "    }\n",
              "  </style>\n",
              "\n",
              "    <script>\n",
              "      const buttonEl =\n",
              "        document.querySelector('#df-5fe86c00-8ce1-457d-bf52-799d0e1d79ba button.colab-df-convert');\n",
              "      buttonEl.style.display =\n",
              "        google.colab.kernel.accessAllowed ? 'block' : 'none';\n",
              "\n",
              "      async function convertToInteractive(key) {\n",
              "        const element = document.querySelector('#df-5fe86c00-8ce1-457d-bf52-799d0e1d79ba');\n",
              "        const dataTable =\n",
              "          await google.colab.kernel.invokeFunction('convertToInteractive',\n",
              "                                                    [key], {});\n",
              "        if (!dataTable) return;\n",
              "\n",
              "        const docLinkHtml = 'Like what you see? Visit the ' +\n",
              "          '<a target=\"_blank\" href=https://colab.research.google.com/notebooks/data_table.ipynb>data table notebook</a>'\n",
              "          + ' to learn more about interactive tables.';\n",
              "        element.innerHTML = '';\n",
              "        dataTable['output_type'] = 'display_data';\n",
              "        await google.colab.output.renderOutput(dataTable, element);\n",
              "        const docLink = document.createElement('div');\n",
              "        docLink.innerHTML = docLinkHtml;\n",
              "        element.appendChild(docLink);\n",
              "      }\n",
              "    </script>\n",
              "  </div>\n",
              "\n",
              "\n",
              "<div id=\"df-1d997ff6-3806-4d0c-9d17-eb6fcdb07cfe\">\n",
              "  <button class=\"colab-df-quickchart\" onclick=\"quickchart('df-1d997ff6-3806-4d0c-9d17-eb6fcdb07cfe')\"\n",
              "            title=\"Suggest charts\"\n",
              "            style=\"display:none;\">\n",
              "\n",
              "<svg xmlns=\"http://www.w3.org/2000/svg\" height=\"24px\"viewBox=\"0 0 24 24\"\n",
              "     width=\"24px\">\n",
              "    <g>\n",
              "        <path d=\"M19 3H5c-1.1 0-2 .9-2 2v14c0 1.1.9 2 2 2h14c1.1 0 2-.9 2-2V5c0-1.1-.9-2-2-2zM9 17H7v-7h2v7zm4 0h-2V7h2v10zm4 0h-2v-4h2v4z\"/>\n",
              "    </g>\n",
              "</svg>\n",
              "  </button>\n",
              "\n",
              "<style>\n",
              "  .colab-df-quickchart {\n",
              "      --bg-color: #E8F0FE;\n",
              "      --fill-color: #1967D2;\n",
              "      --hover-bg-color: #E2EBFA;\n",
              "      --hover-fill-color: #174EA6;\n",
              "      --disabled-fill-color: #AAA;\n",
              "      --disabled-bg-color: #DDD;\n",
              "  }\n",
              "\n",
              "  [theme=dark] .colab-df-quickchart {\n",
              "      --bg-color: #3B4455;\n",
              "      --fill-color: #D2E3FC;\n",
              "      --hover-bg-color: #434B5C;\n",
              "      --hover-fill-color: #FFFFFF;\n",
              "      --disabled-bg-color: #3B4455;\n",
              "      --disabled-fill-color: #666;\n",
              "  }\n",
              "\n",
              "  .colab-df-quickchart {\n",
              "    background-color: var(--bg-color);\n",
              "    border: none;\n",
              "    border-radius: 50%;\n",
              "    cursor: pointer;\n",
              "    display: none;\n",
              "    fill: var(--fill-color);\n",
              "    height: 32px;\n",
              "    padding: 0;\n",
              "    width: 32px;\n",
              "  }\n",
              "\n",
              "  .colab-df-quickchart:hover {\n",
              "    background-color: var(--hover-bg-color);\n",
              "    box-shadow: 0 1px 2px rgba(60, 64, 67, 0.3), 0 1px 3px 1px rgba(60, 64, 67, 0.15);\n",
              "    fill: var(--button-hover-fill-color);\n",
              "  }\n",
              "\n",
              "  .colab-df-quickchart-complete:disabled,\n",
              "  .colab-df-quickchart-complete:disabled:hover {\n",
              "    background-color: var(--disabled-bg-color);\n",
              "    fill: var(--disabled-fill-color);\n",
              "    box-shadow: none;\n",
              "  }\n",
              "\n",
              "  .colab-df-spinner {\n",
              "    border: 2px solid var(--fill-color);\n",
              "    border-color: transparent;\n",
              "    border-bottom-color: var(--fill-color);\n",
              "    animation:\n",
              "      spin 1s steps(1) infinite;\n",
              "  }\n",
              "\n",
              "  @keyframes spin {\n",
              "    0% {\n",
              "      border-color: transparent;\n",
              "      border-bottom-color: var(--fill-color);\n",
              "      border-left-color: var(--fill-color);\n",
              "    }\n",
              "    20% {\n",
              "      border-color: transparent;\n",
              "      border-left-color: var(--fill-color);\n",
              "      border-top-color: var(--fill-color);\n",
              "    }\n",
              "    30% {\n",
              "      border-color: transparent;\n",
              "      border-left-color: var(--fill-color);\n",
              "      border-top-color: var(--fill-color);\n",
              "      border-right-color: var(--fill-color);\n",
              "    }\n",
              "    40% {\n",
              "      border-color: transparent;\n",
              "      border-right-color: var(--fill-color);\n",
              "      border-top-color: var(--fill-color);\n",
              "    }\n",
              "    60% {\n",
              "      border-color: transparent;\n",
              "      border-right-color: var(--fill-color);\n",
              "    }\n",
              "    80% {\n",
              "      border-color: transparent;\n",
              "      border-right-color: var(--fill-color);\n",
              "      border-bottom-color: var(--fill-color);\n",
              "    }\n",
              "    90% {\n",
              "      border-color: transparent;\n",
              "      border-bottom-color: var(--fill-color);\n",
              "    }\n",
              "  }\n",
              "</style>\n",
              "\n",
              "  <script>\n",
              "    async function quickchart(key) {\n",
              "      const quickchartButtonEl =\n",
              "        document.querySelector('#' + key + ' button');\n",
              "      quickchartButtonEl.disabled = true;  // To prevent multiple clicks.\n",
              "      quickchartButtonEl.classList.add('colab-df-spinner');\n",
              "      try {\n",
              "        const charts = await google.colab.kernel.invokeFunction(\n",
              "            'suggestCharts', [key], {});\n",
              "      } catch (error) {\n",
              "        console.error('Error during call to suggestCharts:', error);\n",
              "      }\n",
              "      quickchartButtonEl.classList.remove('colab-df-spinner');\n",
              "      quickchartButtonEl.classList.add('colab-df-quickchart-complete');\n",
              "    }\n",
              "    (() => {\n",
              "      let quickchartButtonEl =\n",
              "        document.querySelector('#df-1d997ff6-3806-4d0c-9d17-eb6fcdb07cfe button');\n",
              "      quickchartButtonEl.style.display =\n",
              "        google.colab.kernel.accessAllowed ? 'block' : 'none';\n",
              "    })();\n",
              "  </script>\n",
              "</div>\n",
              "\n",
              "    </div>\n",
              "  </div>\n"
            ],
            "application/vnd.google.colaboratory.intrinsic+json": {
              "type": "dataframe",
              "summary": "{\n  \"name\": \"df_train\",\n  \"rows\": 5,\n  \"fields\": [\n    {\n      \"column\": \"category\",\n      \"properties\": {\n        \"dtype\": \"category\",\n        \"num_unique_values\": 2,\n        \"samples\": [\n          \"Online and Social Media Related Crime\",\n          \"Online Financial Fraud\"\n        ],\n        \"semantic_type\": \"\",\n        \"description\": \"\"\n      }\n    },\n    {\n      \"column\": \"sub_category\",\n      \"properties\": {\n        \"dtype\": \"string\",\n        \"num_unique_values\": 5,\n        \"samples\": [\n          \"EWallet Related Fraud\",\n          \"Fraud CallVishing\"\n        ],\n        \"semantic_type\": \"\",\n        \"description\": \"\"\n      }\n    },\n    {\n      \"column\": \"crimeaditionalinfo\",\n      \"properties\": {\n        \"dtype\": \"string\",\n        \"num_unique_values\": 5,\n        \"samples\": [\n          \"RECEIVED CALL FROM  NUMBER ASKING ABOUT phone pay cash back offer and requested money from upi and asked to pay the requesed money from phone pay this happed thrice and total ammount deducted is \",\n          \"There is app name koko loan app they send the money into the account unknowingly without my consent or any loan letter or anything and now they are asking for Rs  this is a fraud loan application and they are abusing me i am a student please help me out\"\n        ],\n        \"semantic_type\": \"\",\n        \"description\": \"\"\n      }\n    }\n  ]\n}"
            }
          },
          "metadata": {},
          "execution_count": 8
        }
      ]
    },
    {
      "cell_type": "markdown",
      "source": [
        "#### Read \"Testing\" dataset"
      ],
      "metadata": {
        "id": "dJ2RzfChw_cC"
      }
    },
    {
      "cell_type": "code",
      "source": [
        "df_test=pd.read_csv('/content/test.csv')"
      ],
      "metadata": {
        "id": "hcosKQ27xN1k"
      },
      "execution_count": 9,
      "outputs": []
    },
    {
      "cell_type": "code",
      "source": [
        "df_test.head()"
      ],
      "metadata": {
        "colab": {
          "base_uri": "https://localhost:8080/",
          "height": 206
        },
        "id": "MyvHPMY1xfdS",
        "outputId": "2abecfa9-f5b4-4ed1-bf9b-615732083179"
      },
      "execution_count": 10,
      "outputs": [
        {
          "output_type": "execute_result",
          "data": {
            "text/plain": [
              "                                    category  \\\n",
              "0  RapeGang Rape RGRSexually Abusive Content   \n",
              "1                     Online Financial Fraud   \n",
              "2             Cyber Attack/ Dependent Crimes   \n",
              "3                     Online Financial Fraud   \n",
              "4                      Any Other Cyber Crime   \n",
              "\n",
              "                           sub_category  \\\n",
              "0                                   NaN   \n",
              "1  DebitCredit Card FraudSim Swap Fraud   \n",
              "2                         SQL Injection   \n",
              "3                     Fraud CallVishing   \n",
              "4                                 Other   \n",
              "\n",
              "                                  crimeaditionalinfo  \n",
              "0  Sir namaskar  mein Ranjit Kumar PatraPaise neh...  \n",
              "1          KOTAK MAHINDRA BANK FRAUD\\r\\nFRAUD AMOUNT  \n",
              "2  The issue actually started when I got this ema...  \n",
              "3  I am amit kumar from karwi chitrakoot I am tot...  \n",
              "4  I have ordered  saree and  blouse from rinki s...  "
            ],
            "text/html": [
              "\n",
              "  <div id=\"df-4206a143-ae99-49c8-9747-e8390412a3b1\" class=\"colab-df-container\">\n",
              "    <div>\n",
              "<style scoped>\n",
              "    .dataframe tbody tr th:only-of-type {\n",
              "        vertical-align: middle;\n",
              "    }\n",
              "\n",
              "    .dataframe tbody tr th {\n",
              "        vertical-align: top;\n",
              "    }\n",
              "\n",
              "    .dataframe thead th {\n",
              "        text-align: right;\n",
              "    }\n",
              "</style>\n",
              "<table border=\"1\" class=\"dataframe\">\n",
              "  <thead>\n",
              "    <tr style=\"text-align: right;\">\n",
              "      <th></th>\n",
              "      <th>category</th>\n",
              "      <th>sub_category</th>\n",
              "      <th>crimeaditionalinfo</th>\n",
              "    </tr>\n",
              "  </thead>\n",
              "  <tbody>\n",
              "    <tr>\n",
              "      <th>0</th>\n",
              "      <td>RapeGang Rape RGRSexually Abusive Content</td>\n",
              "      <td>NaN</td>\n",
              "      <td>Sir namaskar  mein Ranjit Kumar PatraPaise neh...</td>\n",
              "    </tr>\n",
              "    <tr>\n",
              "      <th>1</th>\n",
              "      <td>Online Financial Fraud</td>\n",
              "      <td>DebitCredit Card FraudSim Swap Fraud</td>\n",
              "      <td>KOTAK MAHINDRA BANK FRAUD\\r\\nFRAUD AMOUNT</td>\n",
              "    </tr>\n",
              "    <tr>\n",
              "      <th>2</th>\n",
              "      <td>Cyber Attack/ Dependent Crimes</td>\n",
              "      <td>SQL Injection</td>\n",
              "      <td>The issue actually started when I got this ema...</td>\n",
              "    </tr>\n",
              "    <tr>\n",
              "      <th>3</th>\n",
              "      <td>Online Financial Fraud</td>\n",
              "      <td>Fraud CallVishing</td>\n",
              "      <td>I am amit kumar from karwi chitrakoot I am tot...</td>\n",
              "    </tr>\n",
              "    <tr>\n",
              "      <th>4</th>\n",
              "      <td>Any Other Cyber Crime</td>\n",
              "      <td>Other</td>\n",
              "      <td>I have ordered  saree and  blouse from rinki s...</td>\n",
              "    </tr>\n",
              "  </tbody>\n",
              "</table>\n",
              "</div>\n",
              "    <div class=\"colab-df-buttons\">\n",
              "\n",
              "  <div class=\"colab-df-container\">\n",
              "    <button class=\"colab-df-convert\" onclick=\"convertToInteractive('df-4206a143-ae99-49c8-9747-e8390412a3b1')\"\n",
              "            title=\"Convert this dataframe to an interactive table.\"\n",
              "            style=\"display:none;\">\n",
              "\n",
              "  <svg xmlns=\"http://www.w3.org/2000/svg\" height=\"24px\" viewBox=\"0 -960 960 960\">\n",
              "    <path d=\"M120-120v-720h720v720H120Zm60-500h600v-160H180v160Zm220 220h160v-160H400v160Zm0 220h160v-160H400v160ZM180-400h160v-160H180v160Zm440 0h160v-160H620v160ZM180-180h160v-160H180v160Zm440 0h160v-160H620v160Z\"/>\n",
              "  </svg>\n",
              "    </button>\n",
              "\n",
              "  <style>\n",
              "    .colab-df-container {\n",
              "      display:flex;\n",
              "      gap: 12px;\n",
              "    }\n",
              "\n",
              "    .colab-df-convert {\n",
              "      background-color: #E8F0FE;\n",
              "      border: none;\n",
              "      border-radius: 50%;\n",
              "      cursor: pointer;\n",
              "      display: none;\n",
              "      fill: #1967D2;\n",
              "      height: 32px;\n",
              "      padding: 0 0 0 0;\n",
              "      width: 32px;\n",
              "    }\n",
              "\n",
              "    .colab-df-convert:hover {\n",
              "      background-color: #E2EBFA;\n",
              "      box-shadow: 0px 1px 2px rgba(60, 64, 67, 0.3), 0px 1px 3px 1px rgba(60, 64, 67, 0.15);\n",
              "      fill: #174EA6;\n",
              "    }\n",
              "\n",
              "    .colab-df-buttons div {\n",
              "      margin-bottom: 4px;\n",
              "    }\n",
              "\n",
              "    [theme=dark] .colab-df-convert {\n",
              "      background-color: #3B4455;\n",
              "      fill: #D2E3FC;\n",
              "    }\n",
              "\n",
              "    [theme=dark] .colab-df-convert:hover {\n",
              "      background-color: #434B5C;\n",
              "      box-shadow: 0px 1px 3px 1px rgba(0, 0, 0, 0.15);\n",
              "      filter: drop-shadow(0px 1px 2px rgba(0, 0, 0, 0.3));\n",
              "      fill: #FFFFFF;\n",
              "    }\n",
              "  </style>\n",
              "\n",
              "    <script>\n",
              "      const buttonEl =\n",
              "        document.querySelector('#df-4206a143-ae99-49c8-9747-e8390412a3b1 button.colab-df-convert');\n",
              "      buttonEl.style.display =\n",
              "        google.colab.kernel.accessAllowed ? 'block' : 'none';\n",
              "\n",
              "      async function convertToInteractive(key) {\n",
              "        const element = document.querySelector('#df-4206a143-ae99-49c8-9747-e8390412a3b1');\n",
              "        const dataTable =\n",
              "          await google.colab.kernel.invokeFunction('convertToInteractive',\n",
              "                                                    [key], {});\n",
              "        if (!dataTable) return;\n",
              "\n",
              "        const docLinkHtml = 'Like what you see? Visit the ' +\n",
              "          '<a target=\"_blank\" href=https://colab.research.google.com/notebooks/data_table.ipynb>data table notebook</a>'\n",
              "          + ' to learn more about interactive tables.';\n",
              "        element.innerHTML = '';\n",
              "        dataTable['output_type'] = 'display_data';\n",
              "        await google.colab.output.renderOutput(dataTable, element);\n",
              "        const docLink = document.createElement('div');\n",
              "        docLink.innerHTML = docLinkHtml;\n",
              "        element.appendChild(docLink);\n",
              "      }\n",
              "    </script>\n",
              "  </div>\n",
              "\n",
              "\n",
              "<div id=\"df-3a2c5c54-1ae2-4c57-b106-1dd27f69a578\">\n",
              "  <button class=\"colab-df-quickchart\" onclick=\"quickchart('df-3a2c5c54-1ae2-4c57-b106-1dd27f69a578')\"\n",
              "            title=\"Suggest charts\"\n",
              "            style=\"display:none;\">\n",
              "\n",
              "<svg xmlns=\"http://www.w3.org/2000/svg\" height=\"24px\"viewBox=\"0 0 24 24\"\n",
              "     width=\"24px\">\n",
              "    <g>\n",
              "        <path d=\"M19 3H5c-1.1 0-2 .9-2 2v14c0 1.1.9 2 2 2h14c1.1 0 2-.9 2-2V5c0-1.1-.9-2-2-2zM9 17H7v-7h2v7zm4 0h-2V7h2v10zm4 0h-2v-4h2v4z\"/>\n",
              "    </g>\n",
              "</svg>\n",
              "  </button>\n",
              "\n",
              "<style>\n",
              "  .colab-df-quickchart {\n",
              "      --bg-color: #E8F0FE;\n",
              "      --fill-color: #1967D2;\n",
              "      --hover-bg-color: #E2EBFA;\n",
              "      --hover-fill-color: #174EA6;\n",
              "      --disabled-fill-color: #AAA;\n",
              "      --disabled-bg-color: #DDD;\n",
              "  }\n",
              "\n",
              "  [theme=dark] .colab-df-quickchart {\n",
              "      --bg-color: #3B4455;\n",
              "      --fill-color: #D2E3FC;\n",
              "      --hover-bg-color: #434B5C;\n",
              "      --hover-fill-color: #FFFFFF;\n",
              "      --disabled-bg-color: #3B4455;\n",
              "      --disabled-fill-color: #666;\n",
              "  }\n",
              "\n",
              "  .colab-df-quickchart {\n",
              "    background-color: var(--bg-color);\n",
              "    border: none;\n",
              "    border-radius: 50%;\n",
              "    cursor: pointer;\n",
              "    display: none;\n",
              "    fill: var(--fill-color);\n",
              "    height: 32px;\n",
              "    padding: 0;\n",
              "    width: 32px;\n",
              "  }\n",
              "\n",
              "  .colab-df-quickchart:hover {\n",
              "    background-color: var(--hover-bg-color);\n",
              "    box-shadow: 0 1px 2px rgba(60, 64, 67, 0.3), 0 1px 3px 1px rgba(60, 64, 67, 0.15);\n",
              "    fill: var(--button-hover-fill-color);\n",
              "  }\n",
              "\n",
              "  .colab-df-quickchart-complete:disabled,\n",
              "  .colab-df-quickchart-complete:disabled:hover {\n",
              "    background-color: var(--disabled-bg-color);\n",
              "    fill: var(--disabled-fill-color);\n",
              "    box-shadow: none;\n",
              "  }\n",
              "\n",
              "  .colab-df-spinner {\n",
              "    border: 2px solid var(--fill-color);\n",
              "    border-color: transparent;\n",
              "    border-bottom-color: var(--fill-color);\n",
              "    animation:\n",
              "      spin 1s steps(1) infinite;\n",
              "  }\n",
              "\n",
              "  @keyframes spin {\n",
              "    0% {\n",
              "      border-color: transparent;\n",
              "      border-bottom-color: var(--fill-color);\n",
              "      border-left-color: var(--fill-color);\n",
              "    }\n",
              "    20% {\n",
              "      border-color: transparent;\n",
              "      border-left-color: var(--fill-color);\n",
              "      border-top-color: var(--fill-color);\n",
              "    }\n",
              "    30% {\n",
              "      border-color: transparent;\n",
              "      border-left-color: var(--fill-color);\n",
              "      border-top-color: var(--fill-color);\n",
              "      border-right-color: var(--fill-color);\n",
              "    }\n",
              "    40% {\n",
              "      border-color: transparent;\n",
              "      border-right-color: var(--fill-color);\n",
              "      border-top-color: var(--fill-color);\n",
              "    }\n",
              "    60% {\n",
              "      border-color: transparent;\n",
              "      border-right-color: var(--fill-color);\n",
              "    }\n",
              "    80% {\n",
              "      border-color: transparent;\n",
              "      border-right-color: var(--fill-color);\n",
              "      border-bottom-color: var(--fill-color);\n",
              "    }\n",
              "    90% {\n",
              "      border-color: transparent;\n",
              "      border-bottom-color: var(--fill-color);\n",
              "    }\n",
              "  }\n",
              "</style>\n",
              "\n",
              "  <script>\n",
              "    async function quickchart(key) {\n",
              "      const quickchartButtonEl =\n",
              "        document.querySelector('#' + key + ' button');\n",
              "      quickchartButtonEl.disabled = true;  // To prevent multiple clicks.\n",
              "      quickchartButtonEl.classList.add('colab-df-spinner');\n",
              "      try {\n",
              "        const charts = await google.colab.kernel.invokeFunction(\n",
              "            'suggestCharts', [key], {});\n",
              "      } catch (error) {\n",
              "        console.error('Error during call to suggestCharts:', error);\n",
              "      }\n",
              "      quickchartButtonEl.classList.remove('colab-df-spinner');\n",
              "      quickchartButtonEl.classList.add('colab-df-quickchart-complete');\n",
              "    }\n",
              "    (() => {\n",
              "      let quickchartButtonEl =\n",
              "        document.querySelector('#df-3a2c5c54-1ae2-4c57-b106-1dd27f69a578 button');\n",
              "      quickchartButtonEl.style.display =\n",
              "        google.colab.kernel.accessAllowed ? 'block' : 'none';\n",
              "    })();\n",
              "  </script>\n",
              "</div>\n",
              "\n",
              "    </div>\n",
              "  </div>\n"
            ],
            "application/vnd.google.colaboratory.intrinsic+json": {
              "type": "dataframe",
              "variable_name": "df_test",
              "summary": "{\n  \"name\": \"df_test\",\n  \"rows\": 31229,\n  \"fields\": [\n    {\n      \"column\": \"category\",\n      \"properties\": {\n        \"dtype\": \"category\",\n        \"num_unique_values\": 15,\n        \"samples\": [\n          \"Cryptocurrency Crime\",\n          \"Online Cyber Trafficking\",\n          \"RapeGang Rape RGRSexually Abusive Content\"\n        ],\n        \"semantic_type\": \"\",\n        \"description\": \"\"\n      }\n    },\n    {\n      \"column\": \"sub_category\",\n      \"properties\": {\n        \"dtype\": \"category\",\n        \"num_unique_values\": 37,\n        \"samples\": [\n          \"Cyber Bullying  Stalking  Sexting\",\n          \"Data Breach/Theft\",\n          \"Internet Banking Related Fraud\"\n        ],\n        \"semantic_type\": \"\",\n        \"description\": \"\"\n      }\n    },\n    {\n      \"column\": \"crimeaditionalinfo\",\n      \"properties\": {\n        \"dtype\": \"string\",\n        \"num_unique_values\": 28785,\n        \"samples\": [\n          \" Impersonation  Cheating Victim got face book request from the known person name and display picture and victim accepted the FB request Later that person requested the person for money as it is emergency and victim sent the amount to the person and later  victim realized that the person not his friendrelative\",\n          \"To \\r\\nThe cyber crime\\r\\n    I have lost my money Rs  when I have call to SBI customer care number he asked me my account number I submitted the account number amount has been transferred in  stagesplease help me to refund my money back\\r\\n\\r\\n\\r\\nThanksregards\\r\\nJyothi kallakuri\",\n          \"This guy called my mom and started abusing directly and when my mom tried to tell him its a wrong he abused her verbally on call He didnt confirm identity and Started abusing and said hell kill my mom\"\n        ],\n        \"semantic_type\": \"\",\n        \"description\": \"\"\n      }\n    }\n  ]\n}"
            }
          },
          "metadata": {},
          "execution_count": 10
        }
      ]
    },
    {
      "cell_type": "code",
      "source": [
        "df_test.tail()"
      ],
      "metadata": {
        "colab": {
          "base_uri": "https://localhost:8080/",
          "height": 206
        },
        "id": "2AvmGcNpxlH-",
        "outputId": "2b2cfa7f-6ba4-4ec6-ae02-1a0fd8add6c5"
      },
      "execution_count": 11,
      "outputs": [
        {
          "output_type": "execute_result",
          "data": {
            "text/plain": [
              "                                    category                    sub_category  \\\n",
              "31224  Online and Social Media Related Crime        Online Matrimonial Fraud   \n",
              "31225                 Online Financial Fraud  Internet Banking Related Fraud   \n",
              "31226                  Any Other Cyber Crime                           Other   \n",
              "31227                 Online Financial Fraud  Internet Banking Related Fraud   \n",
              "31228                  Any Other Cyber Crime                           Other   \n",
              "\n",
              "                                      crimeaditionalinfo  \n",
              "31224  A lady named Rashmi probably a fake name had c...  \n",
              "31225  I am Mr Chokhe Ram  Two pers mobile number wer...  \n",
              "31226  Mai Bibekbraj maine pahle ki complain kar chuk...  \n",
              "31227  received URL link for updating KYC from mobile...  \n",
              "31228  I saw add on facebook for job placement and I ...  "
            ],
            "text/html": [
              "\n",
              "  <div id=\"df-62c07b8e-161d-43c6-bde2-e9a4734d4c5c\" class=\"colab-df-container\">\n",
              "    <div>\n",
              "<style scoped>\n",
              "    .dataframe tbody tr th:only-of-type {\n",
              "        vertical-align: middle;\n",
              "    }\n",
              "\n",
              "    .dataframe tbody tr th {\n",
              "        vertical-align: top;\n",
              "    }\n",
              "\n",
              "    .dataframe thead th {\n",
              "        text-align: right;\n",
              "    }\n",
              "</style>\n",
              "<table border=\"1\" class=\"dataframe\">\n",
              "  <thead>\n",
              "    <tr style=\"text-align: right;\">\n",
              "      <th></th>\n",
              "      <th>category</th>\n",
              "      <th>sub_category</th>\n",
              "      <th>crimeaditionalinfo</th>\n",
              "    </tr>\n",
              "  </thead>\n",
              "  <tbody>\n",
              "    <tr>\n",
              "      <th>31224</th>\n",
              "      <td>Online and Social Media Related Crime</td>\n",
              "      <td>Online Matrimonial Fraud</td>\n",
              "      <td>A lady named Rashmi probably a fake name had c...</td>\n",
              "    </tr>\n",
              "    <tr>\n",
              "      <th>31225</th>\n",
              "      <td>Online Financial Fraud</td>\n",
              "      <td>Internet Banking Related Fraud</td>\n",
              "      <td>I am Mr Chokhe Ram  Two pers mobile number wer...</td>\n",
              "    </tr>\n",
              "    <tr>\n",
              "      <th>31226</th>\n",
              "      <td>Any Other Cyber Crime</td>\n",
              "      <td>Other</td>\n",
              "      <td>Mai Bibekbraj maine pahle ki complain kar chuk...</td>\n",
              "    </tr>\n",
              "    <tr>\n",
              "      <th>31227</th>\n",
              "      <td>Online Financial Fraud</td>\n",
              "      <td>Internet Banking Related Fraud</td>\n",
              "      <td>received URL link for updating KYC from mobile...</td>\n",
              "    </tr>\n",
              "    <tr>\n",
              "      <th>31228</th>\n",
              "      <td>Any Other Cyber Crime</td>\n",
              "      <td>Other</td>\n",
              "      <td>I saw add on facebook for job placement and I ...</td>\n",
              "    </tr>\n",
              "  </tbody>\n",
              "</table>\n",
              "</div>\n",
              "    <div class=\"colab-df-buttons\">\n",
              "\n",
              "  <div class=\"colab-df-container\">\n",
              "    <button class=\"colab-df-convert\" onclick=\"convertToInteractive('df-62c07b8e-161d-43c6-bde2-e9a4734d4c5c')\"\n",
              "            title=\"Convert this dataframe to an interactive table.\"\n",
              "            style=\"display:none;\">\n",
              "\n",
              "  <svg xmlns=\"http://www.w3.org/2000/svg\" height=\"24px\" viewBox=\"0 -960 960 960\">\n",
              "    <path d=\"M120-120v-720h720v720H120Zm60-500h600v-160H180v160Zm220 220h160v-160H400v160Zm0 220h160v-160H400v160ZM180-400h160v-160H180v160Zm440 0h160v-160H620v160ZM180-180h160v-160H180v160Zm440 0h160v-160H620v160Z\"/>\n",
              "  </svg>\n",
              "    </button>\n",
              "\n",
              "  <style>\n",
              "    .colab-df-container {\n",
              "      display:flex;\n",
              "      gap: 12px;\n",
              "    }\n",
              "\n",
              "    .colab-df-convert {\n",
              "      background-color: #E8F0FE;\n",
              "      border: none;\n",
              "      border-radius: 50%;\n",
              "      cursor: pointer;\n",
              "      display: none;\n",
              "      fill: #1967D2;\n",
              "      height: 32px;\n",
              "      padding: 0 0 0 0;\n",
              "      width: 32px;\n",
              "    }\n",
              "\n",
              "    .colab-df-convert:hover {\n",
              "      background-color: #E2EBFA;\n",
              "      box-shadow: 0px 1px 2px rgba(60, 64, 67, 0.3), 0px 1px 3px 1px rgba(60, 64, 67, 0.15);\n",
              "      fill: #174EA6;\n",
              "    }\n",
              "\n",
              "    .colab-df-buttons div {\n",
              "      margin-bottom: 4px;\n",
              "    }\n",
              "\n",
              "    [theme=dark] .colab-df-convert {\n",
              "      background-color: #3B4455;\n",
              "      fill: #D2E3FC;\n",
              "    }\n",
              "\n",
              "    [theme=dark] .colab-df-convert:hover {\n",
              "      background-color: #434B5C;\n",
              "      box-shadow: 0px 1px 3px 1px rgba(0, 0, 0, 0.15);\n",
              "      filter: drop-shadow(0px 1px 2px rgba(0, 0, 0, 0.3));\n",
              "      fill: #FFFFFF;\n",
              "    }\n",
              "  </style>\n",
              "\n",
              "    <script>\n",
              "      const buttonEl =\n",
              "        document.querySelector('#df-62c07b8e-161d-43c6-bde2-e9a4734d4c5c button.colab-df-convert');\n",
              "      buttonEl.style.display =\n",
              "        google.colab.kernel.accessAllowed ? 'block' : 'none';\n",
              "\n",
              "      async function convertToInteractive(key) {\n",
              "        const element = document.querySelector('#df-62c07b8e-161d-43c6-bde2-e9a4734d4c5c');\n",
              "        const dataTable =\n",
              "          await google.colab.kernel.invokeFunction('convertToInteractive',\n",
              "                                                    [key], {});\n",
              "        if (!dataTable) return;\n",
              "\n",
              "        const docLinkHtml = 'Like what you see? Visit the ' +\n",
              "          '<a target=\"_blank\" href=https://colab.research.google.com/notebooks/data_table.ipynb>data table notebook</a>'\n",
              "          + ' to learn more about interactive tables.';\n",
              "        element.innerHTML = '';\n",
              "        dataTable['output_type'] = 'display_data';\n",
              "        await google.colab.output.renderOutput(dataTable, element);\n",
              "        const docLink = document.createElement('div');\n",
              "        docLink.innerHTML = docLinkHtml;\n",
              "        element.appendChild(docLink);\n",
              "      }\n",
              "    </script>\n",
              "  </div>\n",
              "\n",
              "\n",
              "<div id=\"df-c9102c08-e189-4dfc-aa25-7994a75267d2\">\n",
              "  <button class=\"colab-df-quickchart\" onclick=\"quickchart('df-c9102c08-e189-4dfc-aa25-7994a75267d2')\"\n",
              "            title=\"Suggest charts\"\n",
              "            style=\"display:none;\">\n",
              "\n",
              "<svg xmlns=\"http://www.w3.org/2000/svg\" height=\"24px\"viewBox=\"0 0 24 24\"\n",
              "     width=\"24px\">\n",
              "    <g>\n",
              "        <path d=\"M19 3H5c-1.1 0-2 .9-2 2v14c0 1.1.9 2 2 2h14c1.1 0 2-.9 2-2V5c0-1.1-.9-2-2-2zM9 17H7v-7h2v7zm4 0h-2V7h2v10zm4 0h-2v-4h2v4z\"/>\n",
              "    </g>\n",
              "</svg>\n",
              "  </button>\n",
              "\n",
              "<style>\n",
              "  .colab-df-quickchart {\n",
              "      --bg-color: #E8F0FE;\n",
              "      --fill-color: #1967D2;\n",
              "      --hover-bg-color: #E2EBFA;\n",
              "      --hover-fill-color: #174EA6;\n",
              "      --disabled-fill-color: #AAA;\n",
              "      --disabled-bg-color: #DDD;\n",
              "  }\n",
              "\n",
              "  [theme=dark] .colab-df-quickchart {\n",
              "      --bg-color: #3B4455;\n",
              "      --fill-color: #D2E3FC;\n",
              "      --hover-bg-color: #434B5C;\n",
              "      --hover-fill-color: #FFFFFF;\n",
              "      --disabled-bg-color: #3B4455;\n",
              "      --disabled-fill-color: #666;\n",
              "  }\n",
              "\n",
              "  .colab-df-quickchart {\n",
              "    background-color: var(--bg-color);\n",
              "    border: none;\n",
              "    border-radius: 50%;\n",
              "    cursor: pointer;\n",
              "    display: none;\n",
              "    fill: var(--fill-color);\n",
              "    height: 32px;\n",
              "    padding: 0;\n",
              "    width: 32px;\n",
              "  }\n",
              "\n",
              "  .colab-df-quickchart:hover {\n",
              "    background-color: var(--hover-bg-color);\n",
              "    box-shadow: 0 1px 2px rgba(60, 64, 67, 0.3), 0 1px 3px 1px rgba(60, 64, 67, 0.15);\n",
              "    fill: var(--button-hover-fill-color);\n",
              "  }\n",
              "\n",
              "  .colab-df-quickchart-complete:disabled,\n",
              "  .colab-df-quickchart-complete:disabled:hover {\n",
              "    background-color: var(--disabled-bg-color);\n",
              "    fill: var(--disabled-fill-color);\n",
              "    box-shadow: none;\n",
              "  }\n",
              "\n",
              "  .colab-df-spinner {\n",
              "    border: 2px solid var(--fill-color);\n",
              "    border-color: transparent;\n",
              "    border-bottom-color: var(--fill-color);\n",
              "    animation:\n",
              "      spin 1s steps(1) infinite;\n",
              "  }\n",
              "\n",
              "  @keyframes spin {\n",
              "    0% {\n",
              "      border-color: transparent;\n",
              "      border-bottom-color: var(--fill-color);\n",
              "      border-left-color: var(--fill-color);\n",
              "    }\n",
              "    20% {\n",
              "      border-color: transparent;\n",
              "      border-left-color: var(--fill-color);\n",
              "      border-top-color: var(--fill-color);\n",
              "    }\n",
              "    30% {\n",
              "      border-color: transparent;\n",
              "      border-left-color: var(--fill-color);\n",
              "      border-top-color: var(--fill-color);\n",
              "      border-right-color: var(--fill-color);\n",
              "    }\n",
              "    40% {\n",
              "      border-color: transparent;\n",
              "      border-right-color: var(--fill-color);\n",
              "      border-top-color: var(--fill-color);\n",
              "    }\n",
              "    60% {\n",
              "      border-color: transparent;\n",
              "      border-right-color: var(--fill-color);\n",
              "    }\n",
              "    80% {\n",
              "      border-color: transparent;\n",
              "      border-right-color: var(--fill-color);\n",
              "      border-bottom-color: var(--fill-color);\n",
              "    }\n",
              "    90% {\n",
              "      border-color: transparent;\n",
              "      border-bottom-color: var(--fill-color);\n",
              "    }\n",
              "  }\n",
              "</style>\n",
              "\n",
              "  <script>\n",
              "    async function quickchart(key) {\n",
              "      const quickchartButtonEl =\n",
              "        document.querySelector('#' + key + ' button');\n",
              "      quickchartButtonEl.disabled = true;  // To prevent multiple clicks.\n",
              "      quickchartButtonEl.classList.add('colab-df-spinner');\n",
              "      try {\n",
              "        const charts = await google.colab.kernel.invokeFunction(\n",
              "            'suggestCharts', [key], {});\n",
              "      } catch (error) {\n",
              "        console.error('Error during call to suggestCharts:', error);\n",
              "      }\n",
              "      quickchartButtonEl.classList.remove('colab-df-spinner');\n",
              "      quickchartButtonEl.classList.add('colab-df-quickchart-complete');\n",
              "    }\n",
              "    (() => {\n",
              "      let quickchartButtonEl =\n",
              "        document.querySelector('#df-c9102c08-e189-4dfc-aa25-7994a75267d2 button');\n",
              "      quickchartButtonEl.style.display =\n",
              "        google.colab.kernel.accessAllowed ? 'block' : 'none';\n",
              "    })();\n",
              "  </script>\n",
              "</div>\n",
              "\n",
              "    </div>\n",
              "  </div>\n"
            ],
            "application/vnd.google.colaboratory.intrinsic+json": {
              "type": "dataframe",
              "summary": "{\n  \"name\": \"df_test\",\n  \"rows\": 5,\n  \"fields\": [\n    {\n      \"column\": \"category\",\n      \"properties\": {\n        \"dtype\": \"string\",\n        \"num_unique_values\": 3,\n        \"samples\": [\n          \"Online and Social Media Related Crime\",\n          \"Online Financial Fraud\",\n          \"Any Other Cyber Crime\"\n        ],\n        \"semantic_type\": \"\",\n        \"description\": \"\"\n      }\n    },\n    {\n      \"column\": \"sub_category\",\n      \"properties\": {\n        \"dtype\": \"string\",\n        \"num_unique_values\": 3,\n        \"samples\": [\n          \"Online Matrimonial Fraud\",\n          \"Internet Banking Related Fraud\",\n          \"Other\"\n        ],\n        \"semantic_type\": \"\",\n        \"description\": \"\"\n      }\n    },\n    {\n      \"column\": \"crimeaditionalinfo\",\n      \"properties\": {\n        \"dtype\": \"string\",\n        \"num_unique_values\": 5,\n        \"samples\": [\n          \"I am Mr Chokhe Ram  Two pers mobile number were found in Goole  of ICICI customer care whose number was frauded One number is    They pers are saying own customer care of ICICI\",\n          \"I saw add on facebook for job placement and I want a job so that I contacted then they told me that they have good contacts so I trust him Transferred those  After that their phone got switch off now kindly help me\",\n          \"Mai Bibekbraj maine pahle ki complain kar chuka hu ki mere sath  ka financial fraud ho gya aur o phir se bar bar mujhe whatsapp and call pe bar bar mentally tourtue kar raha hai aur aur kabhi paise ki  to kabhi  to  ka dimand karta hai aur maine unko business ka ISO CERTIFIED COPY manga to unhone ADHAR CARD AND ISO CERTIFICATE GST NO  v diya but sabhi ke sabhi check karne pe galat paya gya aur dusre ki identity use karke ye log fraud karte hai sir sabhi POLICE ADMINISTRATOR AND CYBER CELL OFFICERS  se requst kai ki jald se jald satyata ki jacj kar inlogo pe karwayee ki jaye taki koi aur logo ko is tarah se mentally disturbed na kar paye  vijay kumar gujar and  anita ye sabhi se call aata hai Thanks cybercrime\"\n        ],\n        \"semantic_type\": \"\",\n        \"description\": \"\"\n      }\n    }\n  ]\n}"
            }
          },
          "metadata": {},
          "execution_count": 11
        }
      ]
    },
    {
      "cell_type": "markdown",
      "source": [
        "### Step 3 : Sanity Checking"
      ],
      "metadata": {
        "id": "MTEMizci9fnH"
      }
    },
    {
      "cell_type": "markdown",
      "source": [
        "#### Shape of Training *Dataset*"
      ],
      "metadata": {
        "id": "XD1SgJG69650"
      }
    },
    {
      "cell_type": "code",
      "source": [
        "df_train.shape"
      ],
      "metadata": {
        "colab": {
          "base_uri": "https://localhost:8080/"
        },
        "id": "PYKY0prv-JW1",
        "outputId": "864307d5-9f93-48e5-9706-79c3ba7ea4b5"
      },
      "execution_count": 12,
      "outputs": [
        {
          "output_type": "execute_result",
          "data": {
            "text/plain": [
              "(93686, 3)"
            ]
          },
          "metadata": {},
          "execution_count": 12
        }
      ]
    },
    {
      "cell_type": "markdown",
      "source": [
        "#### Shape of Testing dataset"
      ],
      "metadata": {
        "id": "kl6cS476-WAb"
      }
    },
    {
      "cell_type": "code",
      "source": [
        "df_test.shape"
      ],
      "metadata": {
        "colab": {
          "base_uri": "https://localhost:8080/"
        },
        "id": "UffhDyY3-Zcp",
        "outputId": "851fcd5a-d34a-4b30-c905-c72f97721c78"
      },
      "execution_count": 13,
      "outputs": [
        {
          "output_type": "execute_result",
          "data": {
            "text/plain": [
              "(31229, 3)"
            ]
          },
          "metadata": {},
          "execution_count": 13
        }
      ]
    },
    {
      "cell_type": "markdown",
      "source": [
        "#### Information of Training dataset"
      ],
      "metadata": {
        "id": "iw-tH_5L-gni"
      }
    },
    {
      "cell_type": "code",
      "source": [
        "df_train.info()"
      ],
      "metadata": {
        "colab": {
          "base_uri": "https://localhost:8080/"
        },
        "id": "09SRHal3-n8Y",
        "outputId": "2160fa87-f5e6-456c-b16d-0cebc6733655"
      },
      "execution_count": 14,
      "outputs": [
        {
          "output_type": "stream",
          "name": "stdout",
          "text": [
            "<class 'pandas.core.frame.DataFrame'>\n",
            "RangeIndex: 93686 entries, 0 to 93685\n",
            "Data columns (total 3 columns):\n",
            " #   Column              Non-Null Count  Dtype \n",
            "---  ------              --------------  ----- \n",
            " 0   category            93686 non-null  object\n",
            " 1   sub_category        87095 non-null  object\n",
            " 2   crimeaditionalinfo  93665 non-null  object\n",
            "dtypes: object(3)\n",
            "memory usage: 2.1+ MB\n"
          ]
        }
      ]
    },
    {
      "cell_type": "markdown",
      "source": [
        "#### Information of Testing dataset"
      ],
      "metadata": {
        "id": "5KqnO-Bt-0ty"
      }
    },
    {
      "cell_type": "code",
      "source": [
        "df_test.info()"
      ],
      "metadata": {
        "colab": {
          "base_uri": "https://localhost:8080/"
        },
        "id": "8HFLqk91-36b",
        "outputId": "166aefbc-29a3-4d08-8ec0-730c048956a0"
      },
      "execution_count": 15,
      "outputs": [
        {
          "output_type": "stream",
          "name": "stdout",
          "text": [
            "<class 'pandas.core.frame.DataFrame'>\n",
            "RangeIndex: 31229 entries, 0 to 31228\n",
            "Data columns (total 3 columns):\n",
            " #   Column              Non-Null Count  Dtype \n",
            "---  ------              --------------  ----- \n",
            " 0   category            31229 non-null  object\n",
            " 1   sub_category        28993 non-null  object\n",
            " 2   crimeaditionalinfo  31222 non-null  object\n",
            "dtypes: object(3)\n",
            "memory usage: 732.1+ KB\n"
          ]
        }
      ]
    },
    {
      "cell_type": "markdown",
      "source": [
        "#### Missing values in Training dataset"
      ],
      "metadata": {
        "id": "csydUjuc_DsQ"
      }
    },
    {
      "cell_type": "code",
      "source": [
        "df_train.isnull().sum()"
      ],
      "metadata": {
        "colab": {
          "base_uri": "https://localhost:8080/",
          "height": 178
        },
        "id": "sGVv5Vxf_KLW",
        "outputId": "0ebb2807-9ae6-4511-9556-fb40372ec933"
      },
      "execution_count": 16,
      "outputs": [
        {
          "output_type": "execute_result",
          "data": {
            "text/plain": [
              "category                 0\n",
              "sub_category          6591\n",
              "crimeaditionalinfo      21\n",
              "dtype: int64"
            ],
            "text/html": [
              "<div>\n",
              "<style scoped>\n",
              "    .dataframe tbody tr th:only-of-type {\n",
              "        vertical-align: middle;\n",
              "    }\n",
              "\n",
              "    .dataframe tbody tr th {\n",
              "        vertical-align: top;\n",
              "    }\n",
              "\n",
              "    .dataframe thead th {\n",
              "        text-align: right;\n",
              "    }\n",
              "</style>\n",
              "<table border=\"1\" class=\"dataframe\">\n",
              "  <thead>\n",
              "    <tr style=\"text-align: right;\">\n",
              "      <th></th>\n",
              "      <th>0</th>\n",
              "    </tr>\n",
              "  </thead>\n",
              "  <tbody>\n",
              "    <tr>\n",
              "      <th>category</th>\n",
              "      <td>0</td>\n",
              "    </tr>\n",
              "    <tr>\n",
              "      <th>sub_category</th>\n",
              "      <td>6591</td>\n",
              "    </tr>\n",
              "    <tr>\n",
              "      <th>crimeaditionalinfo</th>\n",
              "      <td>21</td>\n",
              "    </tr>\n",
              "  </tbody>\n",
              "</table>\n",
              "</div><br><label><b>dtype:</b> int64</label>"
            ]
          },
          "metadata": {},
          "execution_count": 16
        }
      ]
    },
    {
      "cell_type": "code",
      "source": [
        "df_train.isnull().sum()/df_train.shape[0]*100"
      ],
      "metadata": {
        "colab": {
          "base_uri": "https://localhost:8080/",
          "height": 178
        },
        "id": "xujreAcrAZcY",
        "outputId": "90507815-a408-460d-a46a-b7eb49300f7c"
      },
      "execution_count": 17,
      "outputs": [
        {
          "output_type": "execute_result",
          "data": {
            "text/plain": [
              "category              0.000000\n",
              "sub_category          7.035203\n",
              "crimeaditionalinfo    0.022415\n",
              "dtype: float64"
            ],
            "text/html": [
              "<div>\n",
              "<style scoped>\n",
              "    .dataframe tbody tr th:only-of-type {\n",
              "        vertical-align: middle;\n",
              "    }\n",
              "\n",
              "    .dataframe tbody tr th {\n",
              "        vertical-align: top;\n",
              "    }\n",
              "\n",
              "    .dataframe thead th {\n",
              "        text-align: right;\n",
              "    }\n",
              "</style>\n",
              "<table border=\"1\" class=\"dataframe\">\n",
              "  <thead>\n",
              "    <tr style=\"text-align: right;\">\n",
              "      <th></th>\n",
              "      <th>0</th>\n",
              "    </tr>\n",
              "  </thead>\n",
              "  <tbody>\n",
              "    <tr>\n",
              "      <th>category</th>\n",
              "      <td>0.000000</td>\n",
              "    </tr>\n",
              "    <tr>\n",
              "      <th>sub_category</th>\n",
              "      <td>7.035203</td>\n",
              "    </tr>\n",
              "    <tr>\n",
              "      <th>crimeaditionalinfo</th>\n",
              "      <td>0.022415</td>\n",
              "    </tr>\n",
              "  </tbody>\n",
              "</table>\n",
              "</div><br><label><b>dtype:</b> float64</label>"
            ]
          },
          "metadata": {},
          "execution_count": 17
        }
      ]
    },
    {
      "cell_type": "markdown",
      "source": [
        "#### Missing values in Testing dataset"
      ],
      "metadata": {
        "id": "DYRDJjbH_eZm"
      }
    },
    {
      "cell_type": "code",
      "source": [
        "df_test.isnull().sum()"
      ],
      "metadata": {
        "colab": {
          "base_uri": "https://localhost:8080/",
          "height": 178
        },
        "id": "FulzOkPo_ig5",
        "outputId": "795d4da3-56d1-4e28-87f3-f1b416d48d8f"
      },
      "execution_count": 18,
      "outputs": [
        {
          "output_type": "execute_result",
          "data": {
            "text/plain": [
              "category                 0\n",
              "sub_category          2236\n",
              "crimeaditionalinfo       7\n",
              "dtype: int64"
            ],
            "text/html": [
              "<div>\n",
              "<style scoped>\n",
              "    .dataframe tbody tr th:only-of-type {\n",
              "        vertical-align: middle;\n",
              "    }\n",
              "\n",
              "    .dataframe tbody tr th {\n",
              "        vertical-align: top;\n",
              "    }\n",
              "\n",
              "    .dataframe thead th {\n",
              "        text-align: right;\n",
              "    }\n",
              "</style>\n",
              "<table border=\"1\" class=\"dataframe\">\n",
              "  <thead>\n",
              "    <tr style=\"text-align: right;\">\n",
              "      <th></th>\n",
              "      <th>0</th>\n",
              "    </tr>\n",
              "  </thead>\n",
              "  <tbody>\n",
              "    <tr>\n",
              "      <th>category</th>\n",
              "      <td>0</td>\n",
              "    </tr>\n",
              "    <tr>\n",
              "      <th>sub_category</th>\n",
              "      <td>2236</td>\n",
              "    </tr>\n",
              "    <tr>\n",
              "      <th>crimeaditionalinfo</th>\n",
              "      <td>7</td>\n",
              "    </tr>\n",
              "  </tbody>\n",
              "</table>\n",
              "</div><br><label><b>dtype:</b> int64</label>"
            ]
          },
          "metadata": {},
          "execution_count": 18
        }
      ]
    },
    {
      "cell_type": "code",
      "source": [
        "df_test.isnull().sum()/df_test.shape[0]*100"
      ],
      "metadata": {
        "colab": {
          "base_uri": "https://localhost:8080/",
          "height": 178
        },
        "id": "ObNcpX1s_34b",
        "outputId": "44b9aa07-ee80-471e-9df4-4a5b8578505a"
      },
      "execution_count": 19,
      "outputs": [
        {
          "output_type": "execute_result",
          "data": {
            "text/plain": [
              "category              0.000000\n",
              "sub_category          7.160012\n",
              "crimeaditionalinfo    0.022415\n",
              "dtype: float64"
            ],
            "text/html": [
              "<div>\n",
              "<style scoped>\n",
              "    .dataframe tbody tr th:only-of-type {\n",
              "        vertical-align: middle;\n",
              "    }\n",
              "\n",
              "    .dataframe tbody tr th {\n",
              "        vertical-align: top;\n",
              "    }\n",
              "\n",
              "    .dataframe thead th {\n",
              "        text-align: right;\n",
              "    }\n",
              "</style>\n",
              "<table border=\"1\" class=\"dataframe\">\n",
              "  <thead>\n",
              "    <tr style=\"text-align: right;\">\n",
              "      <th></th>\n",
              "      <th>0</th>\n",
              "    </tr>\n",
              "  </thead>\n",
              "  <tbody>\n",
              "    <tr>\n",
              "      <th>category</th>\n",
              "      <td>0.000000</td>\n",
              "    </tr>\n",
              "    <tr>\n",
              "      <th>sub_category</th>\n",
              "      <td>7.160012</td>\n",
              "    </tr>\n",
              "    <tr>\n",
              "      <th>crimeaditionalinfo</th>\n",
              "      <td>0.022415</td>\n",
              "    </tr>\n",
              "  </tbody>\n",
              "</table>\n",
              "</div><br><label><b>dtype:</b> float64</label>"
            ]
          },
          "metadata": {},
          "execution_count": 19
        }
      ]
    },
    {
      "cell_type": "markdown",
      "source": [
        "#### Duplicates in Training dataset"
      ],
      "metadata": {
        "id": "_akFV9k-Ay2F"
      }
    },
    {
      "cell_type": "code",
      "source": [
        "df_train.duplicated().sum()"
      ],
      "metadata": {
        "colab": {
          "base_uri": "https://localhost:8080/"
        },
        "id": "47e769VoA4bj",
        "outputId": "1fa723c2-4d51-4f70-cd17-de77a227169a"
      },
      "execution_count": 20,
      "outputs": [
        {
          "output_type": "execute_result",
          "data": {
            "text/plain": [
              "7803"
            ]
          },
          "metadata": {},
          "execution_count": 20
        }
      ]
    },
    {
      "cell_type": "markdown",
      "source": [
        "#### Duplicates in Testing dataset"
      ],
      "metadata": {
        "id": "ov72t0fDBC6_"
      }
    },
    {
      "cell_type": "code",
      "source": [
        "df_test.duplicated().sum()"
      ],
      "metadata": {
        "colab": {
          "base_uri": "https://localhost:8080/"
        },
        "id": "m8TY9kPOBGzD",
        "outputId": "f515d1b2-85b7-489d-b51b-176f5dff9728"
      },
      "execution_count": 21,
      "outputs": [
        {
          "output_type": "execute_result",
          "data": {
            "text/plain": [
              "2154"
            ]
          },
          "metadata": {},
          "execution_count": 21
        }
      ]
    },
    {
      "cell_type": "markdown",
      "source": [
        "### Step 4 : Exploratory Data Analysis"
      ],
      "metadata": {
        "id": "fgp_teR5Baeg"
      }
    },
    {
      "cell_type": "markdown",
      "source": [
        "#### Discriptive statistics for Training dataset"
      ],
      "metadata": {
        "id": "CD34Fvl-Brl-"
      }
    },
    {
      "cell_type": "markdown",
      "source": [
        "- Descriptive statistics would give us extra information about data like number of entries in each column, how many unique entries are there, frequently repeated values, etc"
      ],
      "metadata": {
        "id": "4YVVCzZxexig"
      }
    },
    {
      "cell_type": "code",
      "source": [
        "df_train.describe().T"
      ],
      "metadata": {
        "colab": {
          "base_uri": "https://localhost:8080/",
          "height": 143
        },
        "id": "A3x8WmjbJHH-",
        "outputId": "9f7239b2-162a-40d2-df62-441348bf19bf"
      },
      "execution_count": 22,
      "outputs": [
        {
          "output_type": "execute_result",
          "data": {
            "text/plain": [
              "                    count unique  \\\n",
              "category            93686     15   \n",
              "sub_category        87095     35   \n",
              "crimeaditionalinfo  93665  85013   \n",
              "\n",
              "                                                                  top   freq  \n",
              "category                                       Online Financial Fraud  57434  \n",
              "sub_category                                       UPI Related Frauds  26856  \n",
              "crimeaditionalinfo  Respected Sir\\r\\n\\r\\nA very serious matter I w...   2342  "
            ],
            "text/html": [
              "\n",
              "  <div id=\"df-80dadca3-84ac-42a1-bdd8-d3ec690b0415\" class=\"colab-df-container\">\n",
              "    <div>\n",
              "<style scoped>\n",
              "    .dataframe tbody tr th:only-of-type {\n",
              "        vertical-align: middle;\n",
              "    }\n",
              "\n",
              "    .dataframe tbody tr th {\n",
              "        vertical-align: top;\n",
              "    }\n",
              "\n",
              "    .dataframe thead th {\n",
              "        text-align: right;\n",
              "    }\n",
              "</style>\n",
              "<table border=\"1\" class=\"dataframe\">\n",
              "  <thead>\n",
              "    <tr style=\"text-align: right;\">\n",
              "      <th></th>\n",
              "      <th>count</th>\n",
              "      <th>unique</th>\n",
              "      <th>top</th>\n",
              "      <th>freq</th>\n",
              "    </tr>\n",
              "  </thead>\n",
              "  <tbody>\n",
              "    <tr>\n",
              "      <th>category</th>\n",
              "      <td>93686</td>\n",
              "      <td>15</td>\n",
              "      <td>Online Financial Fraud</td>\n",
              "      <td>57434</td>\n",
              "    </tr>\n",
              "    <tr>\n",
              "      <th>sub_category</th>\n",
              "      <td>87095</td>\n",
              "      <td>35</td>\n",
              "      <td>UPI Related Frauds</td>\n",
              "      <td>26856</td>\n",
              "    </tr>\n",
              "    <tr>\n",
              "      <th>crimeaditionalinfo</th>\n",
              "      <td>93665</td>\n",
              "      <td>85013</td>\n",
              "      <td>Respected Sir\\r\\n\\r\\nA very serious matter I w...</td>\n",
              "      <td>2342</td>\n",
              "    </tr>\n",
              "  </tbody>\n",
              "</table>\n",
              "</div>\n",
              "    <div class=\"colab-df-buttons\">\n",
              "\n",
              "  <div class=\"colab-df-container\">\n",
              "    <button class=\"colab-df-convert\" onclick=\"convertToInteractive('df-80dadca3-84ac-42a1-bdd8-d3ec690b0415')\"\n",
              "            title=\"Convert this dataframe to an interactive table.\"\n",
              "            style=\"display:none;\">\n",
              "\n",
              "  <svg xmlns=\"http://www.w3.org/2000/svg\" height=\"24px\" viewBox=\"0 -960 960 960\">\n",
              "    <path d=\"M120-120v-720h720v720H120Zm60-500h600v-160H180v160Zm220 220h160v-160H400v160Zm0 220h160v-160H400v160ZM180-400h160v-160H180v160Zm440 0h160v-160H620v160ZM180-180h160v-160H180v160Zm440 0h160v-160H620v160Z\"/>\n",
              "  </svg>\n",
              "    </button>\n",
              "\n",
              "  <style>\n",
              "    .colab-df-container {\n",
              "      display:flex;\n",
              "      gap: 12px;\n",
              "    }\n",
              "\n",
              "    .colab-df-convert {\n",
              "      background-color: #E8F0FE;\n",
              "      border: none;\n",
              "      border-radius: 50%;\n",
              "      cursor: pointer;\n",
              "      display: none;\n",
              "      fill: #1967D2;\n",
              "      height: 32px;\n",
              "      padding: 0 0 0 0;\n",
              "      width: 32px;\n",
              "    }\n",
              "\n",
              "    .colab-df-convert:hover {\n",
              "      background-color: #E2EBFA;\n",
              "      box-shadow: 0px 1px 2px rgba(60, 64, 67, 0.3), 0px 1px 3px 1px rgba(60, 64, 67, 0.15);\n",
              "      fill: #174EA6;\n",
              "    }\n",
              "\n",
              "    .colab-df-buttons div {\n",
              "      margin-bottom: 4px;\n",
              "    }\n",
              "\n",
              "    [theme=dark] .colab-df-convert {\n",
              "      background-color: #3B4455;\n",
              "      fill: #D2E3FC;\n",
              "    }\n",
              "\n",
              "    [theme=dark] .colab-df-convert:hover {\n",
              "      background-color: #434B5C;\n",
              "      box-shadow: 0px 1px 3px 1px rgba(0, 0, 0, 0.15);\n",
              "      filter: drop-shadow(0px 1px 2px rgba(0, 0, 0, 0.3));\n",
              "      fill: #FFFFFF;\n",
              "    }\n",
              "  </style>\n",
              "\n",
              "    <script>\n",
              "      const buttonEl =\n",
              "        document.querySelector('#df-80dadca3-84ac-42a1-bdd8-d3ec690b0415 button.colab-df-convert');\n",
              "      buttonEl.style.display =\n",
              "        google.colab.kernel.accessAllowed ? 'block' : 'none';\n",
              "\n",
              "      async function convertToInteractive(key) {\n",
              "        const element = document.querySelector('#df-80dadca3-84ac-42a1-bdd8-d3ec690b0415');\n",
              "        const dataTable =\n",
              "          await google.colab.kernel.invokeFunction('convertToInteractive',\n",
              "                                                    [key], {});\n",
              "        if (!dataTable) return;\n",
              "\n",
              "        const docLinkHtml = 'Like what you see? Visit the ' +\n",
              "          '<a target=\"_blank\" href=https://colab.research.google.com/notebooks/data_table.ipynb>data table notebook</a>'\n",
              "          + ' to learn more about interactive tables.';\n",
              "        element.innerHTML = '';\n",
              "        dataTable['output_type'] = 'display_data';\n",
              "        await google.colab.output.renderOutput(dataTable, element);\n",
              "        const docLink = document.createElement('div');\n",
              "        docLink.innerHTML = docLinkHtml;\n",
              "        element.appendChild(docLink);\n",
              "      }\n",
              "    </script>\n",
              "  </div>\n",
              "\n",
              "\n",
              "<div id=\"df-a11ab4fd-a260-407c-9d40-d27f690a9a62\">\n",
              "  <button class=\"colab-df-quickchart\" onclick=\"quickchart('df-a11ab4fd-a260-407c-9d40-d27f690a9a62')\"\n",
              "            title=\"Suggest charts\"\n",
              "            style=\"display:none;\">\n",
              "\n",
              "<svg xmlns=\"http://www.w3.org/2000/svg\" height=\"24px\"viewBox=\"0 0 24 24\"\n",
              "     width=\"24px\">\n",
              "    <g>\n",
              "        <path d=\"M19 3H5c-1.1 0-2 .9-2 2v14c0 1.1.9 2 2 2h14c1.1 0 2-.9 2-2V5c0-1.1-.9-2-2-2zM9 17H7v-7h2v7zm4 0h-2V7h2v10zm4 0h-2v-4h2v4z\"/>\n",
              "    </g>\n",
              "</svg>\n",
              "  </button>\n",
              "\n",
              "<style>\n",
              "  .colab-df-quickchart {\n",
              "      --bg-color: #E8F0FE;\n",
              "      --fill-color: #1967D2;\n",
              "      --hover-bg-color: #E2EBFA;\n",
              "      --hover-fill-color: #174EA6;\n",
              "      --disabled-fill-color: #AAA;\n",
              "      --disabled-bg-color: #DDD;\n",
              "  }\n",
              "\n",
              "  [theme=dark] .colab-df-quickchart {\n",
              "      --bg-color: #3B4455;\n",
              "      --fill-color: #D2E3FC;\n",
              "      --hover-bg-color: #434B5C;\n",
              "      --hover-fill-color: #FFFFFF;\n",
              "      --disabled-bg-color: #3B4455;\n",
              "      --disabled-fill-color: #666;\n",
              "  }\n",
              "\n",
              "  .colab-df-quickchart {\n",
              "    background-color: var(--bg-color);\n",
              "    border: none;\n",
              "    border-radius: 50%;\n",
              "    cursor: pointer;\n",
              "    display: none;\n",
              "    fill: var(--fill-color);\n",
              "    height: 32px;\n",
              "    padding: 0;\n",
              "    width: 32px;\n",
              "  }\n",
              "\n",
              "  .colab-df-quickchart:hover {\n",
              "    background-color: var(--hover-bg-color);\n",
              "    box-shadow: 0 1px 2px rgba(60, 64, 67, 0.3), 0 1px 3px 1px rgba(60, 64, 67, 0.15);\n",
              "    fill: var(--button-hover-fill-color);\n",
              "  }\n",
              "\n",
              "  .colab-df-quickchart-complete:disabled,\n",
              "  .colab-df-quickchart-complete:disabled:hover {\n",
              "    background-color: var(--disabled-bg-color);\n",
              "    fill: var(--disabled-fill-color);\n",
              "    box-shadow: none;\n",
              "  }\n",
              "\n",
              "  .colab-df-spinner {\n",
              "    border: 2px solid var(--fill-color);\n",
              "    border-color: transparent;\n",
              "    border-bottom-color: var(--fill-color);\n",
              "    animation:\n",
              "      spin 1s steps(1) infinite;\n",
              "  }\n",
              "\n",
              "  @keyframes spin {\n",
              "    0% {\n",
              "      border-color: transparent;\n",
              "      border-bottom-color: var(--fill-color);\n",
              "      border-left-color: var(--fill-color);\n",
              "    }\n",
              "    20% {\n",
              "      border-color: transparent;\n",
              "      border-left-color: var(--fill-color);\n",
              "      border-top-color: var(--fill-color);\n",
              "    }\n",
              "    30% {\n",
              "      border-color: transparent;\n",
              "      border-left-color: var(--fill-color);\n",
              "      border-top-color: var(--fill-color);\n",
              "      border-right-color: var(--fill-color);\n",
              "    }\n",
              "    40% {\n",
              "      border-color: transparent;\n",
              "      border-right-color: var(--fill-color);\n",
              "      border-top-color: var(--fill-color);\n",
              "    }\n",
              "    60% {\n",
              "      border-color: transparent;\n",
              "      border-right-color: var(--fill-color);\n",
              "    }\n",
              "    80% {\n",
              "      border-color: transparent;\n",
              "      border-right-color: var(--fill-color);\n",
              "      border-bottom-color: var(--fill-color);\n",
              "    }\n",
              "    90% {\n",
              "      border-color: transparent;\n",
              "      border-bottom-color: var(--fill-color);\n",
              "    }\n",
              "  }\n",
              "</style>\n",
              "\n",
              "  <script>\n",
              "    async function quickchart(key) {\n",
              "      const quickchartButtonEl =\n",
              "        document.querySelector('#' + key + ' button');\n",
              "      quickchartButtonEl.disabled = true;  // To prevent multiple clicks.\n",
              "      quickchartButtonEl.classList.add('colab-df-spinner');\n",
              "      try {\n",
              "        const charts = await google.colab.kernel.invokeFunction(\n",
              "            'suggestCharts', [key], {});\n",
              "      } catch (error) {\n",
              "        console.error('Error during call to suggestCharts:', error);\n",
              "      }\n",
              "      quickchartButtonEl.classList.remove('colab-df-spinner');\n",
              "      quickchartButtonEl.classList.add('colab-df-quickchart-complete');\n",
              "    }\n",
              "    (() => {\n",
              "      let quickchartButtonEl =\n",
              "        document.querySelector('#df-a11ab4fd-a260-407c-9d40-d27f690a9a62 button');\n",
              "      quickchartButtonEl.style.display =\n",
              "        google.colab.kernel.accessAllowed ? 'block' : 'none';\n",
              "    })();\n",
              "  </script>\n",
              "</div>\n",
              "\n",
              "    </div>\n",
              "  </div>\n"
            ],
            "application/vnd.google.colaboratory.intrinsic+json": {
              "type": "dataframe",
              "summary": "{\n  \"name\": \"df_train\",\n  \"rows\": 3,\n  \"fields\": [\n    {\n      \"column\": \"count\",\n      \"properties\": {\n        \"dtype\": \"date\",\n        \"min\": \"87095\",\n        \"max\": \"93686\",\n        \"num_unique_values\": 3,\n        \"samples\": [\n          \"93686\",\n          \"87095\",\n          \"93665\"\n        ],\n        \"semantic_type\": \"\",\n        \"description\": \"\"\n      }\n    },\n    {\n      \"column\": \"unique\",\n      \"properties\": {\n        \"dtype\": \"date\",\n        \"min\": 15,\n        \"max\": 85013,\n        \"num_unique_values\": 3,\n        \"samples\": [\n          15,\n          35,\n          85013\n        ],\n        \"semantic_type\": \"\",\n        \"description\": \"\"\n      }\n    },\n    {\n      \"column\": \"top\",\n      \"properties\": {\n        \"dtype\": \"string\",\n        \"num_unique_values\": 3,\n        \"samples\": [\n          \"Online Financial Fraud\",\n          \"UPI Related Frauds\",\n          \"Respected Sir\\r\\n\\r\\nA very serious matter I want to inform you Few person running or involve in some very shamefull activities by using few women at many places of kolkata gariahat ballygunge RUBY HOSPITAL BEHIND area KASBA ANANDAPUR QUEST MALL metropolis mall area ACROPOLISMALL area park circus FORUM MALL ELGIN RD Parkstreet MAIDAN AREA esplanade Garia jadavpur BEHALASAKHERBAZAR JOKA BANSDRONI  Rabindrasadanexide area  HARIDEVPUR triangular park lake mall area rashbehari area TOLLYGUNGE THAKURPUKUR BBD BAG DALHOUSIE AREA  and SALTLAKE\\r\\n\\r\\nTheir name \\r\\nSUBHRO SAHA AMLAN DATTA \\r\\nIZAZ AHMED Anirban\\r\\n\\r\\n\\r\\nThey officially work in a insurance office hdfclife \\u00a0a hindustanpark ab gariahat shopping mall st floor beside of reliance trend building near gariahat more  but outside at several places  they involve in some shamefull activities last years\\r\\n\\r\\nSir a person SUBHRO SAHA forcefully involve few women employee ex FEMALE employee in such shamefull doing\\r\\n\\r\\nAt afternoon evening or after evening or night time they doing this shamefull activities\\r\\n\\r\\nMany innocent people are TRAPPED and suffering in such dirty issue for long time\\r\\nThey are even  to lodge a complain against them because of  threatening and blackmailing ISSUE\\r\\n\\r\\n\\r\\nFrom above  address PLACES and their mobile whatsapp no  you can easily trace and track their all activities You need to investigate Last years detail\\r\\n\\r\\n\\r\\nPlease help\"\n        ],\n        \"semantic_type\": \"\",\n        \"description\": \"\"\n      }\n    },\n    {\n      \"column\": \"freq\",\n      \"properties\": {\n        \"dtype\": \"date\",\n        \"min\": \"2342\",\n        \"max\": \"57434\",\n        \"num_unique_values\": 3,\n        \"samples\": [\n          \"57434\",\n          \"26856\",\n          \"2342\"\n        ],\n        \"semantic_type\": \"\",\n        \"description\": \"\"\n      }\n    }\n  ]\n}"
            }
          },
          "metadata": {},
          "execution_count": 22
        }
      ]
    },
    {
      "cell_type": "code",
      "source": [
        "df_train.describe(include='object').T"
      ],
      "metadata": {
        "colab": {
          "base_uri": "https://localhost:8080/",
          "height": 143
        },
        "id": "GyUQPezfItVT",
        "outputId": "9e2b281a-5065-44c4-f428-33b3e9b6c6dd"
      },
      "execution_count": 23,
      "outputs": [
        {
          "output_type": "execute_result",
          "data": {
            "text/plain": [
              "                    count unique  \\\n",
              "category            93686     15   \n",
              "sub_category        87095     35   \n",
              "crimeaditionalinfo  93665  85013   \n",
              "\n",
              "                                                                  top   freq  \n",
              "category                                       Online Financial Fraud  57434  \n",
              "sub_category                                       UPI Related Frauds  26856  \n",
              "crimeaditionalinfo  Respected Sir\\r\\n\\r\\nA very serious matter I w...   2342  "
            ],
            "text/html": [
              "\n",
              "  <div id=\"df-71245d8b-111e-4560-b55e-58dd044c2a8f\" class=\"colab-df-container\">\n",
              "    <div>\n",
              "<style scoped>\n",
              "    .dataframe tbody tr th:only-of-type {\n",
              "        vertical-align: middle;\n",
              "    }\n",
              "\n",
              "    .dataframe tbody tr th {\n",
              "        vertical-align: top;\n",
              "    }\n",
              "\n",
              "    .dataframe thead th {\n",
              "        text-align: right;\n",
              "    }\n",
              "</style>\n",
              "<table border=\"1\" class=\"dataframe\">\n",
              "  <thead>\n",
              "    <tr style=\"text-align: right;\">\n",
              "      <th></th>\n",
              "      <th>count</th>\n",
              "      <th>unique</th>\n",
              "      <th>top</th>\n",
              "      <th>freq</th>\n",
              "    </tr>\n",
              "  </thead>\n",
              "  <tbody>\n",
              "    <tr>\n",
              "      <th>category</th>\n",
              "      <td>93686</td>\n",
              "      <td>15</td>\n",
              "      <td>Online Financial Fraud</td>\n",
              "      <td>57434</td>\n",
              "    </tr>\n",
              "    <tr>\n",
              "      <th>sub_category</th>\n",
              "      <td>87095</td>\n",
              "      <td>35</td>\n",
              "      <td>UPI Related Frauds</td>\n",
              "      <td>26856</td>\n",
              "    </tr>\n",
              "    <tr>\n",
              "      <th>crimeaditionalinfo</th>\n",
              "      <td>93665</td>\n",
              "      <td>85013</td>\n",
              "      <td>Respected Sir\\r\\n\\r\\nA very serious matter I w...</td>\n",
              "      <td>2342</td>\n",
              "    </tr>\n",
              "  </tbody>\n",
              "</table>\n",
              "</div>\n",
              "    <div class=\"colab-df-buttons\">\n",
              "\n",
              "  <div class=\"colab-df-container\">\n",
              "    <button class=\"colab-df-convert\" onclick=\"convertToInteractive('df-71245d8b-111e-4560-b55e-58dd044c2a8f')\"\n",
              "            title=\"Convert this dataframe to an interactive table.\"\n",
              "            style=\"display:none;\">\n",
              "\n",
              "  <svg xmlns=\"http://www.w3.org/2000/svg\" height=\"24px\" viewBox=\"0 -960 960 960\">\n",
              "    <path d=\"M120-120v-720h720v720H120Zm60-500h600v-160H180v160Zm220 220h160v-160H400v160Zm0 220h160v-160H400v160ZM180-400h160v-160H180v160Zm440 0h160v-160H620v160ZM180-180h160v-160H180v160Zm440 0h160v-160H620v160Z\"/>\n",
              "  </svg>\n",
              "    </button>\n",
              "\n",
              "  <style>\n",
              "    .colab-df-container {\n",
              "      display:flex;\n",
              "      gap: 12px;\n",
              "    }\n",
              "\n",
              "    .colab-df-convert {\n",
              "      background-color: #E8F0FE;\n",
              "      border: none;\n",
              "      border-radius: 50%;\n",
              "      cursor: pointer;\n",
              "      display: none;\n",
              "      fill: #1967D2;\n",
              "      height: 32px;\n",
              "      padding: 0 0 0 0;\n",
              "      width: 32px;\n",
              "    }\n",
              "\n",
              "    .colab-df-convert:hover {\n",
              "      background-color: #E2EBFA;\n",
              "      box-shadow: 0px 1px 2px rgba(60, 64, 67, 0.3), 0px 1px 3px 1px rgba(60, 64, 67, 0.15);\n",
              "      fill: #174EA6;\n",
              "    }\n",
              "\n",
              "    .colab-df-buttons div {\n",
              "      margin-bottom: 4px;\n",
              "    }\n",
              "\n",
              "    [theme=dark] .colab-df-convert {\n",
              "      background-color: #3B4455;\n",
              "      fill: #D2E3FC;\n",
              "    }\n",
              "\n",
              "    [theme=dark] .colab-df-convert:hover {\n",
              "      background-color: #434B5C;\n",
              "      box-shadow: 0px 1px 3px 1px rgba(0, 0, 0, 0.15);\n",
              "      filter: drop-shadow(0px 1px 2px rgba(0, 0, 0, 0.3));\n",
              "      fill: #FFFFFF;\n",
              "    }\n",
              "  </style>\n",
              "\n",
              "    <script>\n",
              "      const buttonEl =\n",
              "        document.querySelector('#df-71245d8b-111e-4560-b55e-58dd044c2a8f button.colab-df-convert');\n",
              "      buttonEl.style.display =\n",
              "        google.colab.kernel.accessAllowed ? 'block' : 'none';\n",
              "\n",
              "      async function convertToInteractive(key) {\n",
              "        const element = document.querySelector('#df-71245d8b-111e-4560-b55e-58dd044c2a8f');\n",
              "        const dataTable =\n",
              "          await google.colab.kernel.invokeFunction('convertToInteractive',\n",
              "                                                    [key], {});\n",
              "        if (!dataTable) return;\n",
              "\n",
              "        const docLinkHtml = 'Like what you see? Visit the ' +\n",
              "          '<a target=\"_blank\" href=https://colab.research.google.com/notebooks/data_table.ipynb>data table notebook</a>'\n",
              "          + ' to learn more about interactive tables.';\n",
              "        element.innerHTML = '';\n",
              "        dataTable['output_type'] = 'display_data';\n",
              "        await google.colab.output.renderOutput(dataTable, element);\n",
              "        const docLink = document.createElement('div');\n",
              "        docLink.innerHTML = docLinkHtml;\n",
              "        element.appendChild(docLink);\n",
              "      }\n",
              "    </script>\n",
              "  </div>\n",
              "\n",
              "\n",
              "<div id=\"df-aa434321-462c-4f81-ae89-4ad9351cd726\">\n",
              "  <button class=\"colab-df-quickchart\" onclick=\"quickchart('df-aa434321-462c-4f81-ae89-4ad9351cd726')\"\n",
              "            title=\"Suggest charts\"\n",
              "            style=\"display:none;\">\n",
              "\n",
              "<svg xmlns=\"http://www.w3.org/2000/svg\" height=\"24px\"viewBox=\"0 0 24 24\"\n",
              "     width=\"24px\">\n",
              "    <g>\n",
              "        <path d=\"M19 3H5c-1.1 0-2 .9-2 2v14c0 1.1.9 2 2 2h14c1.1 0 2-.9 2-2V5c0-1.1-.9-2-2-2zM9 17H7v-7h2v7zm4 0h-2V7h2v10zm4 0h-2v-4h2v4z\"/>\n",
              "    </g>\n",
              "</svg>\n",
              "  </button>\n",
              "\n",
              "<style>\n",
              "  .colab-df-quickchart {\n",
              "      --bg-color: #E8F0FE;\n",
              "      --fill-color: #1967D2;\n",
              "      --hover-bg-color: #E2EBFA;\n",
              "      --hover-fill-color: #174EA6;\n",
              "      --disabled-fill-color: #AAA;\n",
              "      --disabled-bg-color: #DDD;\n",
              "  }\n",
              "\n",
              "  [theme=dark] .colab-df-quickchart {\n",
              "      --bg-color: #3B4455;\n",
              "      --fill-color: #D2E3FC;\n",
              "      --hover-bg-color: #434B5C;\n",
              "      --hover-fill-color: #FFFFFF;\n",
              "      --disabled-bg-color: #3B4455;\n",
              "      --disabled-fill-color: #666;\n",
              "  }\n",
              "\n",
              "  .colab-df-quickchart {\n",
              "    background-color: var(--bg-color);\n",
              "    border: none;\n",
              "    border-radius: 50%;\n",
              "    cursor: pointer;\n",
              "    display: none;\n",
              "    fill: var(--fill-color);\n",
              "    height: 32px;\n",
              "    padding: 0;\n",
              "    width: 32px;\n",
              "  }\n",
              "\n",
              "  .colab-df-quickchart:hover {\n",
              "    background-color: var(--hover-bg-color);\n",
              "    box-shadow: 0 1px 2px rgba(60, 64, 67, 0.3), 0 1px 3px 1px rgba(60, 64, 67, 0.15);\n",
              "    fill: var(--button-hover-fill-color);\n",
              "  }\n",
              "\n",
              "  .colab-df-quickchart-complete:disabled,\n",
              "  .colab-df-quickchart-complete:disabled:hover {\n",
              "    background-color: var(--disabled-bg-color);\n",
              "    fill: var(--disabled-fill-color);\n",
              "    box-shadow: none;\n",
              "  }\n",
              "\n",
              "  .colab-df-spinner {\n",
              "    border: 2px solid var(--fill-color);\n",
              "    border-color: transparent;\n",
              "    border-bottom-color: var(--fill-color);\n",
              "    animation:\n",
              "      spin 1s steps(1) infinite;\n",
              "  }\n",
              "\n",
              "  @keyframes spin {\n",
              "    0% {\n",
              "      border-color: transparent;\n",
              "      border-bottom-color: var(--fill-color);\n",
              "      border-left-color: var(--fill-color);\n",
              "    }\n",
              "    20% {\n",
              "      border-color: transparent;\n",
              "      border-left-color: var(--fill-color);\n",
              "      border-top-color: var(--fill-color);\n",
              "    }\n",
              "    30% {\n",
              "      border-color: transparent;\n",
              "      border-left-color: var(--fill-color);\n",
              "      border-top-color: var(--fill-color);\n",
              "      border-right-color: var(--fill-color);\n",
              "    }\n",
              "    40% {\n",
              "      border-color: transparent;\n",
              "      border-right-color: var(--fill-color);\n",
              "      border-top-color: var(--fill-color);\n",
              "    }\n",
              "    60% {\n",
              "      border-color: transparent;\n",
              "      border-right-color: var(--fill-color);\n",
              "    }\n",
              "    80% {\n",
              "      border-color: transparent;\n",
              "      border-right-color: var(--fill-color);\n",
              "      border-bottom-color: var(--fill-color);\n",
              "    }\n",
              "    90% {\n",
              "      border-color: transparent;\n",
              "      border-bottom-color: var(--fill-color);\n",
              "    }\n",
              "  }\n",
              "</style>\n",
              "\n",
              "  <script>\n",
              "    async function quickchart(key) {\n",
              "      const quickchartButtonEl =\n",
              "        document.querySelector('#' + key + ' button');\n",
              "      quickchartButtonEl.disabled = true;  // To prevent multiple clicks.\n",
              "      quickchartButtonEl.classList.add('colab-df-spinner');\n",
              "      try {\n",
              "        const charts = await google.colab.kernel.invokeFunction(\n",
              "            'suggestCharts', [key], {});\n",
              "      } catch (error) {\n",
              "        console.error('Error during call to suggestCharts:', error);\n",
              "      }\n",
              "      quickchartButtonEl.classList.remove('colab-df-spinner');\n",
              "      quickchartButtonEl.classList.add('colab-df-quickchart-complete');\n",
              "    }\n",
              "    (() => {\n",
              "      let quickchartButtonEl =\n",
              "        document.querySelector('#df-aa434321-462c-4f81-ae89-4ad9351cd726 button');\n",
              "      quickchartButtonEl.style.display =\n",
              "        google.colab.kernel.accessAllowed ? 'block' : 'none';\n",
              "    })();\n",
              "  </script>\n",
              "</div>\n",
              "\n",
              "    </div>\n",
              "  </div>\n"
            ],
            "application/vnd.google.colaboratory.intrinsic+json": {
              "type": "dataframe",
              "summary": "{\n  \"name\": \"df_train\",\n  \"rows\": 3,\n  \"fields\": [\n    {\n      \"column\": \"count\",\n      \"properties\": {\n        \"dtype\": \"date\",\n        \"min\": \"87095\",\n        \"max\": \"93686\",\n        \"num_unique_values\": 3,\n        \"samples\": [\n          \"93686\",\n          \"87095\",\n          \"93665\"\n        ],\n        \"semantic_type\": \"\",\n        \"description\": \"\"\n      }\n    },\n    {\n      \"column\": \"unique\",\n      \"properties\": {\n        \"dtype\": \"date\",\n        \"min\": 15,\n        \"max\": 85013,\n        \"num_unique_values\": 3,\n        \"samples\": [\n          15,\n          35,\n          85013\n        ],\n        \"semantic_type\": \"\",\n        \"description\": \"\"\n      }\n    },\n    {\n      \"column\": \"top\",\n      \"properties\": {\n        \"dtype\": \"string\",\n        \"num_unique_values\": 3,\n        \"samples\": [\n          \"Online Financial Fraud\",\n          \"UPI Related Frauds\",\n          \"Respected Sir\\r\\n\\r\\nA very serious matter I want to inform you Few person running or involve in some very shamefull activities by using few women at many places of kolkata gariahat ballygunge RUBY HOSPITAL BEHIND area KASBA ANANDAPUR QUEST MALL metropolis mall area ACROPOLISMALL area park circus FORUM MALL ELGIN RD Parkstreet MAIDAN AREA esplanade Garia jadavpur BEHALASAKHERBAZAR JOKA BANSDRONI  Rabindrasadanexide area  HARIDEVPUR triangular park lake mall area rashbehari area TOLLYGUNGE THAKURPUKUR BBD BAG DALHOUSIE AREA  and SALTLAKE\\r\\n\\r\\nTheir name \\r\\nSUBHRO SAHA AMLAN DATTA \\r\\nIZAZ AHMED Anirban\\r\\n\\r\\n\\r\\nThey officially work in a insurance office hdfclife \\u00a0a hindustanpark ab gariahat shopping mall st floor beside of reliance trend building near gariahat more  but outside at several places  they involve in some shamefull activities last years\\r\\n\\r\\nSir a person SUBHRO SAHA forcefully involve few women employee ex FEMALE employee in such shamefull doing\\r\\n\\r\\nAt afternoon evening or after evening or night time they doing this shamefull activities\\r\\n\\r\\nMany innocent people are TRAPPED and suffering in such dirty issue for long time\\r\\nThey are even  to lodge a complain against them because of  threatening and blackmailing ISSUE\\r\\n\\r\\n\\r\\nFrom above  address PLACES and their mobile whatsapp no  you can easily trace and track their all activities You need to investigate Last years detail\\r\\n\\r\\n\\r\\nPlease help\"\n        ],\n        \"semantic_type\": \"\",\n        \"description\": \"\"\n      }\n    },\n    {\n      \"column\": \"freq\",\n      \"properties\": {\n        \"dtype\": \"date\",\n        \"min\": \"2342\",\n        \"max\": \"57434\",\n        \"num_unique_values\": 3,\n        \"samples\": [\n          \"57434\",\n          \"26856\",\n          \"2342\"\n        ],\n        \"semantic_type\": \"\",\n        \"description\": \"\"\n      }\n    }\n  ]\n}"
            }
          },
          "metadata": {},
          "execution_count": 23
        }
      ]
    },
    {
      "cell_type": "markdown",
      "source": [
        "#### Discriptive statistics for Testing dataset"
      ],
      "metadata": {
        "id": "So9gKPrZCNum"
      }
    },
    {
      "cell_type": "markdown",
      "source": [
        "- I am going to perform similar analysis for test data to understand count, uniue elements, frequently repeated elements, etc"
      ],
      "metadata": {
        "id": "uVV3qxiHfL6K"
      }
    },
    {
      "cell_type": "code",
      "source": [
        "df_test.describe().T"
      ],
      "metadata": {
        "colab": {
          "base_uri": "https://localhost:8080/",
          "height": 143
        },
        "id": "oLxNexEeJQBi",
        "outputId": "151e74f4-ee99-4788-d1e4-5e54d2ad10a8"
      },
      "execution_count": 24,
      "outputs": [
        {
          "output_type": "execute_result",
          "data": {
            "text/plain": [
              "                    count unique  \\\n",
              "category            31229     15   \n",
              "sub_category        28993     37   \n",
              "crimeaditionalinfo  31222  28785   \n",
              "\n",
              "                                                                  top   freq  \n",
              "category                                       Online Financial Fraud  18896  \n",
              "sub_category                                       UPI Related Frauds   8890  \n",
              "crimeaditionalinfo  Respected Sir\\r\\n\\r\\nA very serious matter I w...    753  "
            ],
            "text/html": [
              "\n",
              "  <div id=\"df-5f826d2e-88e4-4b59-871c-3fae714ea5c4\" class=\"colab-df-container\">\n",
              "    <div>\n",
              "<style scoped>\n",
              "    .dataframe tbody tr th:only-of-type {\n",
              "        vertical-align: middle;\n",
              "    }\n",
              "\n",
              "    .dataframe tbody tr th {\n",
              "        vertical-align: top;\n",
              "    }\n",
              "\n",
              "    .dataframe thead th {\n",
              "        text-align: right;\n",
              "    }\n",
              "</style>\n",
              "<table border=\"1\" class=\"dataframe\">\n",
              "  <thead>\n",
              "    <tr style=\"text-align: right;\">\n",
              "      <th></th>\n",
              "      <th>count</th>\n",
              "      <th>unique</th>\n",
              "      <th>top</th>\n",
              "      <th>freq</th>\n",
              "    </tr>\n",
              "  </thead>\n",
              "  <tbody>\n",
              "    <tr>\n",
              "      <th>category</th>\n",
              "      <td>31229</td>\n",
              "      <td>15</td>\n",
              "      <td>Online Financial Fraud</td>\n",
              "      <td>18896</td>\n",
              "    </tr>\n",
              "    <tr>\n",
              "      <th>sub_category</th>\n",
              "      <td>28993</td>\n",
              "      <td>37</td>\n",
              "      <td>UPI Related Frauds</td>\n",
              "      <td>8890</td>\n",
              "    </tr>\n",
              "    <tr>\n",
              "      <th>crimeaditionalinfo</th>\n",
              "      <td>31222</td>\n",
              "      <td>28785</td>\n",
              "      <td>Respected Sir\\r\\n\\r\\nA very serious matter I w...</td>\n",
              "      <td>753</td>\n",
              "    </tr>\n",
              "  </tbody>\n",
              "</table>\n",
              "</div>\n",
              "    <div class=\"colab-df-buttons\">\n",
              "\n",
              "  <div class=\"colab-df-container\">\n",
              "    <button class=\"colab-df-convert\" onclick=\"convertToInteractive('df-5f826d2e-88e4-4b59-871c-3fae714ea5c4')\"\n",
              "            title=\"Convert this dataframe to an interactive table.\"\n",
              "            style=\"display:none;\">\n",
              "\n",
              "  <svg xmlns=\"http://www.w3.org/2000/svg\" height=\"24px\" viewBox=\"0 -960 960 960\">\n",
              "    <path d=\"M120-120v-720h720v720H120Zm60-500h600v-160H180v160Zm220 220h160v-160H400v160Zm0 220h160v-160H400v160ZM180-400h160v-160H180v160Zm440 0h160v-160H620v160ZM180-180h160v-160H180v160Zm440 0h160v-160H620v160Z\"/>\n",
              "  </svg>\n",
              "    </button>\n",
              "\n",
              "  <style>\n",
              "    .colab-df-container {\n",
              "      display:flex;\n",
              "      gap: 12px;\n",
              "    }\n",
              "\n",
              "    .colab-df-convert {\n",
              "      background-color: #E8F0FE;\n",
              "      border: none;\n",
              "      border-radius: 50%;\n",
              "      cursor: pointer;\n",
              "      display: none;\n",
              "      fill: #1967D2;\n",
              "      height: 32px;\n",
              "      padding: 0 0 0 0;\n",
              "      width: 32px;\n",
              "    }\n",
              "\n",
              "    .colab-df-convert:hover {\n",
              "      background-color: #E2EBFA;\n",
              "      box-shadow: 0px 1px 2px rgba(60, 64, 67, 0.3), 0px 1px 3px 1px rgba(60, 64, 67, 0.15);\n",
              "      fill: #174EA6;\n",
              "    }\n",
              "\n",
              "    .colab-df-buttons div {\n",
              "      margin-bottom: 4px;\n",
              "    }\n",
              "\n",
              "    [theme=dark] .colab-df-convert {\n",
              "      background-color: #3B4455;\n",
              "      fill: #D2E3FC;\n",
              "    }\n",
              "\n",
              "    [theme=dark] .colab-df-convert:hover {\n",
              "      background-color: #434B5C;\n",
              "      box-shadow: 0px 1px 3px 1px rgba(0, 0, 0, 0.15);\n",
              "      filter: drop-shadow(0px 1px 2px rgba(0, 0, 0, 0.3));\n",
              "      fill: #FFFFFF;\n",
              "    }\n",
              "  </style>\n",
              "\n",
              "    <script>\n",
              "      const buttonEl =\n",
              "        document.querySelector('#df-5f826d2e-88e4-4b59-871c-3fae714ea5c4 button.colab-df-convert');\n",
              "      buttonEl.style.display =\n",
              "        google.colab.kernel.accessAllowed ? 'block' : 'none';\n",
              "\n",
              "      async function convertToInteractive(key) {\n",
              "        const element = document.querySelector('#df-5f826d2e-88e4-4b59-871c-3fae714ea5c4');\n",
              "        const dataTable =\n",
              "          await google.colab.kernel.invokeFunction('convertToInteractive',\n",
              "                                                    [key], {});\n",
              "        if (!dataTable) return;\n",
              "\n",
              "        const docLinkHtml = 'Like what you see? Visit the ' +\n",
              "          '<a target=\"_blank\" href=https://colab.research.google.com/notebooks/data_table.ipynb>data table notebook</a>'\n",
              "          + ' to learn more about interactive tables.';\n",
              "        element.innerHTML = '';\n",
              "        dataTable['output_type'] = 'display_data';\n",
              "        await google.colab.output.renderOutput(dataTable, element);\n",
              "        const docLink = document.createElement('div');\n",
              "        docLink.innerHTML = docLinkHtml;\n",
              "        element.appendChild(docLink);\n",
              "      }\n",
              "    </script>\n",
              "  </div>\n",
              "\n",
              "\n",
              "<div id=\"df-39897e60-b966-4f1c-a46f-0ef2682e4748\">\n",
              "  <button class=\"colab-df-quickchart\" onclick=\"quickchart('df-39897e60-b966-4f1c-a46f-0ef2682e4748')\"\n",
              "            title=\"Suggest charts\"\n",
              "            style=\"display:none;\">\n",
              "\n",
              "<svg xmlns=\"http://www.w3.org/2000/svg\" height=\"24px\"viewBox=\"0 0 24 24\"\n",
              "     width=\"24px\">\n",
              "    <g>\n",
              "        <path d=\"M19 3H5c-1.1 0-2 .9-2 2v14c0 1.1.9 2 2 2h14c1.1 0 2-.9 2-2V5c0-1.1-.9-2-2-2zM9 17H7v-7h2v7zm4 0h-2V7h2v10zm4 0h-2v-4h2v4z\"/>\n",
              "    </g>\n",
              "</svg>\n",
              "  </button>\n",
              "\n",
              "<style>\n",
              "  .colab-df-quickchart {\n",
              "      --bg-color: #E8F0FE;\n",
              "      --fill-color: #1967D2;\n",
              "      --hover-bg-color: #E2EBFA;\n",
              "      --hover-fill-color: #174EA6;\n",
              "      --disabled-fill-color: #AAA;\n",
              "      --disabled-bg-color: #DDD;\n",
              "  }\n",
              "\n",
              "  [theme=dark] .colab-df-quickchart {\n",
              "      --bg-color: #3B4455;\n",
              "      --fill-color: #D2E3FC;\n",
              "      --hover-bg-color: #434B5C;\n",
              "      --hover-fill-color: #FFFFFF;\n",
              "      --disabled-bg-color: #3B4455;\n",
              "      --disabled-fill-color: #666;\n",
              "  }\n",
              "\n",
              "  .colab-df-quickchart {\n",
              "    background-color: var(--bg-color);\n",
              "    border: none;\n",
              "    border-radius: 50%;\n",
              "    cursor: pointer;\n",
              "    display: none;\n",
              "    fill: var(--fill-color);\n",
              "    height: 32px;\n",
              "    padding: 0;\n",
              "    width: 32px;\n",
              "  }\n",
              "\n",
              "  .colab-df-quickchart:hover {\n",
              "    background-color: var(--hover-bg-color);\n",
              "    box-shadow: 0 1px 2px rgba(60, 64, 67, 0.3), 0 1px 3px 1px rgba(60, 64, 67, 0.15);\n",
              "    fill: var(--button-hover-fill-color);\n",
              "  }\n",
              "\n",
              "  .colab-df-quickchart-complete:disabled,\n",
              "  .colab-df-quickchart-complete:disabled:hover {\n",
              "    background-color: var(--disabled-bg-color);\n",
              "    fill: var(--disabled-fill-color);\n",
              "    box-shadow: none;\n",
              "  }\n",
              "\n",
              "  .colab-df-spinner {\n",
              "    border: 2px solid var(--fill-color);\n",
              "    border-color: transparent;\n",
              "    border-bottom-color: var(--fill-color);\n",
              "    animation:\n",
              "      spin 1s steps(1) infinite;\n",
              "  }\n",
              "\n",
              "  @keyframes spin {\n",
              "    0% {\n",
              "      border-color: transparent;\n",
              "      border-bottom-color: var(--fill-color);\n",
              "      border-left-color: var(--fill-color);\n",
              "    }\n",
              "    20% {\n",
              "      border-color: transparent;\n",
              "      border-left-color: var(--fill-color);\n",
              "      border-top-color: var(--fill-color);\n",
              "    }\n",
              "    30% {\n",
              "      border-color: transparent;\n",
              "      border-left-color: var(--fill-color);\n",
              "      border-top-color: var(--fill-color);\n",
              "      border-right-color: var(--fill-color);\n",
              "    }\n",
              "    40% {\n",
              "      border-color: transparent;\n",
              "      border-right-color: var(--fill-color);\n",
              "      border-top-color: var(--fill-color);\n",
              "    }\n",
              "    60% {\n",
              "      border-color: transparent;\n",
              "      border-right-color: var(--fill-color);\n",
              "    }\n",
              "    80% {\n",
              "      border-color: transparent;\n",
              "      border-right-color: var(--fill-color);\n",
              "      border-bottom-color: var(--fill-color);\n",
              "    }\n",
              "    90% {\n",
              "      border-color: transparent;\n",
              "      border-bottom-color: var(--fill-color);\n",
              "    }\n",
              "  }\n",
              "</style>\n",
              "\n",
              "  <script>\n",
              "    async function quickchart(key) {\n",
              "      const quickchartButtonEl =\n",
              "        document.querySelector('#' + key + ' button');\n",
              "      quickchartButtonEl.disabled = true;  // To prevent multiple clicks.\n",
              "      quickchartButtonEl.classList.add('colab-df-spinner');\n",
              "      try {\n",
              "        const charts = await google.colab.kernel.invokeFunction(\n",
              "            'suggestCharts', [key], {});\n",
              "      } catch (error) {\n",
              "        console.error('Error during call to suggestCharts:', error);\n",
              "      }\n",
              "      quickchartButtonEl.classList.remove('colab-df-spinner');\n",
              "      quickchartButtonEl.classList.add('colab-df-quickchart-complete');\n",
              "    }\n",
              "    (() => {\n",
              "      let quickchartButtonEl =\n",
              "        document.querySelector('#df-39897e60-b966-4f1c-a46f-0ef2682e4748 button');\n",
              "      quickchartButtonEl.style.display =\n",
              "        google.colab.kernel.accessAllowed ? 'block' : 'none';\n",
              "    })();\n",
              "  </script>\n",
              "</div>\n",
              "\n",
              "    </div>\n",
              "  </div>\n"
            ],
            "application/vnd.google.colaboratory.intrinsic+json": {
              "type": "dataframe",
              "summary": "{\n  \"name\": \"df_test\",\n  \"rows\": 3,\n  \"fields\": [\n    {\n      \"column\": \"count\",\n      \"properties\": {\n        \"dtype\": \"date\",\n        \"min\": \"28993\",\n        \"max\": \"31229\",\n        \"num_unique_values\": 3,\n        \"samples\": [\n          \"31229\",\n          \"28993\",\n          \"31222\"\n        ],\n        \"semantic_type\": \"\",\n        \"description\": \"\"\n      }\n    },\n    {\n      \"column\": \"unique\",\n      \"properties\": {\n        \"dtype\": \"date\",\n        \"min\": 15,\n        \"max\": 28785,\n        \"num_unique_values\": 3,\n        \"samples\": [\n          15,\n          37,\n          28785\n        ],\n        \"semantic_type\": \"\",\n        \"description\": \"\"\n      }\n    },\n    {\n      \"column\": \"top\",\n      \"properties\": {\n        \"dtype\": \"string\",\n        \"num_unique_values\": 3,\n        \"samples\": [\n          \"Online Financial Fraud\",\n          \"UPI Related Frauds\",\n          \"Respected Sir\\r\\n\\r\\nA very serious matter I want to inform you Few person running or involve in some very shamefull activities by using few women at many places of kolkata gariahat ballygunge RUBY HOSPITAL BEHIND area KASBA ANANDAPUR QUEST MALL metropolis mall area ACROPOLISMALL area park circus FORUM MALL ELGIN RD Parkstreet MAIDAN AREA esplanade Garia jadavpur BEHALASAKHERBAZAR JOKA BANSDRONI  Rabindrasadanexide area  HARIDEVPUR triangular park lake mall area rashbehari area TOLLYGUNGE THAKURPUKUR BBD BAG DALHOUSIE AREA  and SALTLAKE\\r\\n\\r\\nTheir name \\r\\nSUBHRO SAHA AMLAN DATTA \\r\\nIZAZ AHMED Anirban\\r\\n\\r\\n\\r\\nThey officially work in a insurance office hdfclife \\u00a0a hindustanpark ab gariahat shopping mall st floor beside of reliance trend building near gariahat more  but outside at several places  they involve in some shamefull activities last years\\r\\n\\r\\nSir a person SUBHRO SAHA forcefully involve few women employee ex FEMALE employee in such shamefull doing\\r\\n\\r\\nAt afternoon evening or after evening or night time they doing this shamefull activities\\r\\n\\r\\nMany innocent people are TRAPPED and suffering in such dirty issue for long time\\r\\nThey are even  to lodge a complain against them because of  threatening and blackmailing ISSUE\\r\\n\\r\\n\\r\\nFrom above  address PLACES and their mobile whatsapp no  you can easily trace and track their all activities You need to investigate Last years detail\\r\\n\\r\\n\\r\\nPlease help\"\n        ],\n        \"semantic_type\": \"\",\n        \"description\": \"\"\n      }\n    },\n    {\n      \"column\": \"freq\",\n      \"properties\": {\n        \"dtype\": \"date\",\n        \"min\": \"753\",\n        \"max\": \"18896\",\n        \"num_unique_values\": 3,\n        \"samples\": [\n          \"18896\",\n          \"8890\",\n          \"753\"\n        ],\n        \"semantic_type\": \"\",\n        \"description\": \"\"\n      }\n    }\n  ]\n}"
            }
          },
          "metadata": {},
          "execution_count": 24
        }
      ]
    },
    {
      "cell_type": "code",
      "source": [
        "df_test.describe(include='object').T"
      ],
      "metadata": {
        "colab": {
          "base_uri": "https://localhost:8080/",
          "height": 143
        },
        "id": "9dM4LmahIoks",
        "outputId": "20d48015-d8d2-48e5-f5e4-5639ec7d58b5"
      },
      "execution_count": 25,
      "outputs": [
        {
          "output_type": "execute_result",
          "data": {
            "text/plain": [
              "                    count unique  \\\n",
              "category            31229     15   \n",
              "sub_category        28993     37   \n",
              "crimeaditionalinfo  31222  28785   \n",
              "\n",
              "                                                                  top   freq  \n",
              "category                                       Online Financial Fraud  18896  \n",
              "sub_category                                       UPI Related Frauds   8890  \n",
              "crimeaditionalinfo  Respected Sir\\r\\n\\r\\nA very serious matter I w...    753  "
            ],
            "text/html": [
              "\n",
              "  <div id=\"df-df6b7cda-1479-4b6c-90b8-82177cd0dcbe\" class=\"colab-df-container\">\n",
              "    <div>\n",
              "<style scoped>\n",
              "    .dataframe tbody tr th:only-of-type {\n",
              "        vertical-align: middle;\n",
              "    }\n",
              "\n",
              "    .dataframe tbody tr th {\n",
              "        vertical-align: top;\n",
              "    }\n",
              "\n",
              "    .dataframe thead th {\n",
              "        text-align: right;\n",
              "    }\n",
              "</style>\n",
              "<table border=\"1\" class=\"dataframe\">\n",
              "  <thead>\n",
              "    <tr style=\"text-align: right;\">\n",
              "      <th></th>\n",
              "      <th>count</th>\n",
              "      <th>unique</th>\n",
              "      <th>top</th>\n",
              "      <th>freq</th>\n",
              "    </tr>\n",
              "  </thead>\n",
              "  <tbody>\n",
              "    <tr>\n",
              "      <th>category</th>\n",
              "      <td>31229</td>\n",
              "      <td>15</td>\n",
              "      <td>Online Financial Fraud</td>\n",
              "      <td>18896</td>\n",
              "    </tr>\n",
              "    <tr>\n",
              "      <th>sub_category</th>\n",
              "      <td>28993</td>\n",
              "      <td>37</td>\n",
              "      <td>UPI Related Frauds</td>\n",
              "      <td>8890</td>\n",
              "    </tr>\n",
              "    <tr>\n",
              "      <th>crimeaditionalinfo</th>\n",
              "      <td>31222</td>\n",
              "      <td>28785</td>\n",
              "      <td>Respected Sir\\r\\n\\r\\nA very serious matter I w...</td>\n",
              "      <td>753</td>\n",
              "    </tr>\n",
              "  </tbody>\n",
              "</table>\n",
              "</div>\n",
              "    <div class=\"colab-df-buttons\">\n",
              "\n",
              "  <div class=\"colab-df-container\">\n",
              "    <button class=\"colab-df-convert\" onclick=\"convertToInteractive('df-df6b7cda-1479-4b6c-90b8-82177cd0dcbe')\"\n",
              "            title=\"Convert this dataframe to an interactive table.\"\n",
              "            style=\"display:none;\">\n",
              "\n",
              "  <svg xmlns=\"http://www.w3.org/2000/svg\" height=\"24px\" viewBox=\"0 -960 960 960\">\n",
              "    <path d=\"M120-120v-720h720v720H120Zm60-500h600v-160H180v160Zm220 220h160v-160H400v160Zm0 220h160v-160H400v160ZM180-400h160v-160H180v160Zm440 0h160v-160H620v160ZM180-180h160v-160H180v160Zm440 0h160v-160H620v160Z\"/>\n",
              "  </svg>\n",
              "    </button>\n",
              "\n",
              "  <style>\n",
              "    .colab-df-container {\n",
              "      display:flex;\n",
              "      gap: 12px;\n",
              "    }\n",
              "\n",
              "    .colab-df-convert {\n",
              "      background-color: #E8F0FE;\n",
              "      border: none;\n",
              "      border-radius: 50%;\n",
              "      cursor: pointer;\n",
              "      display: none;\n",
              "      fill: #1967D2;\n",
              "      height: 32px;\n",
              "      padding: 0 0 0 0;\n",
              "      width: 32px;\n",
              "    }\n",
              "\n",
              "    .colab-df-convert:hover {\n",
              "      background-color: #E2EBFA;\n",
              "      box-shadow: 0px 1px 2px rgba(60, 64, 67, 0.3), 0px 1px 3px 1px rgba(60, 64, 67, 0.15);\n",
              "      fill: #174EA6;\n",
              "    }\n",
              "\n",
              "    .colab-df-buttons div {\n",
              "      margin-bottom: 4px;\n",
              "    }\n",
              "\n",
              "    [theme=dark] .colab-df-convert {\n",
              "      background-color: #3B4455;\n",
              "      fill: #D2E3FC;\n",
              "    }\n",
              "\n",
              "    [theme=dark] .colab-df-convert:hover {\n",
              "      background-color: #434B5C;\n",
              "      box-shadow: 0px 1px 3px 1px rgba(0, 0, 0, 0.15);\n",
              "      filter: drop-shadow(0px 1px 2px rgba(0, 0, 0, 0.3));\n",
              "      fill: #FFFFFF;\n",
              "    }\n",
              "  </style>\n",
              "\n",
              "    <script>\n",
              "      const buttonEl =\n",
              "        document.querySelector('#df-df6b7cda-1479-4b6c-90b8-82177cd0dcbe button.colab-df-convert');\n",
              "      buttonEl.style.display =\n",
              "        google.colab.kernel.accessAllowed ? 'block' : 'none';\n",
              "\n",
              "      async function convertToInteractive(key) {\n",
              "        const element = document.querySelector('#df-df6b7cda-1479-4b6c-90b8-82177cd0dcbe');\n",
              "        const dataTable =\n",
              "          await google.colab.kernel.invokeFunction('convertToInteractive',\n",
              "                                                    [key], {});\n",
              "        if (!dataTable) return;\n",
              "\n",
              "        const docLinkHtml = 'Like what you see? Visit the ' +\n",
              "          '<a target=\"_blank\" href=https://colab.research.google.com/notebooks/data_table.ipynb>data table notebook</a>'\n",
              "          + ' to learn more about interactive tables.';\n",
              "        element.innerHTML = '';\n",
              "        dataTable['output_type'] = 'display_data';\n",
              "        await google.colab.output.renderOutput(dataTable, element);\n",
              "        const docLink = document.createElement('div');\n",
              "        docLink.innerHTML = docLinkHtml;\n",
              "        element.appendChild(docLink);\n",
              "      }\n",
              "    </script>\n",
              "  </div>\n",
              "\n",
              "\n",
              "<div id=\"df-62cead50-5d91-4b8e-89aa-77720439be7f\">\n",
              "  <button class=\"colab-df-quickchart\" onclick=\"quickchart('df-62cead50-5d91-4b8e-89aa-77720439be7f')\"\n",
              "            title=\"Suggest charts\"\n",
              "            style=\"display:none;\">\n",
              "\n",
              "<svg xmlns=\"http://www.w3.org/2000/svg\" height=\"24px\"viewBox=\"0 0 24 24\"\n",
              "     width=\"24px\">\n",
              "    <g>\n",
              "        <path d=\"M19 3H5c-1.1 0-2 .9-2 2v14c0 1.1.9 2 2 2h14c1.1 0 2-.9 2-2V5c0-1.1-.9-2-2-2zM9 17H7v-7h2v7zm4 0h-2V7h2v10zm4 0h-2v-4h2v4z\"/>\n",
              "    </g>\n",
              "</svg>\n",
              "  </button>\n",
              "\n",
              "<style>\n",
              "  .colab-df-quickchart {\n",
              "      --bg-color: #E8F0FE;\n",
              "      --fill-color: #1967D2;\n",
              "      --hover-bg-color: #E2EBFA;\n",
              "      --hover-fill-color: #174EA6;\n",
              "      --disabled-fill-color: #AAA;\n",
              "      --disabled-bg-color: #DDD;\n",
              "  }\n",
              "\n",
              "  [theme=dark] .colab-df-quickchart {\n",
              "      --bg-color: #3B4455;\n",
              "      --fill-color: #D2E3FC;\n",
              "      --hover-bg-color: #434B5C;\n",
              "      --hover-fill-color: #FFFFFF;\n",
              "      --disabled-bg-color: #3B4455;\n",
              "      --disabled-fill-color: #666;\n",
              "  }\n",
              "\n",
              "  .colab-df-quickchart {\n",
              "    background-color: var(--bg-color);\n",
              "    border: none;\n",
              "    border-radius: 50%;\n",
              "    cursor: pointer;\n",
              "    display: none;\n",
              "    fill: var(--fill-color);\n",
              "    height: 32px;\n",
              "    padding: 0;\n",
              "    width: 32px;\n",
              "  }\n",
              "\n",
              "  .colab-df-quickchart:hover {\n",
              "    background-color: var(--hover-bg-color);\n",
              "    box-shadow: 0 1px 2px rgba(60, 64, 67, 0.3), 0 1px 3px 1px rgba(60, 64, 67, 0.15);\n",
              "    fill: var(--button-hover-fill-color);\n",
              "  }\n",
              "\n",
              "  .colab-df-quickchart-complete:disabled,\n",
              "  .colab-df-quickchart-complete:disabled:hover {\n",
              "    background-color: var(--disabled-bg-color);\n",
              "    fill: var(--disabled-fill-color);\n",
              "    box-shadow: none;\n",
              "  }\n",
              "\n",
              "  .colab-df-spinner {\n",
              "    border: 2px solid var(--fill-color);\n",
              "    border-color: transparent;\n",
              "    border-bottom-color: var(--fill-color);\n",
              "    animation:\n",
              "      spin 1s steps(1) infinite;\n",
              "  }\n",
              "\n",
              "  @keyframes spin {\n",
              "    0% {\n",
              "      border-color: transparent;\n",
              "      border-bottom-color: var(--fill-color);\n",
              "      border-left-color: var(--fill-color);\n",
              "    }\n",
              "    20% {\n",
              "      border-color: transparent;\n",
              "      border-left-color: var(--fill-color);\n",
              "      border-top-color: var(--fill-color);\n",
              "    }\n",
              "    30% {\n",
              "      border-color: transparent;\n",
              "      border-left-color: var(--fill-color);\n",
              "      border-top-color: var(--fill-color);\n",
              "      border-right-color: var(--fill-color);\n",
              "    }\n",
              "    40% {\n",
              "      border-color: transparent;\n",
              "      border-right-color: var(--fill-color);\n",
              "      border-top-color: var(--fill-color);\n",
              "    }\n",
              "    60% {\n",
              "      border-color: transparent;\n",
              "      border-right-color: var(--fill-color);\n",
              "    }\n",
              "    80% {\n",
              "      border-color: transparent;\n",
              "      border-right-color: var(--fill-color);\n",
              "      border-bottom-color: var(--fill-color);\n",
              "    }\n",
              "    90% {\n",
              "      border-color: transparent;\n",
              "      border-bottom-color: var(--fill-color);\n",
              "    }\n",
              "  }\n",
              "</style>\n",
              "\n",
              "  <script>\n",
              "    async function quickchart(key) {\n",
              "      const quickchartButtonEl =\n",
              "        document.querySelector('#' + key + ' button');\n",
              "      quickchartButtonEl.disabled = true;  // To prevent multiple clicks.\n",
              "      quickchartButtonEl.classList.add('colab-df-spinner');\n",
              "      try {\n",
              "        const charts = await google.colab.kernel.invokeFunction(\n",
              "            'suggestCharts', [key], {});\n",
              "      } catch (error) {\n",
              "        console.error('Error during call to suggestCharts:', error);\n",
              "      }\n",
              "      quickchartButtonEl.classList.remove('colab-df-spinner');\n",
              "      quickchartButtonEl.classList.add('colab-df-quickchart-complete');\n",
              "    }\n",
              "    (() => {\n",
              "      let quickchartButtonEl =\n",
              "        document.querySelector('#df-62cead50-5d91-4b8e-89aa-77720439be7f button');\n",
              "      quickchartButtonEl.style.display =\n",
              "        google.colab.kernel.accessAllowed ? 'block' : 'none';\n",
              "    })();\n",
              "  </script>\n",
              "</div>\n",
              "\n",
              "    </div>\n",
              "  </div>\n"
            ],
            "application/vnd.google.colaboratory.intrinsic+json": {
              "type": "dataframe",
              "summary": "{\n  \"name\": \"df_test\",\n  \"rows\": 3,\n  \"fields\": [\n    {\n      \"column\": \"count\",\n      \"properties\": {\n        \"dtype\": \"date\",\n        \"min\": \"28993\",\n        \"max\": \"31229\",\n        \"num_unique_values\": 3,\n        \"samples\": [\n          \"31229\",\n          \"28993\",\n          \"31222\"\n        ],\n        \"semantic_type\": \"\",\n        \"description\": \"\"\n      }\n    },\n    {\n      \"column\": \"unique\",\n      \"properties\": {\n        \"dtype\": \"date\",\n        \"min\": 15,\n        \"max\": 28785,\n        \"num_unique_values\": 3,\n        \"samples\": [\n          15,\n          37,\n          28785\n        ],\n        \"semantic_type\": \"\",\n        \"description\": \"\"\n      }\n    },\n    {\n      \"column\": \"top\",\n      \"properties\": {\n        \"dtype\": \"string\",\n        \"num_unique_values\": 3,\n        \"samples\": [\n          \"Online Financial Fraud\",\n          \"UPI Related Frauds\",\n          \"Respected Sir\\r\\n\\r\\nA very serious matter I want to inform you Few person running or involve in some very shamefull activities by using few women at many places of kolkata gariahat ballygunge RUBY HOSPITAL BEHIND area KASBA ANANDAPUR QUEST MALL metropolis mall area ACROPOLISMALL area park circus FORUM MALL ELGIN RD Parkstreet MAIDAN AREA esplanade Garia jadavpur BEHALASAKHERBAZAR JOKA BANSDRONI  Rabindrasadanexide area  HARIDEVPUR triangular park lake mall area rashbehari area TOLLYGUNGE THAKURPUKUR BBD BAG DALHOUSIE AREA  and SALTLAKE\\r\\n\\r\\nTheir name \\r\\nSUBHRO SAHA AMLAN DATTA \\r\\nIZAZ AHMED Anirban\\r\\n\\r\\n\\r\\nThey officially work in a insurance office hdfclife \\u00a0a hindustanpark ab gariahat shopping mall st floor beside of reliance trend building near gariahat more  but outside at several places  they involve in some shamefull activities last years\\r\\n\\r\\nSir a person SUBHRO SAHA forcefully involve few women employee ex FEMALE employee in such shamefull doing\\r\\n\\r\\nAt afternoon evening or after evening or night time they doing this shamefull activities\\r\\n\\r\\nMany innocent people are TRAPPED and suffering in such dirty issue for long time\\r\\nThey are even  to lodge a complain against them because of  threatening and blackmailing ISSUE\\r\\n\\r\\n\\r\\nFrom above  address PLACES and their mobile whatsapp no  you can easily trace and track their all activities You need to investigate Last years detail\\r\\n\\r\\n\\r\\nPlease help\"\n        ],\n        \"semantic_type\": \"\",\n        \"description\": \"\"\n      }\n    },\n    {\n      \"column\": \"freq\",\n      \"properties\": {\n        \"dtype\": \"date\",\n        \"min\": \"753\",\n        \"max\": \"18896\",\n        \"num_unique_values\": 3,\n        \"samples\": [\n          \"18896\",\n          \"8890\",\n          \"753\"\n        ],\n        \"semantic_type\": \"\",\n        \"description\": \"\"\n      }\n    }\n  ]\n}"
            }
          },
          "metadata": {},
          "execution_count": 25
        }
      ]
    },
    {
      "cell_type": "markdown",
      "source": [
        "#### Bar Plot : Distribution of training data"
      ],
      "metadata": {
        "id": "SeiJH007enw6"
      }
    },
    {
      "cell_type": "markdown",
      "source": [
        "**Bar plot for 'category' column in training dataset**\n",
        "- Visualizing the distribution of data in column 'category'.\n",
        "- There are 15 unique elements hence we can figure out their distribution using bar plot"
      ],
      "metadata": {
        "id": "uR7t6XP8fbZg"
      }
    },
    {
      "cell_type": "code",
      "source": [
        "sns.countplot(x='category', data=df_train)\n",
        "plt.xticks(rotation=90)\n",
        "plt.show()"
      ],
      "metadata": {
        "colab": {
          "base_uri": "https://localhost:8080/",
          "height": 828
        },
        "id": "DzwZWITVeuOo",
        "outputId": "253e8d36-652e-4977-ea06-a8d8dc97a148"
      },
      "execution_count": 26,
      "outputs": [
        {
          "output_type": "display_data",
          "data": {
            "text/plain": [
              "<Figure size 640x480 with 1 Axes>"
            ],
            "image/png": "[encoded data removed]"
          },
          "metadata": {}
        }
      ]
    },
    {
      "cell_type": "markdown",
      "source": [
        "---\n",
        "\n",
        "**Bar plot for 'sub_category' column in training dataset**\n",
        "- Visualizing the distribution of data in column 'sub_category'\n",
        "- There are 35 unique elements in sub_category\n",
        "- The bar plot will again help us understand distribution of data in column 'sub_category'"
      ],
      "metadata": {
        "id": "WBkJURW1fwsy"
      }
    },
    {
      "cell_type": "code",
      "source": [
        "sns.countplot(x='sub_category', data=df_train)\n",
        "plt.xticks(rotation=90)\n",
        "plt.show()"
      ],
      "metadata": {
        "colab": {
          "base_uri": "https://localhost:8080/",
          "height": 913
        },
        "id": "t9AgQLeWe9Xf",
        "outputId": "e5e9042e-e295-4fc9-e1a0-bcaa3ada58a4"
      },
      "execution_count": 27,
      "outputs": [
        {
          "output_type": "display_data",
          "data": {
            "text/plain": [
              "<Figure size 640x480 with 1 Axes>"
            ],
            "image/png": "[encoded data removed]"
          },
          "metadata": {}
        }
      ]
    },
    {
      "cell_type": "markdown",
      "source": [
        "#### Bar plot: Distribution of Testing data"
      ],
      "metadata": {
        "id": "pA12DS9nfhUa"
      }
    },
    {
      "cell_type": "markdown",
      "source": [
        "**Bar plot for 'category' column in testing dataset**\n",
        "- Visualizing the distribution of data in column 'category'.\n",
        "- There are 15 unique elements hence we can figure out their distribution using bar plot"
      ],
      "metadata": {
        "id": "ZBYNS08RqAXP"
      }
    },
    {
      "cell_type": "code",
      "source": [
        "sns.countplot(x='category', data=df_test)\n",
        "plt.xticks(rotation=90)\n",
        "plt.show()"
      ],
      "metadata": {
        "colab": {
          "base_uri": "https://localhost:8080/",
          "height": 825
        },
        "id": "OFKdRMP1fmYx",
        "outputId": "eb4cf303-b23b-4b4f-d2d4-a45dc7e12f6c"
      },
      "execution_count": 28,
      "outputs": [
        {
          "output_type": "display_data",
          "data": {
            "text/plain": [
              "<Figure size 640x480 with 1 Axes>"
            ],
            "image/png": "[encoded data removed]"
          },
          "metadata": {}
        }
      ]
    },
    {
      "cell_type": "markdown",
      "source": [
        "---\n",
        "\n",
        "**Bar plot for 'sub_category' column in testing dataset**\n",
        "\n",
        "- Visualizing the distribution of data in column 'sub_category'\n",
        "- There are 35 unique elements in sub_category\n",
        "- The bar plot will again help us understand distribution of data in column 'sub_category'"
      ],
      "metadata": {
        "id": "OPUYBomaqNKX"
      }
    },
    {
      "cell_type": "code",
      "source": [
        "sns.countplot(x='sub_category', data=df_train)\n",
        "plt.xticks(rotation=90)\n",
        "plt.show()"
      ],
      "metadata": {
        "colab": {
          "base_uri": "https://localhost:8080/",
          "height": 913
        },
        "id": "I8wLCmRTf3OH",
        "outputId": "425ae931-6751-456a-ad08-f5109db6cd34"
      },
      "execution_count": 29,
      "outputs": [
        {
          "output_type": "display_data",
          "data": {
            "text/plain": [
              "<Figure size 640x480 with 1 Axes>"
            ],
            "image/png": "[encoded data removed]"
          },
          "metadata": {}
        }
      ]
    },
    {
      "cell_type": "markdown",
      "source": [
        "### Step 5 : Missing value treatment"
      ],
      "metadata": {
        "id": "MLpnkGGNZ00y"
      }
    },
    {
      "cell_type": "markdown",
      "source": [
        "#### Missing value treatment in Training dataset"
      ],
      "metadata": {
        "id": "z9gCO_xecoAK"
      }
    },
    {
      "cell_type": "markdown",
      "source": [
        "- To treat missing values I am going to replace null value with the mode of that column as we are dealing with categorical data, the central tendency could be found out using mode."
      ],
      "metadata": {
        "id": "gRUrYu8eeIdQ"
      }
    },
    {
      "cell_type": "code",
      "source": [
        "for i in [\"category\", \"sub_category\", \"crimeaditionalinfo\"]:\n",
        "    df_train[i] = df_train[i].fillna(df_train[i].mode()[0])"
      ],
      "metadata": {
        "id": "wMNaUrAIZ8d4"
      },
      "execution_count": 30,
      "outputs": []
    },
    {
      "cell_type": "code",
      "source": [
        "df_train.isnull().sum()"
      ],
      "metadata": {
        "colab": {
          "base_uri": "https://localhost:8080/",
          "height": 178
        },
        "id": "XHu3MGH5a5iz",
        "outputId": "65b9278b-666c-4414-ccbd-1a6aae2a3141"
      },
      "execution_count": 31,
      "outputs": [
        {
          "output_type": "execute_result",
          "data": {
            "text/plain": [
              "category              0\n",
              "sub_category          0\n",
              "crimeaditionalinfo    0\n",
              "dtype: int64"
            ],
            "text/html": [
              "<div>\n",
              "<style scoped>\n",
              "    .dataframe tbody tr th:only-of-type {\n",
              "        vertical-align: middle;\n",
              "    }\n",
              "\n",
              "    .dataframe tbody tr th {\n",
              "        vertical-align: top;\n",
              "    }\n",
              "\n",
              "    .dataframe thead th {\n",
              "        text-align: right;\n",
              "    }\n",
              "</style>\n",
              "<table border=\"1\" class=\"dataframe\">\n",
              "  <thead>\n",
              "    <tr style=\"text-align: right;\">\n",
              "      <th></th>\n",
              "      <th>0</th>\n",
              "    </tr>\n",
              "  </thead>\n",
              "  <tbody>\n",
              "    <tr>\n",
              "      <th>category</th>\n",
              "      <td>0</td>\n",
              "    </tr>\n",
              "    <tr>\n",
              "      <th>sub_category</th>\n",
              "      <td>0</td>\n",
              "    </tr>\n",
              "    <tr>\n",
              "      <th>crimeaditionalinfo</th>\n",
              "      <td>0</td>\n",
              "    </tr>\n",
              "  </tbody>\n",
              "</table>\n",
              "</div><br><label><b>dtype:</b> int64</label>"
            ]
          },
          "metadata": {},
          "execution_count": 31
        }
      ]
    },
    {
      "cell_type": "markdown",
      "source": [
        "#### Misssing value treatment in Testing dataset\n"
      ],
      "metadata": {
        "id": "NL4wMyhLclV5"
      }
    },
    {
      "cell_type": "markdown",
      "source": [
        "- Following same steps for test dataset for better compatibility\n",
        "- I am replacing null values in each column with respective mode\n"
      ],
      "metadata": {
        "id": "n5U8zt4-efdu"
      }
    },
    {
      "cell_type": "code",
      "source": [
        "for i in [\"category\", \"sub_category\", \"crimeaditionalinfo\"]:\n",
        "    df_test[i] = df_test[i].fillna(df_test[i].mode()[0])"
      ],
      "metadata": {
        "id": "J2pUXLT8dOlg"
      },
      "execution_count": 33,
      "outputs": []
    },
    {
      "cell_type": "code",
      "source": [
        "df_test.isnull().sum()"
      ],
      "metadata": {
        "colab": {
          "base_uri": "https://localhost:8080/",
          "height": 178
        },
        "id": "tmkDW584diQ4",
        "outputId": "158b2835-c244-4a8b-eabb-54bacaccadf0"
      },
      "execution_count": 34,
      "outputs": [
        {
          "output_type": "execute_result",
          "data": {
            "text/plain": [
              "category              0\n",
              "sub_category          0\n",
              "crimeaditionalinfo    0\n",
              "dtype: int64"
            ],
            "text/html": [
              "<div>\n",
              "<style scoped>\n",
              "    .dataframe tbody tr th:only-of-type {\n",
              "        vertical-align: middle;\n",
              "    }\n",
              "\n",
              "    .dataframe tbody tr th {\n",
              "        vertical-align: top;\n",
              "    }\n",
              "\n",
              "    .dataframe thead th {\n",
              "        text-align: right;\n",
              "    }\n",
              "</style>\n",
              "<table border=\"1\" class=\"dataframe\">\n",
              "  <thead>\n",
              "    <tr style=\"text-align: right;\">\n",
              "      <th></th>\n",
              "      <th>0</th>\n",
              "    </tr>\n",
              "  </thead>\n",
              "  <tbody>\n",
              "    <tr>\n",
              "      <th>category</th>\n",
              "      <td>0</td>\n",
              "    </tr>\n",
              "    <tr>\n",
              "      <th>sub_category</th>\n",
              "      <td>0</td>\n",
              "    </tr>\n",
              "    <tr>\n",
              "      <th>crimeaditionalinfo</th>\n",
              "      <td>0</td>\n",
              "    </tr>\n",
              "  </tbody>\n",
              "</table>\n",
              "</div><br><label><b>dtype:</b> int64</label>"
            ]
          },
          "metadata": {},
          "execution_count": 34
        }
      ]
    },
    {
      "cell_type": "markdown",
      "source": [
        "### Step 6 : Duplicate value  traement"
      ],
      "metadata": {
        "id": "NU8maBGXd78x"
      }
    },
    {
      "cell_type": "markdown",
      "source": [
        "#### Duplicate value traement for Training dataset"
      ],
      "metadata": {
        "id": "uJwW9c6deCJ_"
      }
    },
    {
      "cell_type": "markdown",
      "source": [
        "- As duplicate data increases redundency and causes unnecessary entries in our dataset, removing duplicates is essential for making data more concise.\n",
        "- I am going to check for duplicates and keep only the first occurance and drop later occurances."
      ],
      "metadata": {
        "id": "AmGnwu1jqzaD"
      }
    },
    {
      "cell_type": "code",
      "source": [
        "duplicates = df_train[df_train['crimeaditionalinfo'].duplicated()]\n",
        "print(duplicates)"
      ],
      "metadata": {
        "colab": {
          "base_uri": "https://localhost:8080/"
        },
        "id": "QBRJDMcCePbc",
        "outputId": "1223c5b8-d0f3-448e-9013-56800a27a6f4"
      },
      "execution_count": 35,
      "outputs": [
        {
          "output_type": "stream",
          "name": "stdout",
          "text": [
            "                                        category        sub_category  \\\n",
            "77     RapeGang Rape RGRSexually Abusive Content  UPI Related Frauds   \n",
            "92     RapeGang Rape RGRSexually Abusive Content  UPI Related Frauds   \n",
            "98     RapeGang Rape RGRSexually Abusive Content  UPI Related Frauds   \n",
            "117    RapeGang Rape RGRSexually Abusive Content  UPI Related Frauds   \n",
            "129    RapeGang Rape RGRSexually Abusive Content  UPI Related Frauds   \n",
            "...                                          ...                 ...   \n",
            "93653  RapeGang Rape RGRSexually Abusive Content  UPI Related Frauds   \n",
            "93659                     Online Financial Fraud  UPI Related Frauds   \n",
            "93667  RapeGang Rape RGRSexually Abusive Content  UPI Related Frauds   \n",
            "93668                     Online Financial Fraud  UPI Related Frauds   \n",
            "93678  RapeGang Rape RGRSexually Abusive Content  UPI Related Frauds   \n",
            "\n",
            "                                      crimeaditionalinfo  \n",
            "77     Respected Sir\\r\\n\\r\\nA very serious matter I w...  \n",
            "92     Respected Sir\\r\\n\\r\\nA very serious matter I w...  \n",
            "98     Respected Sir\\r\\n\\r\\nA very serious matter I w...  \n",
            "117    Respected Sir\\r\\n\\r\\nA very serious matter I w...  \n",
            "129    Respected Sir\\r\\n\\r\\nA very serious matter I w...  \n",
            "...                                                  ...  \n",
            "93653  Respected Sir\\r\\n\\r\\nA very serious matter I w...  \n",
            "93659                                       ONLINE FRAUD  \n",
            "93667  Respected Sir\\r\\n\\r\\nA very serious matter I w...  \n",
            "93668        Amount debited from my account fraudulently  \n",
            "93678  Respected Sir\\r\\n\\r\\nA very serious matter I w...  \n",
            "\n",
            "[8673 rows x 3 columns]\n"
          ]
        }
      ]
    },
    {
      "cell_type": "code",
      "source": [
        "crime_counts = df_train['crimeaditionalinfo'].value_counts()"
      ],
      "metadata": {
        "id": "w8ORA09dmxDJ"
      },
      "execution_count": 36,
      "outputs": []
    },
    {
      "cell_type": "code",
      "source": [
        "print(crime_counts[crime_counts > 1])"
      ],
      "metadata": {
        "colab": {
          "base_uri": "https://localhost:8080/"
        },
        "id": "uHy0KS04o-7r",
        "outputId": "b6ccb3b6-bdda-4499-bbdb-3927c038f75f"
      },
      "execution_count": 37,
      "outputs": [
        {
          "output_type": "stream",
          "name": "stdout",
          "text": [
            "crimeaditionalinfo\n",
            "Respected Sir\\r\\n\\r\\nA very serious matter I want to inform you Few person running or involve in some very shamefull activities by using few women at many places of kolkata gariahat ballygunge RUBY HOSPITAL BEHIND area KASBA ANANDAPUR QUEST MALL metropolis mall area ACROPOLISMALL area park circus FORUM MALL ELGIN RD Parkstreet MAIDAN AREA esplanade Garia jadavpur BEHALASAKHERBAZAR JOKA BANSDRONI  Rabindrasadanexide area  HARIDEVPUR triangular park lake mall area rashbehari area TOLLYGUNGE THAKURPUKUR BBD BAG DALHOUSIE AREA  and SALTLAKE\\r\\n\\r\\nTheir name \\r\\nSUBHRO SAHA AMLAN DATTA \\r\\nIZAZ AHMED Anirban\\r\\n\\r\\n\\r\\nThey officially work in a insurance office hdfclife  a hindustanpark ab gariahat shopping mall st floor beside of reliance trend building near gariahat more  but outside at several places  they involve in some shamefull activities last years\\r\\n\\r\\nSir a person SUBHRO SAHA forcefully involve few women employee ex FEMALE employee in such shamefull doing\\r\\n\\r\\nAt afternoon evening or after evening or night time they doing this shamefull activities\\r\\n\\r\\nMany innocent people are TRAPPED and suffering in such dirty issue for long time\\r\\nThey are even  to lodge a complain against them because of  threatening and blackmailing ISSUE\\r\\n\\r\\n\\r\\nFrom above  address PLACES and their mobile whatsapp no  you can easily trace and track their all activities You need to investigate Last years detail\\r\\n\\r\\n\\r\\nPlease help    2363\n",
            "Financial Fraud                                                                                                                                                                                                                                                                                                                                                                                                                                                                                                                                                                                                                                                                                                                                                                                                                                                                                                                                                                                                                                                                                                                                                                                                                                                                                                                                                                                                                                                                                          234\n",
            "Respected Sir\\r\\n\\r\\nA very serious matter I want to inform you Few person running or involve in some very shamefull activities by using few women at many places of kolkata gariahat ballygunge RUBY HOSPITAL BEHIND area KASBA ANANDAPUR QUEST MALL metropolis mall area ACROPOLISMALL area park circus FORUM MALL ELGIN RD Parkstreet MAIDAN AREA esplanade Garia jadavpur BEHALA JOKA BANSDRONI  Rabindrasadanexide area  HARIDEVPUR triangular park lake mall area rashbehari area TOLLYGUNGE THAKURPUKUR BBD BAG DALHOUSIE AREA  and SALTLAKE\\r\\n\\r\\nTheir name \\r\\nSUBHRO SAHA AMLAN DATTA \\r\\nIZAZ AHMED Anirban\\r\\n\\r\\n\\r\\nThey officially work in a insurance office hdfclife  a hindustanpark ab gariahat shopping mall st floor beside of reliance trend building near gariahat more  but outside at several places  they involve in some shamefull activities last years\\r\\n\\r\\nSir a person SUBHRO SAHA forcefully involve few women employee ex FEMALE employee in such shamefull doing\\r\\n\\r\\nAt afternoon evening or after evening or night time they doing this shamefull activities\\r\\n\\r\\nMany innocent people are TRAPPED and suffering in such dirty issue for long time\\r\\nThey are even  to lodge a complain against them because of  threatening and blackmailing ISSUE\\r\\n\\r\\n\\r\\nFrom above  address PLACES and their mobile whatsapp no  you can easily trace and track their all activities You need to investigate Last years detail\\r\\n\\r\\n\\r\\nPlease help                192\n",
            "Fraudulent transaction                                                                                                                                                                                                                                                                                                                                                                                                                                                                                                                                                                                                                                                                                                                                                                                                                                                                                                                                                                                                                                                                                                                                                                                                                                                                                                                                                                                                                                                                                   173\n",
            "financial fraud                                                                                                                                                                                                                                                                                                                                                                                                                                                                                                                                                                                                                                                                                                                                                                                                                                                                                                                                                                                                                                                                                                                                                                                                                                                                                                                                                                                                                                                                                          169\n",
            "                                                                                                                                                                                                                                                                                                                                                                                                                                                                                                                                                                                                                                                                                                                                                                                                                                                                                                                                                                                                                                                                                                                                                                                                                                                                                                                                                                                                                                                                                                        ... \n",
            "Amount of Rs frauded through the Internet Banking                                                                                                                                                                                                                                                                                                                                                                                                                                                                                                                                                                                                                                                                                                                                                                                                                                                                                                                                                                                                                                                                                                                                                                                                                                                                                                                                                                                                                                                          2\n",
            "FRAUD THROUGH  Internet Banking Related Fraud\\t\\t\\t \\r\\nBANK NAME    STATE BANK OF INDIA  \\r\\nACCOUNT NUMBER  \\r\\nTOTAL AMOUNT  \\r\\nPLEASE HOLD REVERSE TOTAL AMOUNT IN THE COMPLAINT ACCOUNT AND TAKE NECESSARY ACTION                                                                                                                                                                                                                                                                                                                                                                                                                                                                                                                                                                                                                                                                                                                                                                                                                                                                                                                                                                                                                                                                                                                                                                                                                                                                                    2\n",
            "FRAUD THROUGH PHONE PAY  \\t\\t \\r\\nBANK   STATE BANK OF INDIA \\r\\nACCOUNT NUMBER  \\r\\nTOTAL AMOUNT \\r\\nPLEASE HOLD REVERSE TOTAL AMOUNT IN THE COMPLAINT ACCOUNT AND TAKE NECESSARY ACTION\\r\\n\\r\\n                                                                                                                                                                                                                                                                                                                                                                                                                                                                                                                                                                                                                                                                                                                                                                                                                                                                                                                                                                                                                                                                                                                                                                                                                                                                                                          2\n",
            "CALLER INFORMED THAT AMOUNT FRAUD DONE THROUGH PHONE PE                                                                                                                                                                                                                                                                                                                                                                                                                                                                                                                                                                                                                                                                                                                                                                                                                                                                                                                                                                                                                                                                                                                                                                                                                                                                                                                                                                                                                                                    2\n",
            "Identity theft  Fake Customer Care Service Fraud  Google victim searched amazon  customer care number by google victim purches a product on amazon bout its not delivered  so victim contact that number but the number was the fraudster and that suspect send one payment link to victim  victim fill the bank details then victim loss   then he realize that was a fraud                                                                                                                                                                                                                                                                                                                                                                                                                                                                                                                                                                                                                                                                                                                                                                                                                                                                                                                                                                                                                                                                                                                               2\n",
            "Name: count, Length: 1224, dtype: int64\n"
          ]
        }
      ]
    },
    {
      "cell_type": "code",
      "source": [
        "df_train = df_train.drop_duplicates(subset=['crimeaditionalinfo'], keep='first')"
      ],
      "metadata": {
        "id": "uOrScR4gn5vK"
      },
      "execution_count": 38,
      "outputs": []
    },
    {
      "cell_type": "code",
      "source": [
        "df_train.shape"
      ],
      "metadata": {
        "colab": {
          "base_uri": "https://localhost:8080/"
        },
        "id": "W_s1G32JoLGm",
        "outputId": "f2f6643c-e222-4e51-e7df-4874ab9821a7"
      },
      "execution_count": 39,
      "outputs": [
        {
          "output_type": "execute_result",
          "data": {
            "text/plain": [
              "(85013, 3)"
            ]
          },
          "metadata": {},
          "execution_count": 39
        }
      ]
    },
    {
      "cell_type": "markdown",
      "source": [
        "#### Duplicate value traement for Testing dataset"
      ],
      "metadata": {
        "id": "_DX7AEwWj6Lq"
      }
    },
    {
      "cell_type": "markdown",
      "source": [
        "- I will perform similar operations on testing dataset in order to keep it compatible, concise and reliable\n",
        "- Task is to check for duplicates, keep first occurance and drop the rest of the duplicate entries"
      ],
      "metadata": {
        "id": "Q8xZTshttgXp"
      }
    },
    {
      "cell_type": "code",
      "source": [
        "duplicates = df_test[df_test['crimeaditionalinfo'].duplicated()]\n",
        "print(duplicates)"
      ],
      "metadata": {
        "colab": {
          "base_uri": "https://localhost:8080/"
        },
        "id": "TU3r1qOmj-a2",
        "outputId": "23be5ac3-56da-4283-ff61-b154112071c1"
      },
      "execution_count": 40,
      "outputs": [
        {
          "output_type": "stream",
          "name": "stdout",
          "text": [
            "                                        category        sub_category  \\\n",
            "96     RapeGang Rape RGRSexually Abusive Content  UPI Related Frauds   \n",
            "108    RapeGang Rape RGRSexually Abusive Content  UPI Related Frauds   \n",
            "160    RapeGang Rape RGRSexually Abusive Content  UPI Related Frauds   \n",
            "176    RapeGang Rape RGRSexually Abusive Content  UPI Related Frauds   \n",
            "185    RapeGang Rape RGRSexually Abusive Content  UPI Related Frauds   \n",
            "...                                          ...                 ...   \n",
            "31182  RapeGang Rape RGRSexually Abusive Content  UPI Related Frauds   \n",
            "31190                     Online Financial Fraud  UPI Related Frauds   \n",
            "31194                     Online Financial Fraud  UPI Related Frauds   \n",
            "31207                     Online Financial Fraud  UPI Related Frauds   \n",
            "31209  RapeGang Rape RGRSexually Abusive Content  UPI Related Frauds   \n",
            "\n",
            "                                      crimeaditionalinfo  \n",
            "96     Respected Sir\\r\\n\\r\\nA very serious matter I w...  \n",
            "108    Respected Sir\\r\\n\\r\\nA very serious matter I w...  \n",
            "160    Respected Sir\\r\\n\\r\\nA very serious matter I w...  \n",
            "176    Respected Sir\\r\\n\\r\\nA very serious matter I w...  \n",
            "185    Respected Sir\\r\\n\\r\\nA very serious matter I w...  \n",
            "...                                                  ...  \n",
            "31182  Respected Sir\\r\\n\\r\\nA very serious matter I w...  \n",
            "31190                                                     \n",
            "31194  Sir An Unknown person has done a fraud transac...  \n",
            "31207                          PLEASE REFUND THIS AMOUNT  \n",
            "31209  Respected Sir\\r\\n\\r\\nA very serious matter I w...  \n",
            "\n",
            "[2444 rows x 3 columns]\n"
          ]
        }
      ]
    },
    {
      "cell_type": "code",
      "source": [
        "crime_counts = df_test['crimeaditionalinfo'].value_counts()"
      ],
      "metadata": {
        "id": "R6p6l_5tpPaS"
      },
      "execution_count": 41,
      "outputs": []
    },
    {
      "cell_type": "code",
      "source": [
        "print(crime_counts[crime_counts > 1])"
      ],
      "metadata": {
        "colab": {
          "base_uri": "https://localhost:8080/"
        },
        "id": "1OP0WLXZpWqe",
        "outputId": "e72b4a14-1b14-434e-c1d6-371f93eebe54"
      },
      "execution_count": 42,
      "outputs": [
        {
          "output_type": "stream",
          "name": "stdout",
          "text": [
            "crimeaditionalinfo\n",
            "Respected Sir\\r\\n\\r\\nA very serious matter I want to inform you Few person running or involve in some very shamefull activities by using few women at many places of kolkata gariahat ballygunge RUBY HOSPITAL BEHIND area KASBA ANANDAPUR QUEST MALL metropolis mall area ACROPOLISMALL area park circus FORUM MALL ELGIN RD Parkstreet MAIDAN AREA esplanade Garia jadavpur BEHALASAKHERBAZAR JOKA BANSDRONI  Rabindrasadanexide area  HARIDEVPUR triangular park lake mall area rashbehari area TOLLYGUNGE THAKURPUKUR BBD BAG DALHOUSIE AREA  and SALTLAKE\\r\\n\\r\\nTheir name \\r\\nSUBHRO SAHA AMLAN DATTA \\r\\nIZAZ AHMED Anirban\\r\\n\\r\\n\\r\\nThey officially work in a insurance office hdfclife  a hindustanpark ab gariahat shopping mall st floor beside of reliance trend building near gariahat more  but outside at several places  they involve in some shamefull activities last years\\r\\n\\r\\nSir a person SUBHRO SAHA forcefully involve few women employee ex FEMALE employee in such shamefull doing\\r\\n\\r\\nAt afternoon evening or after evening or night time they doing this shamefull activities\\r\\n\\r\\nMany innocent people are TRAPPED and suffering in such dirty issue for long time\\r\\nThey are even  to lodge a complain against them because of  threatening and blackmailing ISSUE\\r\\n\\r\\n\\r\\nFrom above  address PLACES and their mobile whatsapp no  you can easily trace and track their all activities You need to investigate Last years detail\\r\\n\\r\\n\\r\\nPlease help    760\n",
            "Respected Sir\\r\\n\\r\\nA very serious matter I want to inform you Few person running or involve in some very shamefull activities by using few women at many places of kolkata gariahat ballygunge RUBY HOSPITAL BEHIND area KASBA ANANDAPUR QUEST MALL metropolis mall area ACROPOLISMALL area park circus FORUM MALL ELGIN RD Parkstreet MAIDAN AREA esplanade Garia jadavpur BEHALA JOKA BANSDRONI  Rabindrasadanexide area  HARIDEVPUR triangular park lake mall area rashbehari area TOLLYGUNGE THAKURPUKUR BBD BAG DALHOUSIE AREA  and SALTLAKE\\r\\n\\r\\nTheir name \\r\\nSUBHRO SAHA AMLAN DATTA \\r\\nIZAZ AHMED Anirban\\r\\n\\r\\n\\r\\nThey officially work in a insurance office hdfclife  a hindustanpark ab gariahat shopping mall st floor beside of reliance trend building near gariahat more  but outside at several places  they involve in some shamefull activities last years\\r\\n\\r\\nSir a person SUBHRO SAHA forcefully involve few women employee ex FEMALE employee in such shamefull doing\\r\\n\\r\\nAt afternoon evening or after evening or night time they doing this shamefull activities\\r\\n\\r\\nMany innocent people are TRAPPED and suffering in such dirty issue for long time\\r\\nThey are even  to lodge a complain against them because of  threatening and blackmailing ISSUE\\r\\n\\r\\n\\r\\nFrom above  address PLACES and their mobile whatsapp no  you can easily trace and track their all activities You need to investigate Last years detail\\r\\n\\r\\n\\r\\nPlease help                62\n",
            "Financial Fraud                                                                                                                                                                                                                                                                                                                                                                                                                                                                                                                                                                                                                                                                                                                                                                                                                                                                                                                                                                                                                                                                                                                                                                                                                                                                                                                                                                                                                                                                                          60\n",
            "Fraudulent transaction                                                                                                                                                                                                                                                                                                                                                                                                                                                                                                                                                                                                                                                                                                                                                                                                                                                                                                                                                                                                                                                                                                                                                                                                                                                                                                                                                                                                                                                                                   59\n",
            "Financial Fraud                                                                                                                                                                                                                                                                                                                                                                                                                                                                                                                                                                                                                                                                                                                                                                                                                                                                                                                                                                                                                                                                                                                                                                                                                                                                                                                                                                                                                                                                                          54\n",
            "                                                                                                                                                                                                                                                                                                                                                                                                                                                                                                                                                                                                                                                                                                                                                                                                                                                                                                                                                                                                                                                                                                                                                                                                                                                                                                                                                                                                                                                                                                       ... \n",
            "Received fraud call and money send through UPI                                                                                                                                                                                                                                                                                                                                                                                                                                                                                                                                                                                                                                                                                                                                                                                                                                                                                                                                                                                                                                                                                                                                                                                                                                                                                                                                                                                                                                                            2\n",
            "FRAUD THROUGH  PHONE PE \\t\\r\\nBANK  STATE BANK OF INDIA \\r\\nACCOUNT NUMBER \\r\\nTOTAL AMOUNT  \\r\\nPLEASE HOLD REVERSE TOTAL AMOUNT IN THE COMPLAINT ACCOUNT AND TAKE NECESSARY ACTION\\r\\n                                                                                                                                                                                                                                                                                                                                                                                                                                                                                                                                                                                                                                                                                                                                                                                                                                                                                                                                                                                                                                                                                                                                                                                                                                                                                                                  2\n",
            "FRAUD THROUGH  UPI Fraud PHONE PE\\t\\t \\r\\nBANK NAME    \\tBank of Baroda Including Vijaya Bank and Dena Bank\\t\\r\\nACCOUNT NUMBER  \\r\\nTOTAL AMOUNT \\t\\r\\nPLEASE HOLD REVERSE TOTAL AMOUNT IN THE COMPLAINT ACCOUNT AND TAKE NECESSARY ACTION\\r\\n                                                                                                                                                                                                                                                                                                                                                                                                                                                                                                                                                                                                                                                                                                                                                                                                                                                                                                                                                                                                                                                                                                                                                                                                                                                           2\n",
            "                                                                                                                                                                                                                                                       l\\r\\n                                                                                                                                                                                                                                                                                                                                                                                                                                                                                                                                                                                                                                                                                                                                                                                                                                                                                                                                                                                                                                                                                                                                                                                                                                              2\n",
            "FRAUD THROUGH   UPI FRAUD PAYTM\\r\\nBANK  STATE BANK OF INDIA\\r\\nACCOUNT NUMBER   \\r\\nTOTAL AMOUNT   \\r\\nPLEASE HOLD REVERSE TOTAL AMOUNT IN THE COMPLAINT ACCOUNT AND TAKE NECESSARY ACTION\\r\\n                                                                                                                                                                                                                                                                                                                                                                                                                                                                                                                                                                                                                                                                                                                                                                                                                                                                                                                                                                                                                                                                                                                                                                                                                                                                                                           2\n",
            "Name: count, Length: 397, dtype: int64\n"
          ]
        }
      ]
    },
    {
      "cell_type": "code",
      "source": [
        "df_test = df_test.drop_duplicates(subset=['crimeaditionalinfo'], keep='first')"
      ],
      "metadata": {
        "id": "HUyMJ_q4pbGx"
      },
      "execution_count": 43,
      "outputs": []
    },
    {
      "cell_type": "code",
      "source": [
        "df_test.shape"
      ],
      "metadata": {
        "colab": {
          "base_uri": "https://localhost:8080/"
        },
        "id": "kgrxdNIKqp8y",
        "outputId": "b8506bfa-fce2-415c-c2a3-4009a482c74e"
      },
      "execution_count": 44,
      "outputs": [
        {
          "output_type": "execute_result",
          "data": {
            "text/plain": [
              "(28785, 3)"
            ]
          },
          "metadata": {},
          "execution_count": 44
        }
      ]
    },
    {
      "cell_type": "markdown",
      "source": [
        "### Step 7 : Text Cleaning"
      ],
      "metadata": {
        "id": "-ntmsDqe1Kz8"
      }
    },
    {
      "cell_type": "markdown",
      "source": [
        "#### Text cleaning for Training and Testing datasets"
      ],
      "metadata": {
        "id": "XUkJnTAC3_Ca"
      }
    },
    {
      "cell_type": "markdown",
      "source": [
        "- Now let's create a function for removing unnecessary elements like whitespace, leading and lagging spaces, special characters, etc\n",
        "- This will ensure readability, scalability\n",
        "- Goal is to clean 3rd column 'crimeaditionalinfo' containing textual data\n",
        "\n",
        "\n"
      ],
      "metadata": {
        "id": "MPiuqPryuIWm"
      }
    },
    {
      "cell_type": "code",
      "source": [
        "def clean_text(text):\n",
        "    text = re.sub(r'<.*?>', '', text)\n",
        "    text = re.sub(r'[^a-zA-Z\\s]', '', text)\n",
        "    text = re.sub(r'\\s+', ' ', text)\n",
        "    text = text.strip()\n",
        "    return text\n",
        "\n",
        "df_train['cleaned_text'] = df_train['crimeaditionalinfo'].apply(clean_text)\n",
        "df_test['cleaned_text'] = df_test['crimeaditionalinfo'].apply(clean_text)"
      ],
      "metadata": {
        "id": "t_SQVbMw23vj"
      },
      "execution_count": 45,
      "outputs": []
    },
    {
      "cell_type": "code",
      "source": [
        "print(df_train[['crimeaditionalinfo', 'cleaned_text']].head())\n",
        "print(df_test[['crimeaditionalinfo', 'cleaned_text']].head())"
      ],
      "metadata": {
        "colab": {
          "base_uri": "https://localhost:8080/"
        },
        "id": "3SyCxR2k3ViB",
        "outputId": "542f1a71-b650-44f1-9412-ec480145f81d"
      },
      "execution_count": 46,
      "outputs": [
        {
          "output_type": "stream",
          "name": "stdout",
          "text": [
            "                                  crimeaditionalinfo  \\\n",
            "0  I had continue received random calls and abusi...   \n",
            "1  The above fraudster is continuously messaging ...   \n",
            "2  He is acting like a police and demanding for m...   \n",
            "3  In apna Job I have applied for job interview f...   \n",
            "4  I received a call from lady stating that she w...   \n",
            "\n",
            "                                        cleaned_text  \n",
            "0  I had continue received random calls and abusi...  \n",
            "1  The above fraudster is continuously messaging ...  \n",
            "2  He is acting like a police and demanding for m...  \n",
            "3  In apna Job I have applied for job interview f...  \n",
            "4  I received a call from lady stating that she w...  \n",
            "                                  crimeaditionalinfo  \\\n",
            "0  Sir namaskar  mein Ranjit Kumar PatraPaise neh...   \n",
            "1          KOTAK MAHINDRA BANK FRAUD\\r\\nFRAUD AMOUNT   \n",
            "2  The issue actually started when I got this ema...   \n",
            "3  I am amit kumar from karwi chitrakoot I am tot...   \n",
            "4  I have ordered  saree and  blouse from rinki s...   \n",
            "\n",
            "                                        cleaned_text  \n",
            "0  Sir namaskar mein Ranjit Kumar PatraPaise nehi...  \n",
            "1             KOTAK MAHINDRA BANK FRAUD FRAUD AMOUNT  \n",
            "2  The issue actually started when I got this ema...  \n",
            "3  I am amit kumar from karwi chitrakoot I am tot...  \n",
            "4  I have ordered saree and blouse from rinki sur...  \n"
          ]
        }
      ]
    },
    {
      "cell_type": "markdown",
      "source": [
        "## Task 2: Tokenization"
      ],
      "metadata": {
        "id": "w0_IL5tD5X7q"
      }
    },
    {
      "cell_type": "markdown",
      "source": [
        "- Tokenization is the process of breaking down text into smaller units, called \"tokens.\"\n",
        "\n",
        "- These tokens can be words, subwords, or even characters, depending on the level of tokenization.\n",
        "\n",
        "- Tokenization helps in simplifying text data, making it easier to analyze and process for tasks like text classification, sentiment analysis, and machine translation.\n",
        "\n",
        "- it converts raw text into manageable pieces (tokens) that can be fed into machine learning models for further analysis, such as using TF-IDF or word embeddings, which is our goal."
      ],
      "metadata": {
        "id": "FfxdUhqyMmgy"
      }
    },
    {
      "cell_type": "code",
      "source": [
        "# Download punkt_tab\n",
        "nltk.download('punkt_tab')"
      ],
      "metadata": {
        "colab": {
          "base_uri": "https://localhost:8080/"
        },
        "id": "tZbnJAC7660f",
        "outputId": "34621d56-6508-4094-b680-4ed0a0761089"
      },
      "execution_count": 47,
      "outputs": [
        {
          "output_type": "stream",
          "name": "stderr",
          "text": [
            "[nltk_data] Downloading package punkt_tab to /root/nltk_data...\n",
            "[nltk_data]   Unzipping tokenizers/punkt_tab.zip.\n"
          ]
        },
        {
          "output_type": "execute_result",
          "data": {
            "text/plain": [
              "True"
            ]
          },
          "metadata": {},
          "execution_count": 47
        }
      ]
    },
    {
      "cell_type": "markdown",
      "source": [
        "- Now, I'll consider tokenizing the 'cleaned text' as it will not have whitespace, special characters, etc."
      ],
      "metadata": {
        "id": "Ad4tuwkYvJ1w"
      }
    },
    {
      "cell_type": "code",
      "source": [
        "df_train['tokens'] = df_train['cleaned_text'].apply(word_tokenize)\n",
        "df_test['tokens'] = df_test['cleaned_text'].apply(word_tokenize)"
      ],
      "metadata": {
        "id": "pB-wFMSE6Myv"
      },
      "execution_count": 48,
      "outputs": []
    },
    {
      "cell_type": "code",
      "source": [
        "print(df_train['tokens'].head())\n",
        "print(df_test['tokens'].head())"
      ],
      "metadata": {
        "colab": {
          "base_uri": "https://localhost:8080/"
        },
        "id": "YQ94tmyI7Kc7",
        "outputId": "aa44caef-dc74-4c2c-f2ba-11d9e6e371ab"
      },
      "execution_count": 49,
      "outputs": [
        {
          "output_type": "stream",
          "name": "stdout",
          "text": [
            "0    [I, had, continue, received, random, calls, an...\n",
            "1    [The, above, fraudster, is, continuously, mess...\n",
            "2    [He, is, acting, like, a, police, and, demandi...\n",
            "3    [In, apna, Job, I, have, applied, for, job, in...\n",
            "4    [I, received, a, call, from, lady, stating, th...\n",
            "Name: tokens, dtype: object\n",
            "0    [Sir, namaskar, mein, Ranjit, Kumar, PatraPais...\n",
            "1        [KOTAK, MAHINDRA, BANK, FRAUD, FRAUD, AMOUNT]\n",
            "2    [The, issue, actually, started, when, I, got, ...\n",
            "3    [I, am, amit, kumar, from, karwi, chitrakoot, ...\n",
            "4    [I, have, ordered, saree, and, blouse, from, r...\n",
            "Name: tokens, dtype: object\n"
          ]
        }
      ]
    },
    {
      "cell_type": "markdown",
      "source": [
        "## Task 3: Stop word removal"
      ],
      "metadata": {
        "id": "HHuh9dkO7cv8"
      }
    },
    {
      "cell_type": "markdown",
      "source": [
        "- NLP libraries like nltk come with predefined lists of stop words for various languages.\n",
        "- Let's first process the data for English words."
      ],
      "metadata": {
        "id": "gFBgH1SZM5sL"
      }
    },
    {
      "cell_type": "code",
      "source": [
        "# Download stopwords\n",
        "nltk.download('stopwords')"
      ],
      "metadata": {
        "colab": {
          "base_uri": "https://localhost:8080/"
        },
        "id": "5YVsbYiuv3xZ",
        "outputId": "13dec093-b881-4701-9bb5-f5a66f89dca7"
      },
      "execution_count": 50,
      "outputs": [
        {
          "output_type": "stream",
          "name": "stderr",
          "text": [
            "[nltk_data] Downloading package stopwords to /root/nltk_data...\n",
            "[nltk_data]   Unzipping corpora/stopwords.zip.\n"
          ]
        },
        {
          "output_type": "execute_result",
          "data": {
            "text/plain": [
              "True"
            ]
          },
          "metadata": {},
          "execution_count": 50
        }
      ]
    },
    {
      "cell_type": "code",
      "source": [
        "stop_words = set(stopwords.words('english'))\n",
        "\n",
        "df_train['tokens'] = df_train['tokens'].apply(lambda x: [word for word in x if word.lower() not in stop_words])\n",
        "df_test['tokens'] = df_test['tokens'].apply(lambda x: [word for word in x if word.lower() not in stop_words])"
      ],
      "metadata": {
        "id": "46-BDQrc7h9f"
      },
      "execution_count": 51,
      "outputs": []
    },
    {
      "cell_type": "code",
      "source": [
        "print(df_train['tokens'].head())\n",
        "print(df_test['tokens'].head())"
      ],
      "metadata": {
        "colab": {
          "base_uri": "https://localhost:8080/"
        },
        "id": "iEeOBaN08CgU",
        "outputId": "516e93ca-c23f-47a8-c4f0-91e6e3425570"
      },
      "execution_count": 52,
      "outputs": [
        {
          "output_type": "stream",
          "name": "stdout",
          "text": [
            "0    [continue, received, random, calls, abusive, m...\n",
            "1    [fraudster, continuously, messaging, Asking, p...\n",
            "2    [acting, like, police, demanding, money, addin...\n",
            "3    [apna, Job, applied, job, interview, telecalli...\n",
            "4    [received, call, lady, stating, send, new, pho...\n",
            "Name: tokens, dtype: object\n",
            "0    [Sir, namaskar, mein, Ranjit, Kumar, PatraPais...\n",
            "1        [KOTAK, MAHINDRA, BANK, FRAUD, FRAUD, AMOUNT]\n",
            "2    [issue, actually, started, got, email, first, ...\n",
            "3    [amit, kumar, karwi, chitrakoot, totally, depr...\n",
            "4    [ordered, saree, blouse, rinki, sur, paid, amo...\n",
            "Name: tokens, dtype: object\n"
          ]
        }
      ]
    },
    {
      "cell_type": "markdown",
      "source": [
        "## Task 4: Stemming"
      ],
      "metadata": {
        "id": "oap8sQUM8VTU"
      }
    },
    {
      "cell_type": "markdown",
      "source": [
        "- Stemming is a Natural Language Processing (NLP) technique used to reduce words to their root or base form.\n",
        "\n",
        "- The goal is to group together words that have the same meaning but appear in different grammatical forms.\n",
        "\n",
        "- I will apply stemming to the tokens created during Tokenization"
      ],
      "metadata": {
        "id": "6sMkmlw7v9eY"
      }
    },
    {
      "cell_type": "code",
      "source": [
        "stemmer = PorterStemmer()\n",
        "\n",
        "df_train['tokens'] = df_train['tokens'].apply(lambda x: [stemmer.stem(word) for word in x])\n",
        "df_test['tokens'] = df_test['tokens'].apply(lambda x: [stemmer.stem(word) for word in x])"
      ],
      "metadata": {
        "id": "SqMF9LYQ8fAM"
      },
      "execution_count": 53,
      "outputs": []
    },
    {
      "cell_type": "code",
      "source": [
        "print(df_train['tokens'].head())\n",
        "print(df_test['tokens'].head())"
      ],
      "metadata": {
        "colab": {
          "base_uri": "https://localhost:8080/"
        },
        "id": "nuzB-W6d9LMA",
        "outputId": "5d03caff-ff08-466b-b308-32bc52ccd013"
      },
      "execution_count": 54,
      "outputs": [
        {
          "output_type": "stream",
          "name": "stdout",
          "text": [
            "0    [continu, receiv, random, call, abus, messag, ...\n",
            "1    [fraudster, continu, messag, ask, pay, money, ...\n",
            "2    [act, like, polic, demand, money, ad, section,...\n",
            "3    [apna, job, appli, job, interview, telecal, re...\n",
            "4    [receiv, call, ladi, state, send, new, phone, ...\n",
            "Name: tokens, dtype: object\n",
            "0    [sir, namaskar, mein, ranjit, kumar, patrapais...\n",
            "1        [kotak, mahindra, bank, fraud, fraud, amount]\n",
            "2    [issu, actual, start, got, email, first, glanc...\n",
            "3    [amit, kumar, karwi, chitrakoot, total, depres...\n",
            "4    [order, sare, blous, rinki, sur, paid, amount,...\n",
            "Name: tokens, dtype: object\n"
          ]
        }
      ]
    },
    {
      "cell_type": "code",
      "source": [
        "df_train.to_csv('train_processed.csv', index=False)\n",
        "df_test.to_csv('test_processed.csv', index=False)"
      ],
      "metadata": {
        "id": "DggOOLJ0qSIC"
      },
      "execution_count": 55,
      "outputs": []
    },
    {
      "cell_type": "code",
      "source": [
        "train_data = pd.read_csv('train_processed.csv')\n",
        "test_data = pd.read_csv('test_processed.csv')"
      ],
      "metadata": {
        "id": "115fxJCRq1Xg"
      },
      "execution_count": 56,
      "outputs": []
    },
    {
      "cell_type": "markdown",
      "source": [
        "# Goal 2. Model Development:\n",
        "\n",
        "Requirement:\n",
        "1. Encoding Text Data\n",
        "2. Choose Model\n",
        "3. Train the Model"
      ],
      "metadata": {
        "id": "zcC-iyVcMpMP"
      }
    },
    {
      "cell_type": "markdown",
      "source": [
        "## Task 1: Feature Encoding"
      ],
      "metadata": {
        "id": "53xhZ0CLMxqg"
      }
    },
    {
      "cell_type": "markdown",
      "source": [
        "- There are 3 columns in the dataset that require conversion from categorical or textual data to numeric form, which is a process known as feature encoding.\n",
        "\n",
        "- The columns that need encoding are:\n",
        "\n",
        "    1. category\n",
        "    2. sub_category\n",
        "    3. tokens\n",
        "\n",
        "- Label Encoding is suitable for the category and sub_category columns, as these have 15 and 35 unique values, respectively, that repeat throughout the dataset.\n",
        "\n",
        "- The tokens column is a preprocessed version of the crimeaditionalinfo column, containing root words.\n",
        "\n",
        "- For tokens, TF-IDF Vectorization is ideal as it converts textual data into numeric form by assigning importance to each token based on its frequency in the dataset."
      ],
      "metadata": {
        "id": "IVlt8CZHumv0"
      }
    },
    {
      "cell_type": "markdown",
      "source": [
        "#### Step 1 : Import statements"
      ],
      "metadata": {
        "id": "LJPx27FxJJlq"
      }
    },
    {
      "cell_type": "code",
      "source": [
        "import pandas as pd\n",
        "from sklearn.preprocessing import LabelEncoder\n",
        "from sklearn.feature_extraction.text import TfidfVectorizer\n",
        "from scipy.sparse import hstack"
      ],
      "metadata": {
        "id": "orgTd7C7JNVj"
      },
      "execution_count": 57,
      "outputs": []
    },
    {
      "cell_type": "markdown",
      "source": [
        "#### Step 2 : Label Encoding of 'category' and 'sub_category'"
      ],
      "metadata": {
        "id": "dzdtrdZ281rI"
      }
    },
    {
      "cell_type": "markdown",
      "source": [
        "- Label Encoding is a technique used to convert categorical data (like labels or categories) into numeric values.\n",
        "\n",
        "- This is important for machine learning algorithms since they typically require numerical input.\n",
        "\n",
        "- In label encoding, each unique label within given data is assigned a unique integer."
      ],
      "metadata": {
        "id": "-fcvhFatGmqN"
      }
    },
    {
      "cell_type": "code",
      "source": [
        "label_encoder = LabelEncoder()\n",
        "\n",
        "# now I will categories and sub_categories from both train and test data for consistency\n",
        "combined_categories = pd.concat([train_data['category'], test_data['category']], axis=0)\n",
        "combined_sub_categories = pd.concat([train_data['sub_category'], test_data['sub_category']], axis=0)\n",
        "\n",
        "# label encoding for category\n",
        "label_encoder.fit(combined_categories)\n",
        "train_data['category_encoded'] = label_encoder.transform(train_data['category'])\n",
        "test_data['category_encoded'] = label_encoder.transform(test_data['category'])\n",
        "\n",
        "# label encoding for sub_category\n",
        "label_encoder.fit(combined_sub_categories)\n",
        "train_data['sub_category_encoded'] = label_encoder.transform(train_data['sub_category'])\n",
        "test_data['sub_category_encoded'] = label_encoder.transform(test_data['sub_category'])"
      ],
      "metadata": {
        "id": "Zb3PyJchwWnq"
      },
      "execution_count": 58,
      "outputs": []
    },
    {
      "cell_type": "markdown",
      "source": [
        "#### Step 3 : TF-IDF Vectorization on 'tokens' column"
      ],
      "metadata": {
        "id": "cJXKO4p40eze"
      }
    },
    {
      "cell_type": "markdown",
      "source": [
        "- TF-IDF (Term Frequency-Inverse Document Frequency) is a statistical technique used in Natural Language Processing (NLP) to transform text data into numerical vectors, which can then be used by machine learning algorithms.\n",
        "\n",
        "- Terms to remember:\n",
        "  - Corpus : Collection of documents\n",
        "\n",
        "- Components of TF-IDF:\n",
        "  - Term Frequency (TF) : This measures how frequently a term (word) appears in a document\n",
        "\n",
        "  - Inverse Document Frequency (IDF) : This measures how important a term is within the entire corpus\n",
        "\n",
        "  - TF-IDF Score : The TF-IDF score is the product of TF and IDF\n"
      ],
      "metadata": {
        "id": "mXkEc66jEPQd"
      }
    },
    {
      "cell_type": "code",
      "source": [
        "# apply TF-IDF Vectorization to 'token' column\n",
        "\n",
        "vectorizer = TfidfVectorizer(tokenizer=lambda x: x.split(), stop_words='english', max_features=10000)\n",
        "X_train_tokens = vectorizer.fit_transform(train_data['tokens'].apply(' '.join))\n",
        "X_test_tokens = vectorizer.transform(test_data['tokens'].apply(' '.join))"
      ],
      "metadata": {
        "colab": {
          "base_uri": "https://localhost:8080/"
        },
        "id": "ycFKDDNz0dPx",
        "outputId": "e4daba41-1908-4622-8b3d-02d8028d1d25"
      },
      "execution_count": 59,
      "outputs": [
        {
          "output_type": "stream",
          "name": "stderr",
          "text": [
            "/usr/local/lib/python3.10/dist-packages/sklearn/feature_extraction/text.py:521: UserWarning: The parameter 'token_pattern' will not be used since 'tokenizer' is not None'\n",
            "  warnings.warn(\n"
          ]
        }
      ]
    },
    {
      "cell_type": "markdown",
      "source": [
        "#### Step 4 : Combinining TF-IDF features with the encoded columns"
      ],
      "metadata": {
        "id": "mFb_-lXS-F67"
      }
    },
    {
      "cell_type": "markdown",
      "source": [
        "- Combine TF-IDF encoded data with the encoded 'category' and 'sub_category'"
      ],
      "metadata": {
        "id": "Pa3proHCw7zX"
      }
    },
    {
      "cell_type": "code",
      "source": [
        "X_train_numeric = train_data[['category_encoded', 'sub_category_encoded']].values\n",
        "X_test_numeric = test_data[['category_encoded', 'sub_category_encoded']].values\n",
        "\n",
        "X_train_combined = hstack([X_train_tokens, X_train_numeric])\n",
        "X_test_combined = hstack([X_test_tokens, X_test_numeric])"
      ],
      "metadata": {
        "id": "i5rNruum2WGr"
      },
      "execution_count": 60,
      "outputs": []
    },
    {
      "cell_type": "markdown",
      "source": [
        "#### Step 5: Converting sparse matrices to dense format"
      ],
      "metadata": {
        "id": "SCJL_OqeCXEo"
      }
    },
    {
      "cell_type": "markdown",
      "source": [
        "- sparse matrices are matrices where most of the elements are zero.\n",
        "\n",
        "- They are typically used to store large datasets efficiently by only storing the non-zero elements along with their indices.\n",
        "\n",
        "- When a sparse matrix is converted to a dense matrix, the matrix is fully expanded, and all the zero elements are explicitly stored.\n",
        "\n",
        "-  many classical machine learning algorithms (like Logistic Regression) work better with dense matrices\n",
        "\n",
        "- Dense matrices can sometimes be easier to work with in terms of manipulation or visualization, as they don't require special handling for zeros."
      ],
      "metadata": {
        "id": "chyQz1gJDiVM"
      }
    },
    {
      "cell_type": "code",
      "source": [
        "X_train_df = pd.DataFrame(X_train_combined.todense())\n",
        "X_test_df = pd.DataFrame(X_test_combined.todense())"
      ],
      "metadata": {
        "id": "rUmXcXmCEmkr"
      },
      "execution_count": 61,
      "outputs": []
    },
    {
      "cell_type": "markdown",
      "source": [
        "#### Step 6 : Save combined features to CSV"
      ],
      "metadata": {
        "id": "2qyUQ_puHkB_"
      }
    },
    {
      "cell_type": "code",
      "source": [
        "X_train_df.to_csv('X_train_combined.csv', index=False)\n",
        "X_test_df.to_csv('X_test_combined.csv', index=False)"
      ],
      "metadata": {
        "id": "p0w0YY9KHnOL"
      },
      "execution_count": 62,
      "outputs": []
    },
    {
      "cell_type": "markdown",
      "source": [
        "#### Step 7: Verifying the combined features"
      ],
      "metadata": {
        "id": "gnejlwQSKgtB"
      }
    },
    {
      "cell_type": "code",
      "source": [
        "print(X_train_df.head())\n",
        "print(X_test_df.head())"
      ],
      "metadata": {
        "colab": {
          "base_uri": "https://localhost:8080/"
        },
        "id": "y4FpNXHVKSb3",
        "outputId": "88361814-2a66-419c-90f9-5f86471de60c"
      },
      "execution_count": 63,
      "outputs": [
        {
          "output_type": "stream",
          "name": "stdout",
          "text": [
            "         0         1         2         3         4         5         6   \\\n",
            "0  0.784404  0.379350  0.014439  0.014439  0.080803  0.074642  0.029830   \n",
            "1  0.780485  0.372374  0.019396  0.019396  0.000000  0.140369  0.060103   \n",
            "2  0.776003  0.371163  0.018366  0.018366  0.000000  0.094941  0.094854   \n",
            "3  0.792237  0.390073  0.007721  0.007721  0.043205  0.071840  0.055824   \n",
            "4  0.791791  0.376721  0.020712  0.020712  0.046363  0.128484  0.064183   \n",
            "\n",
            "         7         8         9   ...        20        21        22        23  \\\n",
            "0  0.147997  0.016585  0.072589  ...  0.178601  0.088920  0.119585  0.018405   \n",
            "1  0.218678  0.044557  0.024377  ...  0.159938  0.179163  0.080317  0.024722   \n",
            "2  0.320016  0.084382  0.046165  ...  0.170378  0.188502  0.038026  0.000000   \n",
            "3  0.221575  0.017736  0.048517  ...  0.119372  0.103015  0.055949  0.068887   \n",
            "4  0.275981  0.071372  0.000000  ...  0.085397  0.106291  0.042884  0.132002   \n",
            "\n",
            "         24        25        26   27    28    29  \n",
            "0  0.062164  0.000000  0.000000  0.0  10.0   6.0  \n",
            "1  0.055668  0.000000  0.049286  0.0   8.0  17.0  \n",
            "2  0.000000  0.046135  0.023335  0.0   9.0  23.0  \n",
            "3  0.088637  0.038788  0.019619  0.0  10.0  24.0  \n",
            "4  0.029723  0.000000  0.000000  0.0   8.0  17.0  \n",
            "\n",
            "[5 rows x 30 columns]\n",
            "         0         1         2         3         4         5         6   \\\n",
            "0  0.834407  0.415854  0.003166  0.003166  0.035431  0.036003  0.049050   \n",
            "1  0.774969  0.324335  0.064196  0.064196  0.071848  0.000000  0.198928   \n",
            "2  0.791566  0.392237  0.005246  0.005246  0.005871  0.081350  0.027092   \n",
            "3  0.783815  0.367402  0.025972  0.025972  0.000000  0.080553  0.080479   \n",
            "4  0.778861  0.374150  0.016831  0.016831  0.037674  0.017401  0.208619   \n",
            "\n",
            "         7         8         9   ...        20        21        22        23  \\\n",
            "0  0.142770  0.021818  0.047745  ...  0.084841  0.090978  0.042605  0.020176   \n",
            "1  0.000000  0.147472  0.000000  ...  0.000000  0.131775  0.199373  0.000000   \n",
            "2  0.225815  0.054227  0.065927  ...  0.091918  0.209972  0.065166  0.046804   \n",
            "3  0.133098  0.059662  0.032641  ...  0.133850  0.159935  0.080660  0.000000   \n",
            "4  0.207010  0.038664  0.021153  ...  0.104090  0.138195  0.104543  0.042906   \n",
            "\n",
            "         24        25        26        27    28    29  \n",
            "0  0.013629  0.000000  0.068378  0.000000  12.0  35.0  \n",
            "1  0.000000  0.000000  0.000000  0.000000   8.0  10.0  \n",
            "2  0.052694  0.026354  0.026659  0.016230   4.0  32.0  \n",
            "3  0.037270  0.000000  0.000000  0.080356   8.0  17.0  \n",
            "4  0.000000  0.000000  0.085537  0.000000   0.0  27.0  \n",
            "\n",
            "[5 rows x 30 columns]\n"
          ]
        }
      ]
    },
    {
      "cell_type": "markdown",
      "source": [
        "## Task 2: Choosing a model"
      ],
      "metadata": {
        "id": "5OcahGU0OozQ"
      }
    },
    {
      "cell_type": "markdown",
      "source": [
        "- Logistic Regression, although not inherently an NLP model, becomes a powerful tool in NLP when combined with text-specific preprocessing like TF-IDF vectorization.\n",
        "\n",
        "- This approach is lightweight, interpretable, and effective for text classification tasks.\n",
        "\n",
        "\n",
        "\n",
        "\n",
        "\n",
        "\n"
      ],
      "metadata": {
        "id": "gmutqNxoD-8V"
      }
    },
    {
      "cell_type": "markdown",
      "source": [
        "## Task 3 : Training the model\n",
        "- Hence, using logistic regression the moel will be trainined and it will become a part of NLP pipeline as it is being used with TF-IDF Vectorizer"
      ],
      "metadata": {
        "id": "qhJOXt44Oxlj"
      }
    },
    {
      "cell_type": "code",
      "source": [
        "from sklearn.linear_model import LogisticRegression\n",
        "from sklearn.metrics import accuracy_score, classification_report"
      ],
      "metadata": {
        "id": "OVL1YvNvVcaa"
      },
      "execution_count": 64,
      "outputs": []
    },
    {
      "cell_type": "markdown",
      "source": [
        "- Our target column is category as we are building this model to classify complaints into categories\n",
        "- I will train the"
      ],
      "metadata": {
        "id": "4s1LtAB3xPo1"
      }
    },
    {
      "cell_type": "code",
      "source": [
        "y_train = train_data['category']\n",
        "y_test = test_data['category']\n",
        "\n",
        "# logistic regression model\n",
        "model = LogisticRegression(max_iter=1000)\n",
        "model.fit(X_train_df, y_train)\n",
        "\n",
        "# predictions\n",
        "y_pred = model.predict(X_test_df)\n",
        "\n",
        "print(\"Classification Report:\")\n",
        "print(classification_report(y_test, y_pred, zero_division=0))"
      ],
      "metadata": {
        "colab": {
          "base_uri": "https://localhost:8080/"
        },
        "id": "5ZInbBz12eDQ",
        "outputId": "8629a5b1-f991-4d3f-fe1e-06fa69be1bff"
      },
      "execution_count": 66,
      "outputs": [
        {
          "output_type": "stream",
          "name": "stderr",
          "text": [
            "/usr/local/lib/python3.10/dist-packages/sklearn/linear_model/_logistic.py:469: ConvergenceWarning: lbfgs failed to converge (status=1):\n",
            "STOP: TOTAL NO. of ITERATIONS REACHED LIMIT.\n",
            "\n",
            "Increase the number of iterations (max_iter) or scale the data as shown in:\n",
            "    https://scikit-learn.org/stable/modules/preprocessing.html\n",
            "Please also refer to the documentation for alternative solver options:\n",
            "    https://scikit-learn.org/stable/modules/linear_model.html#logistic-regression\n",
            "  n_iter_i = _check_optimize_result(\n"
          ]
        },
        {
          "output_type": "stream",
          "name": "stdout",
          "text": [
            "Classification Report:\n",
            "                                                      precision    recall  f1-score   support\n",
            "\n",
            "                               Any Other Cyber Crime       1.00      1.00      1.00      3655\n",
            "Child Pornography CPChild Sexual Abuse Material CSAM       0.99      1.00      1.00       119\n",
            "                      Crime Against Women & Children       0.00      0.00      0.00         4\n",
            "                                Cryptocurrency Crime       0.98      0.99      0.99       164\n",
            "                      Cyber Attack/ Dependent Crimes       1.00      1.00      1.00      1261\n",
            "                                     Cyber Terrorism       0.78      0.98      0.87        51\n",
            "      Hacking  Damage to computercomputer system etc       1.00      0.94      0.97       588\n",
            "                            Online Cyber Trafficking       0.00      0.00      0.00        61\n",
            "                              Online Financial Fraud       0.99      1.00      0.99     17369\n",
            "                            Online Gambling  Betting       0.00      0.00      0.00       134\n",
            "               Online and Social Media Related Crime       0.99      1.00      1.00      4104\n",
            "                                          Ransomware       0.00      0.00      0.00        18\n",
            "           RapeGang Rape RGRSexually Abusive Content       0.00      0.00      0.00        87\n",
            "                               Sexually Explicit Act       0.87      1.00      0.93       522\n",
            "                           Sexually Obscene material       1.00      1.00      1.00       648\n",
            "\n",
            "                                            accuracy                           0.99     28785\n",
            "                                           macro avg       0.64      0.66      0.65     28785\n",
            "                                        weighted avg       0.98      0.99      0.98     28785\n",
            "\n"
          ]
        }
      ]
    },
    {
      "cell_type": "markdown",
      "source": [
        "# Goal 3. Accuracy Measurement:\n",
        "\n",
        "Requirement:\n",
        "\n",
        "Evaluate the model based on metrics such as accuracy, precision, recall, and F1-score.\n",
        "\n",
        "\n"
      ],
      "metadata": {
        "id": "fFpfPKGuDRNc"
      }
    },
    {
      "cell_type": "code",
      "source": [
        "from sklearn.metrics import precision_score, recall_score, f1_score"
      ],
      "metadata": {
        "id": "yJhJD2zUVTZh"
      },
      "execution_count": 67,
      "outputs": []
    },
    {
      "cell_type": "markdown",
      "source": [
        "## Accuracy"
      ],
      "metadata": {
        "id": "ChG12Ylex68T"
      }
    },
    {
      "cell_type": "code",
      "source": [
        "accuracy = accuracy_score(y_test, y_pred)\n",
        "print(f\"Accuracy: {accuracy * 100:.2f}%\")"
      ],
      "metadata": {
        "colab": {
          "base_uri": "https://localhost:8080/"
        },
        "id": "F2m9DauODPKl",
        "outputId": "15ed7320-c574-44d0-e01a-ed47467c6145"
      },
      "execution_count": 68,
      "outputs": [
        {
          "output_type": "stream",
          "name": "stdout",
          "text": [
            "Accuracy: 98.79%\n"
          ]
        }
      ]
    },
    {
      "cell_type": "markdown",
      "source": [
        "## Precision"
      ],
      "metadata": {
        "id": "vDGfIZ7Lx-9k"
      }
    },
    {
      "cell_type": "code",
      "source": [
        "precision = precision_score(y_test, y_pred, average='macro', zero_division=0)\n",
        "print(\"Precision (Macro Average):\", precision)\n",
        "\n",
        "precision = precision_score(y_test, y_pred, average='weighted', zero_division=0)\n",
        "print(\"Precision (Weighted Average):\", precision)"
      ],
      "metadata": {
        "colab": {
          "base_uri": "https://localhost:8080/"
        },
        "id": "TnxL4YPINWYj",
        "outputId": "a65e0e19-17a3-4ca2-9807-cd547de618ec"
      },
      "execution_count": 69,
      "outputs": [
        {
          "output_type": "stream",
          "name": "stdout",
          "text": [
            "Precision (Macro Average): 0.6400384856111221\n",
            "Precision (Weighted Average): 0.9779375147270788\n"
          ]
        }
      ]
    },
    {
      "cell_type": "markdown",
      "source": [
        "## Recall"
      ],
      "metadata": {
        "id": "EMPgDnBFyGMc"
      }
    },
    {
      "cell_type": "code",
      "source": [
        "recall = recall_score(y_test, y_pred, average='macro', zero_division=0)\n",
        "print(\"Recall (Macro Average):\", recall)\n",
        "\n",
        "recall = recall_score(y_test, y_pred, average='weighted', zero_division=0)\n",
        "print(\"Recall (Weighted Average):\", recall)"
      ],
      "metadata": {
        "colab": {
          "base_uri": "https://localhost:8080/"
        },
        "id": "EP5mv4bAODt0",
        "outputId": "95e6cd3b-cdae-4376-e14a-1845f1f8a1fe"
      },
      "execution_count": 70,
      "outputs": [
        {
          "output_type": "stream",
          "name": "stdout",
          "text": [
            "Recall (Macro Average): 0.6606996230885944\n",
            "Recall (Weighted Average): 0.9879103699843669\n"
          ]
        }
      ]
    },
    {
      "cell_type": "markdown",
      "source": [
        "## F1 Score"
      ],
      "metadata": {
        "id": "9Kq30CB4yJ0k"
      }
    },
    {
      "cell_type": "code",
      "source": [
        "f1_macro = f1_score(y_test, y_pred, average='macro')\n",
        "\n",
        "f1_weighted = f1_score(y_test, y_pred, average='weighted')\n",
        "\n",
        "print(\"F1 Score (Macro Average):\", f1_macro)\n",
        "print(\"F1 Score (Weighted Average):\", f1_weighted)\n"
      ],
      "metadata": {
        "colab": {
          "base_uri": "https://localhost:8080/"
        },
        "id": "Enc2xr3ONwPL",
        "outputId": "efc7ac24-97de-4f34-9360-fbd93538851a"
      },
      "execution_count": 71,
      "outputs": [
        {
          "output_type": "stream",
          "name": "stdout",
          "text": [
            "F1 Score (Macro Average): 0.6492807584159992\n",
            "F1 Score (Weighted Average): 0.9827876343059009\n"
          ]
        }
      ]
    },
    {
      "cell_type": "markdown",
      "source": [
        "# Goal 4 : Accessing the Model"
      ],
      "metadata": {
        "id": "Ie_W-qNb4SXm"
      }
    },
    {
      "cell_type": "markdown",
      "source": [
        "## Step 1: save the Trained Model"
      ],
      "metadata": {
        "id": "9mtjpYt44iW4"
      }
    },
    {
      "cell_type": "code",
      "source": [
        "import joblib"
      ],
      "metadata": {
        "id": "okgla5Nf4o_y"
      },
      "execution_count": 72,
      "outputs": []
    },
    {
      "cell_type": "code",
      "source": [
        "joblib.dump(model, 'trained_model.pkl')"
      ],
      "metadata": {
        "colab": {
          "base_uri": "https://localhost:8080/"
        },
        "id": "Pkgcua6q4eFv",
        "outputId": "7e75a74a-b42a-45b7-e1b1-acaee4398e5b"
      },
      "execution_count": 73,
      "outputs": [
        {
          "output_type": "execute_result",
          "data": {
            "text/plain": [
              "['trained_model.pkl']"
            ]
          },
          "metadata": {},
          "execution_count": 73
        }
      ]
    },
    {
      "cell_type": "markdown",
      "source": [
        "## Step 2: Load the Model in Streamlit"
      ],
      "metadata": {
        "id": "S1QDXRxB4tae"
      }
    },
    {
      "cell_type": "code",
      "source": [
        "def load_model(path):\n",
        "    return joblib.load(path)"
      ],
      "metadata": {
        "id": "pg0pKiLY4zi7"
      },
      "execution_count": 74,
      "outputs": []
    },
    {
      "cell_type": "markdown",
      "source": [
        "## Step 3: Prediction Function"
      ],
      "metadata": {
        "id": "OCHq12jh44OR"
      }
    },
    {
      "cell_type": "code",
      "source": [
        "def predict_single(text, model):\n",
        "    # Preprocess the text\n",
        "    preprocessed_text = preprocess_text(text)\n",
        "\n",
        "    # Predict category\n",
        "    prediction = model.predict([preprocessed_text])[0]\n",
        "    return prediction\n"
      ],
      "metadata": {
        "id": "1KhZ52-O47XX"
      },
      "execution_count": 80,
      "outputs": []
    },
    {
      "cell_type": "markdown",
      "source": [
        "# Credits\n",
        "\n",
        "- **Datasets**: The datasets I have used are taken from [IndiaAI app](https://indiaai.gov.in/cyberguard-ai-hackathon).\n",
        "  - [train.csv](https://indiaai.s3.ap-south-1.amazonaws.com/docs/test.csv)\n",
        "  - [text.csv](https://indiaai.s3.ap-south-1.amazonaws.com/docs/train.csv)\n",
        "\n",
        "---\n",
        "\n",
        "- **Libraries and Tools Used**:\n",
        "  - Pandas: Data manipulation and analysis ([Pandas Documentation](https://pandas.pydata.org/))\n",
        "  - NumPy: Numerical computations ([NumPy Documentation](https://numpy.org/))\n",
        "  - Matplotlib: Data visualization ([Matplotlib Documentation](https://matplotlib.org/))\n",
        "  - Seaborn: Statistical data visualization ([Seaborn Documentation](https://seaborn.pydata.org/))\n",
        "  - Scikit-learn: Preprocessing and modeling ([Scikit-learn Documentation](https://scikit-learn.org/))\n",
        "  - NLTK: Natural Language Toolkit for text processing and analysis ([NLTK Documentation](https://www.nltk.org/))\n",
        "  \n",
        "  Additional Acknowledgments:\n",
        "  - `PorterStemmer` from NLTK for stemming operations\n",
        "  - Tokenization and stopword filtering functionalities provided by NLTK\n",
        "  - Python's standard libraries such as `re` and `string` for text manipulation\n",
        "  \n",
        "  Special thanks to the contributors of these open-source libraries for making this project possible!\n",
        "\n",
        "---\n",
        "\n",
        "- **Inspiration**:\n",
        "  - IndiaAI CyberGuard AI Hackathon 2024\n",
        "\n",
        "---\n",
        "\n",
        "- **External Tools**: Google Colab, GitHub, Google Search, Google Scholar\n",
        "\n",
        "- **AI Tools and Usage:**\n",
        "This project leveraged OpenAI's ChatGPT, Google Gemini for:\n",
        "  - Generating ideas for efficient text preprocessing techniques.\n",
        "  - Clarifying concepts related to natural language processing and machine learning.\n",
        "  - Debugging Python code\n",
        "  - Providing optimization suggestions which were reviewed, validated, and implemented by the developer.\n",
        "  \n",
        "All outputs from ChatGPT, Gemini were critically analyzed, modified, and implemented by developer to align with project requirements.\n",
        "ChatGPT, Gemini served as a productivity booster rather than a direct contributor to the code.\n",
        "\n",
        "- **Research References**:\n",
        "  - [Data preprocessing by Hui Yang Department of Computer Science San Francisco State University](https://citeseerx.ist.psu.edu/document?repid=rep1&type=pdf&doi=53fef985237ae14efddeaf202d44c35ce714d8e2)\n",
        "  - [Using TF-IDF to Determine Word Relevance in Document Queries by Juan Ramos Department of Computer Science, Rutgers University](https://citeseerx.ist.psu.edu/document?repid=rep1&type=pdf&doi=b3bf6373ff41a115197cb5b30e57830c16130c2c)\n",
        "- **YouTube Reference**:\n",
        "  - [Text Representation Using TF-IDF: NLP Tutorial For Beginners - S2 E6 by codebasics](https://www.youtube.com/watch?v=ATK6fm3cYfI&t=1327s)\n",
        "  - [How to convert categorical data to numerical data in python | Python Basics Tutorial by Abhishek Agarrwal](https://www.youtube.com/watch?v=RehA-5OjTN4&t=82s)\n",
        "  - [Text Preprocessing | tokenization | cleaning | stemming | stopwords | lemmatization by Utsav Aggarwal](https://youtu.be/hhjn4HVEdy0?si=WpNsPwoX0uqFjwP_)\n",
        "  - [Logistic Regression | Logistic Regression in Python | Machine Learning Algorithms | Simplilearn](https://www.youtube.com/watch?v=XnOAdxOWXWg)\n",
        "\n",
        "---\n",
        "\n",
        "- **Summary of Contributions**\n",
        "  - By leveraging a combination of research, open-source tools, and AI-assisted development, this project demonstrates a thoughtful and efficient approach to solving text analytics challenges.\n",
        "  - Each component was carefully implemented with an emphasis on originality and transparency, ensuring adherence to ethical standards."
      ],
      "metadata": {
        "id": "Dy61z917dqw_"
      }
    },
    {
      "cell_type": "markdown",
      "source": [
        "# Future scope:\n",
        "\n",
        "From my observations:\n",
        "\n",
        "1.   Processing of Hindi text, Hindi words written in English must be performed to make accurate predictions\n",
        "2.   class imbalances should be reduced. For this we can use 'SMOTE'\n",
        "3.   SMOTE can be useful for generating more entries, training the model and reducing the class imbalances\n",
        "4.   More advanced NLP Models can be leveraged"
      ],
      "metadata": {
        "id": "-XMfOFaMN8VY"
      }
    }
  ]
}